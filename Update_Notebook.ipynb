{
 "cells": [
  {
   "cell_type": "code",
   "execution_count": 1,
   "metadata": {},
   "outputs": [],
   "source": [
    "import numpy as np\n",
    "import pandas as pd\n",
    "import matplotlib.pyplot as plt\n",
    "import seaborn as sns\n",
    "import stock_module as sm\n",
    "import random\n",
    "import os\n",
    "import datetime\n",
    "import time\n",
    "from datetime import date"
   ]
  },
  {
   "cell_type": "markdown",
   "metadata": {},
   "source": [
    "### DAILY"
   ]
  },
  {
   "cell_type": "code",
   "execution_count": 2,
   "metadata": {},
   "outputs": [],
   "source": [
    "updated_stocks_test = sm.update_stock_values()\n",
    "    # Ana stok verisinde en son tarihten sonra gerçekleşen fiyatları da ekleyecektir.\n",
    "    # İlave olarak yeni borsaya kote olmuş firmaların da verisini ekleyecektir.\n",
    "    # bunu yaptıktan sonra genel veriyi güncellemeyi unutma. \"pd.to_pickle\" komutu ile.\n",
    "    # devam eden iki satır güncelleme için örnek.  \n",
    "updated_stocks_test.to_pickle(\"stocks_values\")"
   ]
  },
  {
   "cell_type": "code",
   "execution_count": 3,
   "metadata": {},
   "outputs": [],
   "source": [
    "updated_stock_values_pivot = sm.values_all_stocks()\n",
    "    # stok verisini pivota çevirecektir.\n",
    "    # Daha hızlı okunabilmesi adına\n",
    "updated_stock_values_pivot.to_pickle(\"stocks_values_pivot\")"
   ]
  },
  {
   "cell_type": "code",
   "execution_count": 4,
   "metadata": {},
   "outputs": [],
   "source": [
    "# This is to update book values daily - for monthly see quarterly section\n",
    "marketValues = sm.update_bookVal_Daily()\n",
    "marketValues.to_pickle(\"marketValues\")"
   ]
  },
  {
   "cell_type": "code",
   "execution_count": 5,
   "metadata": {},
   "outputs": [],
   "source": [
    "# This is to update bear-bull table- return table\n",
    "frame = sm.bear_bull_analysis()\n",
    "frame.to_pickle(\"returnTable\")"
   ]
  },
  {
   "cell_type": "code",
   "execution_count": 6,
   "metadata": {},
   "outputs": [],
   "source": [
    "volumeFrame = sm.volumeTable()\n",
    "volumeFrame.to_pickle(\"volume_frame\")"
   ]
  },
  {
   "cell_type": "markdown",
   "metadata": {},
   "source": [
    "### QUARTERLY"
   ]
  },
  {
   "cell_type": "markdown",
   "metadata": {},
   "source": [
    "#### Financials"
   ]
  },
  {
   "cell_type": "code",
   "execution_count": null,
   "metadata": {},
   "outputs": [],
   "source": [
    "# Hangi dönem eklenecekse, onu ekle."
   ]
  },
  {
   "cell_type": "code",
   "execution_count": 8,
   "metadata": {},
   "outputs": [],
   "source": [
    "update_all_fs = sm.update_financials(2019,12)"
   ]
  },
  {
   "cell_type": "code",
   "execution_count": 10,
   "metadata": {},
   "outputs": [],
   "source": [
    "update_all_fs = sm.update_financials(2020,3)"
   ]
  },
  {
   "cell_type": "code",
   "execution_count": 26,
   "metadata": {},
   "outputs": [],
   "source": [
    "financials = pd.read_pickle(\"all_financials\")"
   ]
  },
  {
   "cell_type": "code",
   "execution_count": 28,
   "metadata": {},
   "outputs": [],
   "source": [
    "fin_ratio_tables = create_finRatio_Table() # it takes time"
   ]
  },
  {
   "cell_type": "code",
   "execution_count": 65,
   "metadata": {},
   "outputs": [],
   "source": [
    "fin_ratio_tables.to_pickle(\"financial_ratios_Summary_Table\")"
   ]
  },
  {
   "cell_type": "markdown",
   "metadata": {},
   "source": [
    "#### Book Values"
   ]
  },
  {
   "cell_type": "code",
   "execution_count": null,
   "metadata": {},
   "outputs": [],
   "source": [
    "marketValues = sm.update_market_value_frame()"
   ]
  },
  {
   "cell_type": "code",
   "execution_count": null,
   "metadata": {},
   "outputs": [],
   "source": [
    "marketValues.to_pickle(\"marketValues\")"
   ]
  },
  {
   "cell_type": "code",
   "execution_count": null,
   "metadata": {},
   "outputs": [],
   "source": []
  },
  {
   "cell_type": "code",
   "execution_count": null,
   "metadata": {},
   "outputs": [],
   "source": []
  },
  {
   "cell_type": "code",
   "execution_count": null,
   "metadata": {},
   "outputs": [],
   "source": []
  }
 ],
 "metadata": {
  "kernelspec": {
   "display_name": "my_env_stock",
   "language": "python",
   "name": "my_env_stock"
  },
  "language_info": {
   "codemirror_mode": {
    "name": "ipython",
    "version": 3
   },
   "file_extension": ".py",
   "mimetype": "text/x-python",
   "name": "python",
   "nbconvert_exporter": "python",
   "pygments_lexer": "ipython3",
   "version": "3.7.6"
  }
 },
 "nbformat": 4,
 "nbformat_minor": 4
}
