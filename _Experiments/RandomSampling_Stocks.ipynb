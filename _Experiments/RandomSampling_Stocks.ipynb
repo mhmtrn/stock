{
 "cells": [
  {
   "cell_type": "code",
   "execution_count": 1,
   "metadata": {},
   "outputs": [],
   "source": [
    "import numpy as np\n",
    "import pandas as pd\n",
    "import matplotlib.pyplot as plt\n",
    "import seaborn as sns\n",
    "import stock_module as sm\n",
    "import random\n",
    "import os\n",
    "import datetime"
   ]
  },
  {
   "cell_type": "code",
   "execution_count": 2,
   "metadata": {},
   "outputs": [],
   "source": [
    "os.chdir(\"/Users/mturan/Desktop/Scripts/stock_analysis\")"
   ]
  },
  {
   "cell_type": "code",
   "execution_count": 3,
   "metadata": {},
   "outputs": [
    {
     "data": {
      "text/plain": [
       "'/Users/mturan/Desktop/Scripts/stock_analysis'"
      ]
     },
     "execution_count": 3,
     "metadata": {},
     "output_type": "execute_result"
    }
   ],
   "source": [
    "os.getcwd()"
   ]
  },
  {
   "cell_type": "code",
   "execution_count": 4,
   "metadata": {},
   "outputs": [],
   "source": [
    "all_stock_value = pd.read_pickle(\"stocks_values\")"
   ]
  },
  {
   "cell_type": "code",
   "execution_count": null,
   "metadata": {},
   "outputs": [],
   "source": [
    "stock_names = list(set(all_stock_value[\"HGDG_HS_KODU\"]))"
   ]
  },
  {
   "cell_type": "code",
   "execution_count": null,
   "metadata": {},
   "outputs": [],
   "source": [
    "len(stock_names)"
   ]
  },
  {
   "cell_type": "code",
   "execution_count": null,
   "metadata": {},
   "outputs": [],
   "source": [
    "print(\"Randomly selected stocks in BIST:\", random.sample(stock_names, 10))"
   ]
  },
  {
   "cell_type": "code",
   "execution_count": null,
   "metadata": {},
   "outputs": [],
   "source": [
    "def transform_stock_values(all_stock_value):\n",
    "    stocks = all_stock_value\n",
    "    stocks[\"YEAR\"] = stocks.HGDG_TARIH.dt.year\n",
    "    stocks.index = stocks.HGDG_TARIH\n",
    "    return stocks"
   ]
  },
  {
   "cell_type": "code",
   "execution_count": null,
   "metadata": {},
   "outputs": [],
   "source": [
    "def get_stock_change(stock_name, start_year, end_year, all_stock_value):\n",
    "    all_stock_value = transform_stock_values(all_stock_value)\n",
    "    stock = all_stock_value.loc[all_stock_value[\"HGDG_HS_KODU\"] == str(stock_name)]\n",
    "    stock = stock.loc[stock[\"YEAR\"]>start_year-1]\n",
    "    stock_start = stock.loc[stock[\"YEAR\"] == start_year]\n",
    "    stock_end = stock.loc[stock[\"YEAR\"] == end_year]\n",
    "    start_median_value = stock_start.HGDG_KAPANIS.median()\n",
    "    end_median_value = stock_end.HGDG_KAPANIS.median()\n",
    "    \n",
    "    ret = (end_median_value - start_median_value) / start_median_value\n",
    "    \n",
    "    return ret"
   ]
  },
  {
   "cell_type": "code",
   "execution_count": null,
   "metadata": {},
   "outputs": [],
   "source": [
    "get_stock_change(\"ASELS\", 2015, 2020, all_stock_value)"
   ]
  },
  {
   "cell_type": "code",
   "execution_count": null,
   "metadata": {},
   "outputs": [],
   "source": [
    "def get_average(number_of_stocks, start_year, end_year, stock_names, all_stock_value):\n",
    "    stocks = transform_stock_values(all_stock_value)\n",
    "    # stock_names = list(set(stocks.HGDG_HS_KODU))\n",
    "    \n",
    "    random_stock_names = random.sample(stock_names, number_of_stocks)\n",
    "    print(random_stock_names)\n",
    "    all_returns = [] \n",
    "    for stock in random_stock_names:\n",
    "        ret = get_stock_change(str(stock), start_year, end_year, all_stock_value)\n",
    "        all_returns.append(ret)\n",
    "    print(all_returns)\n",
    "    mean_of_returns = np.array(all_returns).mean()\n",
    "    print(mean_of_returns)\n",
    "    return mean_of_returns"
   ]
  },
  {
   "cell_type": "code",
   "execution_count": null,
   "metadata": {},
   "outputs": [],
   "source": [
    "get_average(10, 2015, 2020, stock_names, all_stock_value)"
   ]
  },
  {
   "cell_type": "code",
   "execution_count": null,
   "metadata": {},
   "outputs": [],
   "source": [
    "def sampling(number_of_stocks, start_year, end_year, number_of_samples, stock_names, all_stock_value):\n",
    "    \n",
    "    stocks = transform_stock_values(all_stock_value)\n",
    "    stock_names = list(set(stocks.HGDG_HS_KODU)) \n",
    "        \n",
    "    valid = []\n",
    "    non_valid = []\n",
    "    for name in stock_names:\n",
    "        stock = stocks.loc[stocks[\"HGDG_HS_KODU\"] == str(name)]\n",
    "        if (stock.YEAR.min() <= start_year and stock.YEAR.max() >= end_year):\n",
    "            valid.append(name)\n",
    "        else:\n",
    "            non_valid.append(name)\n",
    "            \n",
    "    stock_names = valid\n",
    "    print(\"ok!\")\n",
    "    \n",
    "    alls = [] \n",
    "    for i in range(number_of_samples):\n",
    "        alls.append(get_average(number_of_stocks, start_year, end_year, stock_names, all_stock_value))\n",
    "        \n",
    "    print(\"-\"*50)\n",
    "    print(\"All samples' means\")\n",
    "    print(alls)\n",
    "    \n",
    "    return np.array(alls).mean()"
   ]
  },
  {
   "cell_type": "code",
   "execution_count": null,
   "metadata": {
    "scrolled": true
   },
   "outputs": [],
   "source": [
    "sampling(10, 2010, 2020, 10, stock_names, all_stock_value)"
   ]
  },
  {
   "cell_type": "code",
   "execution_count": null,
   "metadata": {},
   "outputs": [],
   "source": []
  },
  {
   "cell_type": "code",
   "execution_count": null,
   "metadata": {},
   "outputs": [],
   "source": []
  },
  {
   "cell_type": "code",
   "execution_count": null,
   "metadata": {},
   "outputs": [],
   "source": [
    "def get_stock_change_(stock_name, start_year, end_year, all_stock_value):\n",
    "    all_stock_value = transform_stock_values(all_stock_value)\n",
    "    stock = all_stock_value.loc[all_stock_value[\"HGDG_HS_KODU\"] == str(stock_name)]\n",
    "    stock = stock.loc[stock[\"YEAR\"]>start_year-1]\n",
    "    stock_start = stock.loc[stock[\"YEAR\"] == start_year]\n",
    "    stock_end = stock.loc[stock[\"YEAR\"] == end_year]\n",
    "    start_median_value = stock_start.HGDG_KAPANIS.median()\n",
    "    end_median_value = stock_end.HGDG_KAPANIS.median()\n",
    "    \n",
    "    ret = (end_median_value - start_median_value) / start_median_value\n",
    "    \n",
    "    return ret"
   ]
  },
  {
   "cell_type": "markdown",
   "metadata": {},
   "source": [
    "---"
   ]
  },
  {
   "cell_type": "code",
   "execution_count": null,
   "metadata": {},
   "outputs": [],
   "source": []
  },
  {
   "cell_type": "code",
   "execution_count": null,
   "metadata": {},
   "outputs": [],
   "source": []
  },
  {
   "cell_type": "code",
   "execution_count": null,
   "metadata": {},
   "outputs": [],
   "source": []
  },
  {
   "cell_type": "code",
   "execution_count": null,
   "metadata": {},
   "outputs": [],
   "source": []
  },
  {
   "cell_type": "code",
   "execution_count": null,
   "metadata": {},
   "outputs": [],
   "source": [
    "# firmaların yaşına göre kriterlendir ve stok adedini daralt\n",
    "# bunu mali görünüme göre de yap\n",
    "# bunu volatiliteye göre de yap\n",
    "# P/D oranına göre de yap"
   ]
  },
  {
   "cell_type": "code",
   "execution_count": null,
   "metadata": {},
   "outputs": [],
   "source": []
  },
  {
   "cell_type": "code",
   "execution_count": null,
   "metadata": {},
   "outputs": [],
   "source": [
    "get_stock_change(\"MGROS\", 2015, 2020, all_stock_value)"
   ]
  },
  {
   "cell_type": "code",
   "execution_count": null,
   "metadata": {},
   "outputs": [],
   "source": []
  },
  {
   "cell_type": "code",
   "execution_count": null,
   "metadata": {},
   "outputs": [],
   "source": [
    "get_average(10, 2015, 2020, stock_names, all_stock_value)"
   ]
  },
  {
   "cell_type": "code",
   "execution_count": null,
   "metadata": {},
   "outputs": [],
   "source": []
  },
  {
   "cell_type": "code",
   "execution_count": null,
   "metadata": {},
   "outputs": [],
   "source": [
    "all_stock_value.loc[all_stock_value[\"HGDG_HS_KODU\"] == \"DERAS\"]"
   ]
  },
  {
   "cell_type": "code",
   "execution_count": null,
   "metadata": {},
   "outputs": [],
   "source": []
  },
  {
   "cell_type": "code",
   "execution_count": null,
   "metadata": {},
   "outputs": [],
   "source": [
    "stock = all_stock_value.loc[all_stock_value[\"HGDG_HS_KODU\"] == \"ENJSA\"]\n",
    "stock = stock.loc[stock[\"YEAR\"] > 2014]\n",
    "stock = stock.sort_values(by=[\"HGDG_TARIH\"])\n",
    "stock.index = stock.HGDG_TARIH"
   ]
  },
  {
   "cell_type": "code",
   "execution_count": null,
   "metadata": {},
   "outputs": [],
   "source": [
    "stock"
   ]
  },
  {
   "cell_type": "code",
   "execution_count": null,
   "metadata": {},
   "outputs": [],
   "source": []
  }
 ],
 "metadata": {
  "kernelspec": {
   "display_name": "my_env_stock",
   "language": "python",
   "name": "my_env_stock"
  },
  "language_info": {
   "codemirror_mode": {
    "name": "ipython",
    "version": 3
   },
   "file_extension": ".py",
   "mimetype": "text/x-python",
   "name": "python",
   "nbconvert_exporter": "python",
   "pygments_lexer": "ipython3",
   "version": "3.7.6"
  }
 },
 "nbformat": 4,
 "nbformat_minor": 4
}
