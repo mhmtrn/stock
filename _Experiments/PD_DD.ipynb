{
 "cells": [
  {
   "cell_type": "code",
   "execution_count": 297,
   "metadata": {},
   "outputs": [],
   "source": [
    "import numpy as np\n",
    "import pandas as pd\n",
    "import matplotlib.pyplot as plt\n",
    "import seaborn as sns\n",
    "import stock_module as sm\n",
    "import random\n",
    "import os\n",
    "import datetime\n",
    "import time\n",
    "import datetime\n",
    "from datetime import date"
   ]
  },
  {
   "cell_type": "code",
   "execution_count": 318,
   "metadata": {},
   "outputs": [],
   "source": [
    "def book_values(stock_name: str):\n",
    "    \"\"\"\n",
    "    AMAÇ: Belirtilen hisse senedi için, her mali dönemin defter değerini (özkaynak) getirmek\n",
    "    \"\"\"\n",
    "    bv = []\n",
    "    for term in [3,6,9,12]:\n",
    "        bv.append(sm.get_financial_ratio([stock_name], term, \"equity\"))\n",
    "    bv = pd.concat(bv)\n",
    "    \n",
    "    new = pd.DataFrame(bv.index.str.split('/',1).tolist(), columns = ['year','month'])\n",
    "    bv = bv.reset_index(drop=True)\n",
    "    bv = bv.join(new)\n",
    "    bv['day'] = np.where(bv['month']==\"3\", 31, (np.where(bv['month']==\"12\", 31, 30)))\n",
    "    \n",
    "    bv[\"year\"] = bv[\"year\"].apply(int)\n",
    "    bv[\"month\"] = bv[\"month\"].apply(int)\n",
    "    df = pd.DataFrame(pd.to_datetime(pd.DataFrame({'year': bv[\"year\"], 'month': bv[\"month\"], 'day': bv[\"day\"]})))\n",
    "    bv = bv.join(df)\n",
    "    \n",
    "    bv[\"date\"] = bv[0]\n",
    "    bv = bv.drop(['year', 'month', \"day\", 0], axis=1)\n",
    "    bv.index = bv[\"date\"]\n",
    "    bv[\"book_value\"] = bv.iloc[:,0]\n",
    "    bv = pd.DataFrame(bv.iloc[:,2])\n",
    "    \n",
    "    bv = bv.sort_index()\n",
    "    bv[\"stock_name\"] = stock_name\n",
    "    bv = bv.reset_index()\n",
    "    \n",
    "    return bv"
   ]
  },
  {
   "cell_type": "code",
   "execution_count": 294,
   "metadata": {},
   "outputs": [],
   "source": [
    "frame = book_values(\"THYAO\")"
   ]
  },
  {
   "cell_type": "code",
   "execution_count": null,
   "metadata": {},
   "outputs": [],
   "source": []
  },
  {
   "cell_type": "code",
   "execution_count": 308,
   "metadata": {},
   "outputs": [],
   "source": [
    "def day_table(frame_book_values):\n",
    "    \"\"\"\n",
    "    Her mali dönemden bir sonraki mali döneme kadar kaç gün var.\n",
    "    \"\"\"\n",
    "    fram = pd.DataFrame(frame_book_values[\"date\"].diff())\n",
    "    fram.columns = [\"days\"]\n",
    "    fram = pd.DataFrame(fram[\"days\"].shift(periods=-1))\n",
    "    fram[\"date\"] = frame_book_values[\"date\"]\n",
    "    fram.iloc[-1,0] = date.today() - pd.DataFrame(fram[\"date\"]).iloc[-1,:][0].date()\n",
    "    fram[\"days\"] = pd.DataFrame(fram[\"days\"].dt.days)\n",
    "    \n",
    "    return fram"
   ]
  },
  {
   "cell_type": "code",
   "execution_count": 309,
   "metadata": {},
   "outputs": [],
   "source": [
    "days = day_table(frame)"
   ]
  },
  {
   "cell_type": "code",
   "execution_count": null,
   "metadata": {},
   "outputs": [],
   "source": []
  },
  {
   "cell_type": "code",
   "execution_count": 337,
   "metadata": {},
   "outputs": [],
   "source": [
    "def book_value_timeFrame(stock_name:str, frame_book_values, days):\n",
    "    \"\"\"\n",
    "    AMAÇ: Belirtilen hisse senedinin defter değerini zaman serisi olarak oluşturmak.\n",
    "    \"\"\"\n",
    "    frames = []\n",
    "    for day, date, seq in zip(days[\"days\"], days[\"date\"], range(frame_book_values.shape[0])):\n",
    "        ind = pd.date_range(date, periods = day, freq ='1d')\n",
    "        df = pd.DataFrame(index = ind) \n",
    "        df[\"book_value\"] = frame_book_values.iloc[seq,:][1]\n",
    "        df[\"stock_name\"] = frame_book_values.iloc[seq,:][2]\n",
    "        frames.append(df)\n",
    "    frames = pd.concat(frames)\n",
    "    \n",
    "    return frames"
   ]
  },
  {
   "cell_type": "code",
   "execution_count": 341,
   "metadata": {},
   "outputs": [],
   "source": [
    "stock_name = \"THYAO\"\n",
    "frame_book_values = book_values(stock_name)\n",
    "days = day_table(frame_book_values)"
   ]
  },
  {
   "cell_type": "code",
   "execution_count": 343,
   "metadata": {},
   "outputs": [
    {
     "data": {
      "text/html": [
       "<div>\n",
       "<style scoped>\n",
       "    .dataframe tbody tr th:only-of-type {\n",
       "        vertical-align: middle;\n",
       "    }\n",
       "\n",
       "    .dataframe tbody tr th {\n",
       "        vertical-align: top;\n",
       "    }\n",
       "\n",
       "    .dataframe thead th {\n",
       "        text-align: right;\n",
       "    }\n",
       "</style>\n",
       "<table border=\"1\" class=\"dataframe\">\n",
       "  <thead>\n",
       "    <tr style=\"text-align: right;\">\n",
       "      <th></th>\n",
       "      <th>book_value</th>\n",
       "      <th>stock_name</th>\n",
       "    </tr>\n",
       "  </thead>\n",
       "  <tbody>\n",
       "    <tr>\n",
       "      <th>2008-03-31</th>\n",
       "      <td>2.116202e+09</td>\n",
       "      <td>THYAO</td>\n",
       "    </tr>\n",
       "    <tr>\n",
       "      <th>2008-04-01</th>\n",
       "      <td>2.116202e+09</td>\n",
       "      <td>THYAO</td>\n",
       "    </tr>\n",
       "    <tr>\n",
       "      <th>2008-04-02</th>\n",
       "      <td>2.116202e+09</td>\n",
       "      <td>THYAO</td>\n",
       "    </tr>\n",
       "    <tr>\n",
       "      <th>2008-04-03</th>\n",
       "      <td>2.116202e+09</td>\n",
       "      <td>THYAO</td>\n",
       "    </tr>\n",
       "    <tr>\n",
       "      <th>2008-04-04</th>\n",
       "      <td>2.116202e+09</td>\n",
       "      <td>THYAO</td>\n",
       "    </tr>\n",
       "    <tr>\n",
       "      <th>...</th>\n",
       "      <td>...</td>\n",
       "      <td>...</td>\n",
       "    </tr>\n",
       "    <tr>\n",
       "      <th>2020-06-07</th>\n",
       "      <td>4.134300e+10</td>\n",
       "      <td>THYAO</td>\n",
       "    </tr>\n",
       "    <tr>\n",
       "      <th>2020-06-08</th>\n",
       "      <td>4.134300e+10</td>\n",
       "      <td>THYAO</td>\n",
       "    </tr>\n",
       "    <tr>\n",
       "      <th>2020-06-09</th>\n",
       "      <td>4.134300e+10</td>\n",
       "      <td>THYAO</td>\n",
       "    </tr>\n",
       "    <tr>\n",
       "      <th>2020-06-10</th>\n",
       "      <td>4.134300e+10</td>\n",
       "      <td>THYAO</td>\n",
       "    </tr>\n",
       "    <tr>\n",
       "      <th>2020-06-11</th>\n",
       "      <td>4.134300e+10</td>\n",
       "      <td>THYAO</td>\n",
       "    </tr>\n",
       "  </tbody>\n",
       "</table>\n",
       "<p>4456 rows × 2 columns</p>\n",
       "</div>"
      ],
      "text/plain": [
       "              book_value stock_name\n",
       "2008-03-31  2.116202e+09      THYAO\n",
       "2008-04-01  2.116202e+09      THYAO\n",
       "2008-04-02  2.116202e+09      THYAO\n",
       "2008-04-03  2.116202e+09      THYAO\n",
       "2008-04-04  2.116202e+09      THYAO\n",
       "...                  ...        ...\n",
       "2020-06-07  4.134300e+10      THYAO\n",
       "2020-06-08  4.134300e+10      THYAO\n",
       "2020-06-09  4.134300e+10      THYAO\n",
       "2020-06-10  4.134300e+10      THYAO\n",
       "2020-06-11  4.134300e+10      THYAO\n",
       "\n",
       "[4456 rows x 2 columns]"
      ]
     },
     "execution_count": 343,
     "metadata": {},
     "output_type": "execute_result"
    }
   ],
   "source": [
    "book_value_timeFrame(stock_name, frame_book_values, days)"
   ]
  },
  {
   "cell_type": "code",
   "execution_count": null,
   "metadata": {},
   "outputs": [],
   "source": []
  },
  {
   "cell_type": "code",
   "execution_count": 380,
   "metadata": {},
   "outputs": [],
   "source": [
    "def book_valueFrame(stock_name:str, frame):\n",
    "    \n",
    "    stock_values = sm.clean_stock_raw_table(stock_name)\n",
    "    stock_values = stock_values[[\"HGDG_HS_KODU\", \"HGDG_TARIH\", \"PD\"]]\n",
    "    stock_values.index = stock_values.HGDG_TARIH\n",
    "    stock_values.index.names = ['Date']\n",
    "    del stock_values[\"HGDG_TARIH\"]\n",
    "    \n",
    "    bookValues = frame.join(stock_values)\n",
    "    bookValues = bookValues.dropna()\n",
    "    \n",
    "    bookValues = bookValues.rename(columns={\"PD\": \"market_value\"})\n",
    "    bookValues[\"marketV_to_bookV\"] = bookValues[\"market_value\"] / bookValues[\"book_value\"]\n",
    "    \n",
    "    del bookValues[\"HGDG_HS_KODU\"]\n",
    "    \n",
    "    return bookValues"
   ]
  },
  {
   "cell_type": "code",
   "execution_count": 381,
   "metadata": {},
   "outputs": [],
   "source": [
    "stock_name = \"BIMAS\""
   ]
  },
  {
   "cell_type": "code",
   "execution_count": 382,
   "metadata": {
    "scrolled": true
   },
   "outputs": [],
   "source": [
    "frame_book_values = book_values(stock_name)\n",
    "days = day_table(frame_book_values)"
   ]
  },
  {
   "cell_type": "code",
   "execution_count": 383,
   "metadata": {},
   "outputs": [],
   "source": [
    "frame = book_value_timeFrame(stock_name, frame_book_values, days)"
   ]
  },
  {
   "cell_type": "code",
   "execution_count": 384,
   "metadata": {},
   "outputs": [
    {
     "data": {
      "text/html": [
       "<div>\n",
       "<style scoped>\n",
       "    .dataframe tbody tr th:only-of-type {\n",
       "        vertical-align: middle;\n",
       "    }\n",
       "\n",
       "    .dataframe tbody tr th {\n",
       "        vertical-align: top;\n",
       "    }\n",
       "\n",
       "    .dataframe thead th {\n",
       "        text-align: right;\n",
       "    }\n",
       "</style>\n",
       "<table border=\"1\" class=\"dataframe\">\n",
       "  <thead>\n",
       "    <tr style=\"text-align: right;\">\n",
       "      <th></th>\n",
       "      <th>book_value</th>\n",
       "      <th>stock_name</th>\n",
       "      <th>market_value</th>\n",
       "      <th>marketV_to_bookV</th>\n",
       "    </tr>\n",
       "  </thead>\n",
       "  <tbody>\n",
       "    <tr>\n",
       "      <th>2008-03-31</th>\n",
       "      <td>2.351410e+08</td>\n",
       "      <td>BIMAS</td>\n",
       "      <td>2.656500e+09</td>\n",
       "      <td>11.297477</td>\n",
       "    </tr>\n",
       "    <tr>\n",
       "      <th>2008-04-01</th>\n",
       "      <td>2.351410e+08</td>\n",
       "      <td>BIMAS</td>\n",
       "      <td>2.631200e+09</td>\n",
       "      <td>11.189882</td>\n",
       "    </tr>\n",
       "    <tr>\n",
       "      <th>2008-04-02</th>\n",
       "      <td>2.351410e+08</td>\n",
       "      <td>BIMAS</td>\n",
       "      <td>2.605900e+09</td>\n",
       "      <td>11.082287</td>\n",
       "    </tr>\n",
       "    <tr>\n",
       "      <th>2008-04-03</th>\n",
       "      <td>2.351410e+08</td>\n",
       "      <td>BIMAS</td>\n",
       "      <td>2.504700e+09</td>\n",
       "      <td>10.651907</td>\n",
       "    </tr>\n",
       "    <tr>\n",
       "      <th>2008-04-04</th>\n",
       "      <td>2.351410e+08</td>\n",
       "      <td>BIMAS</td>\n",
       "      <td>2.530000e+09</td>\n",
       "      <td>10.759502</td>\n",
       "    </tr>\n",
       "    <tr>\n",
       "      <th>...</th>\n",
       "      <td>...</td>\n",
       "      <td>...</td>\n",
       "      <td>...</td>\n",
       "      <td>...</td>\n",
       "    </tr>\n",
       "    <tr>\n",
       "      <th>2020-06-02</th>\n",
       "      <td>4.678679e+09</td>\n",
       "      <td>BIMAS</td>\n",
       "      <td>3.828396e+10</td>\n",
       "      <td>8.182643</td>\n",
       "    </tr>\n",
       "    <tr>\n",
       "      <th>2020-06-03</th>\n",
       "      <td>4.678679e+09</td>\n",
       "      <td>BIMAS</td>\n",
       "      <td>3.968052e+10</td>\n",
       "      <td>8.481137</td>\n",
       "    </tr>\n",
       "    <tr>\n",
       "      <th>2020-06-04</th>\n",
       "      <td>4.678679e+09</td>\n",
       "      <td>BIMAS</td>\n",
       "      <td>4.189680e+10</td>\n",
       "      <td>8.954835</td>\n",
       "    </tr>\n",
       "    <tr>\n",
       "      <th>2020-06-05</th>\n",
       "      <td>4.678679e+09</td>\n",
       "      <td>BIMAS</td>\n",
       "      <td>4.031808e+10</td>\n",
       "      <td>8.617407</td>\n",
       "    </tr>\n",
       "    <tr>\n",
       "      <th>2020-06-08</th>\n",
       "      <td>4.678679e+09</td>\n",
       "      <td>BIMAS</td>\n",
       "      <td>3.922512e+10</td>\n",
       "      <td>8.383802</td>\n",
       "    </tr>\n",
       "  </tbody>\n",
       "</table>\n",
       "<p>3061 rows × 4 columns</p>\n",
       "</div>"
      ],
      "text/plain": [
       "              book_value stock_name  market_value  marketV_to_bookV\n",
       "2008-03-31  2.351410e+08      BIMAS  2.656500e+09         11.297477\n",
       "2008-04-01  2.351410e+08      BIMAS  2.631200e+09         11.189882\n",
       "2008-04-02  2.351410e+08      BIMAS  2.605900e+09         11.082287\n",
       "2008-04-03  2.351410e+08      BIMAS  2.504700e+09         10.651907\n",
       "2008-04-04  2.351410e+08      BIMAS  2.530000e+09         10.759502\n",
       "...                  ...        ...           ...               ...\n",
       "2020-06-02  4.678679e+09      BIMAS  3.828396e+10          8.182643\n",
       "2020-06-03  4.678679e+09      BIMAS  3.968052e+10          8.481137\n",
       "2020-06-04  4.678679e+09      BIMAS  4.189680e+10          8.954835\n",
       "2020-06-05  4.678679e+09      BIMAS  4.031808e+10          8.617407\n",
       "2020-06-08  4.678679e+09      BIMAS  3.922512e+10          8.383802\n",
       "\n",
       "[3061 rows x 4 columns]"
      ]
     },
     "execution_count": 384,
     "metadata": {},
     "output_type": "execute_result"
    }
   ],
   "source": [
    "book_valueFrame(stock_name, frame)"
   ]
  },
  {
   "cell_type": "code",
   "execution_count": null,
   "metadata": {},
   "outputs": [],
   "source": []
  },
  {
   "cell_type": "code",
   "execution_count": 397,
   "metadata": {},
   "outputs": [],
   "source": [
    "def update_market_value_frame():\n",
    "    frames = []\n",
    "    stockNames = sm.get_stock_names()\n",
    "    for stock in stockNames:\n",
    "        stock_name = stock\n",
    "        try:\n",
    "            frame_book_values = book_values(stock_name)\n",
    "            days = day_table(frame_book_values)\n",
    "            frame = book_value_timeFrame(stock_name, frame_book_values, days)\n",
    "            final = book_valueFrame(stock_name, frame)\n",
    "            frames.append(final)\n",
    "        except:\n",
    "            print(stock_name)\n",
    "    frames = pd.concat(frames)\n",
    "    \n",
    "    return frames"
   ]
  },
  {
   "cell_type": "code",
   "execution_count": 399,
   "metadata": {},
   "outputs": [
    {
     "name": "stdout",
     "output_type": "stream",
     "text": [
      "AKGRT\n",
      "VAKBN\n",
      "ISBTR\n",
      "BAYRK\n",
      "QNBFB\n",
      "SEKFK\n",
      "ISATR\n",
      "ISFIN\n",
      "OYAKC\n",
      "ISKUR\n",
      "PAPIL\n",
      "ISCTR\n",
      "ARDYZ\n",
      "ANSGR\n",
      "CRDFA\n",
      "GARFA\n",
      "AVISA\n",
      "YKBNK\n",
      "ALBRK\n",
      "HALKS\n",
      "GUSGR\n",
      "VAKFN\n",
      "KLNMA\n",
      "RAYSG\n",
      "QNBFL\n",
      "ANHYT\n",
      "DOCO\n",
      "GARAN\n",
      "HALKB\n",
      "SKBNK\n",
      "ICBCT\n",
      "LIDFA\n",
      "TSKB\n",
      "CASA\n",
      "AKBNK\n"
     ]
    }
   ],
   "source": [
    "marketValues = update_market_value_frame()"
   ]
  },
  {
   "cell_type": "code",
   "execution_count": 400,
   "metadata": {},
   "outputs": [],
   "source": [
    "marketValues.to_pickle(\"marketValues\")"
   ]
  },
  {
   "cell_type": "code",
   "execution_count": null,
   "metadata": {},
   "outputs": [],
   "source": []
  },
  {
   "cell_type": "code",
   "execution_count": null,
   "metadata": {},
   "outputs": [],
   "source": []
  },
  {
   "cell_type": "code",
   "execution_count": null,
   "metadata": {},
   "outputs": [],
   "source": []
  },
  {
   "cell_type": "code",
   "execution_count": null,
   "metadata": {},
   "outputs": [],
   "source": []
  },
  {
   "cell_type": "code",
   "execution_count": null,
   "metadata": {},
   "outputs": [],
   "source": []
  },
  {
   "cell_type": "code",
   "execution_count": null,
   "metadata": {},
   "outputs": [],
   "source": []
  },
  {
   "cell_type": "code",
   "execution_count": null,
   "metadata": {},
   "outputs": [],
   "source": []
  },
  {
   "cell_type": "code",
   "execution_count": null,
   "metadata": {},
   "outputs": [],
   "source": []
  },
  {
   "cell_type": "code",
   "execution_count": null,
   "metadata": {},
   "outputs": [],
   "source": []
  },
  {
   "cell_type": "code",
   "execution_count": null,
   "metadata": {},
   "outputs": [],
   "source": []
  },
  {
   "cell_type": "code",
   "execution_count": null,
   "metadata": {},
   "outputs": [],
   "source": []
  }
 ],
 "metadata": {
  "kernelspec": {
   "display_name": "my_env_stock",
   "language": "python",
   "name": "my_env_stock"
  },
  "language_info": {
   "codemirror_mode": {
    "name": "ipython",
    "version": 3
   },
   "file_extension": ".py",
   "mimetype": "text/x-python",
   "name": "python",
   "nbconvert_exporter": "python",
   "pygments_lexer": "ipython3",
   "version": "3.7.6"
  }
 },
 "nbformat": 4,
 "nbformat_minor": 4
}
