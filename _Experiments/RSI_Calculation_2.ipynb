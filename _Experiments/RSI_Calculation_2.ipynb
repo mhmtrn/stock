{
 "cells": [
  {
   "cell_type": "code",
   "execution_count": 1,
   "metadata": {},
   "outputs": [],
   "source": [
    "import numpy as np\n",
    "import pandas as pd\n",
    "import matplotlib.pyplot as plt\n",
    "import seaborn as sns\n",
    "import stock_module as sm\n",
    "import random\n",
    "import os\n",
    "import datetime"
   ]
  },
  {
   "cell_type": "code",
   "execution_count": 2,
   "metadata": {},
   "outputs": [],
   "source": [
    "def values_from_database():\n",
    "    return pd.read_pickle(\"stocks_values_pivot\")"
   ]
  },
  {
   "cell_type": "code",
   "execution_count": 3,
   "metadata": {},
   "outputs": [],
   "source": [
    "def change_day_month(date_string):\n",
    "    return date_string[3:5] + \"-\" + date_string[:2] + \"-\" + date_string[-4:]"
   ]
  },
  {
   "cell_type": "code",
   "execution_count": 4,
   "metadata": {},
   "outputs": [],
   "source": [
    "def value_stock(stock_name, date_start, \n",
    "                end_date = datetime.datetime.today().strftime(\"%d-%m-%Y\")):\n",
    "    \n",
    "    \n",
    "    values = values_from_database()\n",
    "    stock_values = pd.DataFrame(values[stock_name])\n",
    "    stock_values.columns = [\"HGDG_KAPANIS\"]\n",
    "    \n",
    "    date_start = datetime.datetime.strptime(date_start, \"%d-%m-%Y\")\n",
    "    \n",
    "    end_date = change_day_month(end_date)\n",
    "\n",
    "    values = stock_values.loc[(stock_values.index > date_start) &\n",
    "                            (stock_values.index < end_date)]\n",
    "    \n",
    "    values = values.sort_index()\n",
    "    \n",
    "    return values"
   ]
  },
  {
   "cell_type": "code",
   "execution_count": 5,
   "metadata": {},
   "outputs": [],
   "source": [
    "def gain_loss(stock_name, date_start, \n",
    "                end_date = datetime.datetime.today().strftime(\"%d-%m-%Y\")):\n",
    "    \n",
    "    stock = value_stock(stock_name, date_start, end_date) # use this function to get values\n",
    "    stock[\"Change\"] = stock[\"HGDG_KAPANIS\"].diff() # get difference on new column\n",
    "    \n",
    "    def positive(value):\n",
    "        return max(value, 0) # get positive values, otherwise zero\n",
    "\n",
    "    def negative(value):\n",
    "        return min(value, 0) # get negative values, otherwise zero\n",
    "    \n",
    "    stock[\"Gain\"] = stock[\"Change\"].map(positive) # create a column for gains\n",
    "    stock[\"Loss\"] = stock[\"Change\"].map(negative) # create a column for losses\n",
    "    \n",
    "    return stock"
   ]
  },
  {
   "cell_type": "code",
   "execution_count": 6,
   "metadata": {},
   "outputs": [],
   "source": [
    "def RS(values, row, dayRSI):\n",
    "    gainsAvg = values.iloc[row-dayRSI:row,:][\"Gain\"].sum() / dayRSI \n",
    "        # ilgili satırdaki değeri referans alarak, belirtilen gün kadar geriye giderek POZİTİF değerleri alıp ortalamasını alacak\n",
    "    lossesAvg = abs(values.iloc[row-dayRSI:row,:][\"Loss\"].sum()) / dayRSI\n",
    "        # ilgili satırdaki değeri referans alarak, belirtilen gün kadar geriye giderek NEGATİF değerleri alıp ortalamasını alacak\n",
    "    RS = gainsAvg/lossesAvg\n",
    "        # rs için pozitiflerin, negatife oranı.\n",
    "    return RS  "
   ]
  },
  {
   "cell_type": "code",
   "execution_count": 7,
   "metadata": {},
   "outputs": [],
   "source": [
    "def RSI(rs):\n",
    "    return 100-(100/(1+rs))"
   ]
  },
  {
   "cell_type": "code",
   "execution_count": 8,
   "metadata": {},
   "outputs": [],
   "source": [
    "def RS_series(values, dayRSI):\n",
    "    series = []\n",
    "    for row in range(values.shape[0]-dayRSI+1):\n",
    "        reference_row = int(row + dayRSI)\n",
    "        rs = RS(values, reference_row, dayRSI)\n",
    "        series.append(rs)\n",
    "        \n",
    "    elements = [0] * (dayRSI-1)\n",
    "    series = elements + series\n",
    "    \n",
    "    values[\"RS\"] = series\n",
    "    \n",
    "    return values"
   ]
  },
  {
   "cell_type": "code",
   "execution_count": 9,
   "metadata": {},
   "outputs": [],
   "source": [
    "def RSI_frame(values, dayRSI):\n",
    "    values = RS_series(values, dayRSI)\n",
    "    values[\"RSI\"] = values[\"RS\"].map(RSI)\n",
    "    return values"
   ]
  },
  {
   "cell_type": "code",
   "execution_count": 10,
   "metadata": {},
   "outputs": [],
   "source": [
    "def RSI_indicator(stock_name:str, dayRSI, date_start, end_date= datetime.datetime.today().strftime(\"%d-%m-%Y\")):\n",
    "    stock_values = gain_loss(stock_name, date_start, end_date)\n",
    "    RSI = RSI_frame(stock_values, dayRSI)\n",
    "    return RSI"
   ]
  },
  {
   "cell_type": "code",
   "execution_count": 17,
   "metadata": {},
   "outputs": [
    {
     "data": {
      "text/html": [
       "<div>\n",
       "<style scoped>\n",
       "    .dataframe tbody tr th:only-of-type {\n",
       "        vertical-align: middle;\n",
       "    }\n",
       "\n",
       "    .dataframe tbody tr th {\n",
       "        vertical-align: top;\n",
       "    }\n",
       "\n",
       "    .dataframe thead th {\n",
       "        text-align: right;\n",
       "    }\n",
       "</style>\n",
       "<table border=\"1\" class=\"dataframe\">\n",
       "  <thead>\n",
       "    <tr style=\"text-align: right;\">\n",
       "      <th></th>\n",
       "      <th>HGDG_KAPANIS</th>\n",
       "      <th>Change</th>\n",
       "      <th>Gain</th>\n",
       "      <th>Loss</th>\n",
       "      <th>RS</th>\n",
       "      <th>RSI</th>\n",
       "    </tr>\n",
       "    <tr>\n",
       "      <th>HGDG_TARIH</th>\n",
       "      <th></th>\n",
       "      <th></th>\n",
       "      <th></th>\n",
       "      <th></th>\n",
       "      <th></th>\n",
       "      <th></th>\n",
       "    </tr>\n",
       "  </thead>\n",
       "  <tbody>\n",
       "    <tr>\n",
       "      <th>2019-06-03</th>\n",
       "      <td>39.3893</td>\n",
       "      <td>NaN</td>\n",
       "      <td>NaN</td>\n",
       "      <td>NaN</td>\n",
       "      <td>0.000000</td>\n",
       "      <td>0.000000</td>\n",
       "    </tr>\n",
       "    <tr>\n",
       "      <th>2019-06-07</th>\n",
       "      <td>40.3987</td>\n",
       "      <td>1.0094</td>\n",
       "      <td>1.0094</td>\n",
       "      <td>0.0000</td>\n",
       "      <td>0.000000</td>\n",
       "      <td>0.000000</td>\n",
       "    </tr>\n",
       "    <tr>\n",
       "      <th>2019-06-10</th>\n",
       "      <td>39.5124</td>\n",
       "      <td>-0.8863</td>\n",
       "      <td>0.0000</td>\n",
       "      <td>-0.8863</td>\n",
       "      <td>0.000000</td>\n",
       "      <td>0.000000</td>\n",
       "    </tr>\n",
       "    <tr>\n",
       "      <th>2019-06-11</th>\n",
       "      <td>38.7000</td>\n",
       "      <td>-0.8124</td>\n",
       "      <td>0.0000</td>\n",
       "      <td>-0.8124</td>\n",
       "      <td>0.000000</td>\n",
       "      <td>0.000000</td>\n",
       "    </tr>\n",
       "    <tr>\n",
       "      <th>2019-06-12</th>\n",
       "      <td>39.3000</td>\n",
       "      <td>0.6000</td>\n",
       "      <td>0.6000</td>\n",
       "      <td>0.0000</td>\n",
       "      <td>0.000000</td>\n",
       "      <td>0.000000</td>\n",
       "    </tr>\n",
       "    <tr>\n",
       "      <th>...</th>\n",
       "      <td>...</td>\n",
       "      <td>...</td>\n",
       "      <td>...</td>\n",
       "      <td>...</td>\n",
       "      <td>...</td>\n",
       "      <td>...</td>\n",
       "    </tr>\n",
       "    <tr>\n",
       "      <th>2020-05-22</th>\n",
       "      <td>63.2000</td>\n",
       "      <td>1.3000</td>\n",
       "      <td>1.3000</td>\n",
       "      <td>0.0000</td>\n",
       "      <td>2.033874</td>\n",
       "      <td>67.038844</td>\n",
       "    </tr>\n",
       "    <tr>\n",
       "      <th>2020-05-27</th>\n",
       "      <td>62.8000</td>\n",
       "      <td>-0.4000</td>\n",
       "      <td>0.0000</td>\n",
       "      <td>-0.4000</td>\n",
       "      <td>2.454043</td>\n",
       "      <td>71.048418</td>\n",
       "    </tr>\n",
       "    <tr>\n",
       "      <th>2020-05-28</th>\n",
       "      <td>61.7000</td>\n",
       "      <td>-1.1000</td>\n",
       "      <td>0.0000</td>\n",
       "      <td>-1.1000</td>\n",
       "      <td>2.643048</td>\n",
       "      <td>72.550457</td>\n",
       "    </tr>\n",
       "    <tr>\n",
       "      <th>2020-05-29</th>\n",
       "      <td>65.1000</td>\n",
       "      <td>3.4000</td>\n",
       "      <td>3.4000</td>\n",
       "      <td>0.0000</td>\n",
       "      <td>3.594034</td>\n",
       "      <td>78.232637</td>\n",
       "    </tr>\n",
       "    <tr>\n",
       "      <th>2020-06-01</th>\n",
       "      <td>64.0000</td>\n",
       "      <td>-1.1000</td>\n",
       "      <td>0.0000</td>\n",
       "      <td>-1.1000</td>\n",
       "      <td>3.628640</td>\n",
       "      <td>78.395380</td>\n",
       "    </tr>\n",
       "  </tbody>\n",
       "</table>\n",
       "<p>246 rows × 6 columns</p>\n",
       "</div>"
      ],
      "text/plain": [
       "            HGDG_KAPANIS  Change    Gain    Loss        RS        RSI\n",
       "HGDG_TARIH                                                           \n",
       "2019-06-03       39.3893     NaN     NaN     NaN  0.000000   0.000000\n",
       "2019-06-07       40.3987  1.0094  1.0094  0.0000  0.000000   0.000000\n",
       "2019-06-10       39.5124 -0.8863  0.0000 -0.8863  0.000000   0.000000\n",
       "2019-06-11       38.7000 -0.8124  0.0000 -0.8124  0.000000   0.000000\n",
       "2019-06-12       39.3000  0.6000  0.6000  0.0000  0.000000   0.000000\n",
       "...                  ...     ...     ...     ...       ...        ...\n",
       "2020-05-22       63.2000  1.3000  1.3000  0.0000  2.033874  67.038844\n",
       "2020-05-27       62.8000 -0.4000  0.0000 -0.4000  2.454043  71.048418\n",
       "2020-05-28       61.7000 -1.1000  0.0000 -1.1000  2.643048  72.550457\n",
       "2020-05-29       65.1000  3.4000  3.4000  0.0000  3.594034  78.232637\n",
       "2020-06-01       64.0000 -1.1000  0.0000 -1.1000  3.628640  78.395380\n",
       "\n",
       "[246 rows x 6 columns]"
      ]
     },
     "execution_count": 17,
     "metadata": {},
     "output_type": "execute_result"
    }
   ],
   "source": [
    "RSI_indicator(\"BIMAS\", 14, \"31-05-2019\")"
   ]
  },
  {
   "cell_type": "code",
   "execution_count": 18,
   "metadata": {},
   "outputs": [],
   "source": [
    "def plot_RSI(stock_name:str, dayRSI, date_start, end_date= datetime.datetime.today().strftime(\"%d-%m-%Y\")):\n",
    "    RSI = RSI_indicator(stock_name, dayRSI, date_start, end_date)\n",
    "    ax = RSI[\"RSI\"].plot.line(figsize=(30,5))\n",
    "    plt.axhline(30, color=\"gray\")\n",
    "    plt.axhline(70, color=\"gray\")\n",
    "    return ax"
   ]
  },
  {
   "cell_type": "code",
   "execution_count": 23,
   "metadata": {},
   "outputs": [
    {
     "data": {
      "text/plain": [
       "<matplotlib.axes._subplots.AxesSubplot at 0x11fb713d0>"
      ]
     },
     "execution_count": 23,
     "metadata": {},
     "output_type": "execute_result"
    },
    {
     "data": {
      "image/png": "[encoded data removed]",
      "text/plain": [
       "<Figure size 2160x360 with 1 Axes>"
      ]
     },
     "metadata": {
      "needs_background": "light"
     },
     "output_type": "display_data"
    }
   ],
   "source": [
    "plot_RSI(\"CIMSA\", 14, \"31-05-2019\")"
   ]
  },
  {
   "cell_type": "code",
   "execution_count": null,
   "metadata": {},
   "outputs": [],
   "source": []
  }
 ],
 "metadata": {
  "kernelspec": {
   "display_name": "my_env_stock",
   "language": "python",
   "name": "my_env_stock"
  },
  "language_info": {
   "codemirror_mode": {
    "name": "ipython",
    "version": 3
   },
   "file_extension": ".py",
   "mimetype": "text/x-python",
   "name": "python",
   "nbconvert_exporter": "python",
   "pygments_lexer": "ipython3",
   "version": "3.7.6"
  }
 },
 "nbformat": 4,
 "nbformat_minor": 4
}
