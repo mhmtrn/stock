{
 "cells": [
  {
   "cell_type": "code",
   "execution_count": 1,
   "metadata": {},
   "outputs": [],
   "source": [
    "import numpy as np\n",
    "import pandas as pd\n",
    "import matplotlib.pyplot as plt\n",
    "import seaborn as sns\n",
    "import stock_module as sm\n",
    "import random\n",
    "import os\n",
    "import datetime\n",
    "import time\n",
    "import progressbar"
   ]
  },
  {
   "cell_type": "markdown",
   "metadata": {},
   "source": [
    "PURPOSE: This work is to show the results of random walk on Istanbul Stock Echange Market.\n",
    "\n"
   ]
  },
  {
   "cell_type": "code",
   "execution_count": 2,
   "metadata": {},
   "outputs": [],
   "source": [
    "os.chdir(\"/Users/mturan/Desktop/Scripts/stock_analysis\")"
   ]
  },
  {
   "cell_type": "code",
   "execution_count": 3,
   "metadata": {},
   "outputs": [
    {
     "data": {
      "text/plain": [
       "'/Users/mturan/Desktop/Scripts/stock_analysis'"
      ]
     },
     "execution_count": 3,
     "metadata": {},
     "output_type": "execute_result"
    }
   ],
   "source": [
    "os.getcwd()"
   ]
  },
  {
   "cell_type": "code",
   "execution_count": 4,
   "metadata": {},
   "outputs": [],
   "source": [
    "all_stock_value = pd.read_pickle(\"stocks_values\")"
   ]
  },
  {
   "cell_type": "code",
   "execution_count": 183,
   "metadata": {},
   "outputs": [],
   "source": [
    "def transform_stock_values(all_stock_value):\n",
    "    \"\"\"\n",
    "    The function update all_stock_value by adding YEAR column\n",
    "    \"\"\"\n",
    "    stocks = all_stock_value\n",
    "    stocks[\"YEAR\"] = stocks.HGDG_TARIH.dt.year\n",
    "    stocks.index = stocks.HGDG_TARIH\n",
    "    return stocks"
   ]
  },
  {
   "cell_type": "code",
   "execution_count": 184,
   "metadata": {},
   "outputs": [],
   "source": [
    "stock_names = list(set(all_stock_value[\"HGDG_HS_KODU\"]))"
   ]
  },
  {
   "cell_type": "code",
   "execution_count": 185,
   "metadata": {},
   "outputs": [],
   "source": [
    "def get_random_stock(number_of_stock:int, stock_names:list):\n",
    "    \"\"\"\n",
    "    The function returns stocks selected randomly\n",
    "    Args:\n",
    "        - number_of_stock (int) : how many stocks do you want to select randomly from the market\n",
    "        - stock_names (list)     : list of stocks\n",
    "    \"\"\"\n",
    "    return random.sample(stock_names, number_of_stock)[0]"
   ]
  },
  {
   "cell_type": "code",
   "execution_count": 186,
   "metadata": {},
   "outputs": [
    {
     "data": {
      "text/plain": [
       "'ARMDA'"
      ]
     },
     "execution_count": 186,
     "metadata": {},
     "output_type": "execute_result"
    }
   ],
   "source": [
    "get_random_stock(1, stock_names)"
   ]
  },
  {
   "cell_type": "code",
   "execution_count": 187,
   "metadata": {},
   "outputs": [
    {
     "data": {
      "text/plain": [
       "'FORMT'"
      ]
     },
     "execution_count": 187,
     "metadata": {},
     "output_type": "execute_result"
    }
   ],
   "source": [
    "get_random_stock(3, stock_names)"
   ]
  },
  {
   "cell_type": "code",
   "execution_count": 188,
   "metadata": {},
   "outputs": [],
   "source": [
    "def get_stock_data(stock_name: str, all_stock_value):\n",
    "    \"\"\"\n",
    "    The functions returns frame including values of specified stock\n",
    "        - stock_name (str)  : enter the stock name you want\n",
    "        - all_stock_value   : database\n",
    "    \"\"\"\n",
    "    all_stock_value = all_stock_value.reset_index(drop=True)\n",
    "    stock_values = all_stock_value.loc[all_stock_value[\"HGDG_HS_KODU\"] == str(stock_name)]\n",
    "    stock_values = stock_values.sort_values(by=\"HGDG_TARIH\")\n",
    "    stock_values = stock_values.reset_index(drop=True)\n",
    "    return stock_values"
   ]
  },
  {
   "cell_type": "code",
   "execution_count": 189,
   "metadata": {},
   "outputs": [
    {
     "data": {
      "text/html": [
       "<div>\n",
       "<style scoped>\n",
       "    .dataframe tbody tr th:only-of-type {\n",
       "        vertical-align: middle;\n",
       "    }\n",
       "\n",
       "    .dataframe tbody tr th {\n",
       "        vertical-align: top;\n",
       "    }\n",
       "\n",
       "    .dataframe thead th {\n",
       "        text-align: right;\n",
       "    }\n",
       "</style>\n",
       "<table border=\"1\" class=\"dataframe\">\n",
       "  <thead>\n",
       "    <tr style=\"text-align: right;\">\n",
       "      <th></th>\n",
       "      <th>HGDG_HS_KODU</th>\n",
       "      <th>HGDG_TARIH</th>\n",
       "      <th>HGDG_KAPANIS</th>\n",
       "      <th>HGDG_AOF</th>\n",
       "      <th>HGDG_MIN</th>\n",
       "      <th>HGDG_MAX</th>\n",
       "      <th>HGDG_HACIM</th>\n",
       "      <th>END_ENDEKS_KODU</th>\n",
       "      <th>END_TARIH</th>\n",
       "      <th>END_SEANS</th>\n",
       "      <th>...</th>\n",
       "      <th>HG_MIN</th>\n",
       "      <th>HG_MAX</th>\n",
       "      <th>PD</th>\n",
       "      <th>PD_USD</th>\n",
       "      <th>HAO_PD</th>\n",
       "      <th>HAO_PD_USD</th>\n",
       "      <th>HG_HACIM</th>\n",
       "      <th>DOLAR_BAZLI_MIN</th>\n",
       "      <th>DOLAR_BAZLI_MAX</th>\n",
       "      <th>DOLAR_BAZLI_AOF</th>\n",
       "    </tr>\n",
       "  </thead>\n",
       "  <tbody>\n",
       "    <tr>\n",
       "      <th>0</th>\n",
       "      <td>MGROS</td>\n",
       "      <td>2001-01-02</td>\n",
       "      <td>2.0816</td>\n",
       "      <td>2.090079</td>\n",
       "      <td>2.056770</td>\n",
       "      <td>2.155892</td>\n",
       "      <td>3107450.0</td>\n",
       "      <td>01</td>\n",
       "      <td>978382800000</td>\n",
       "      <td>2</td>\n",
       "      <td>...</td>\n",
       "      <td>83.00</td>\n",
       "      <td>85.00</td>\n",
       "      <td>7.711200e+08</td>\n",
       "      <td>1.150944e+09</td>\n",
       "      <td>3.70138e+08</td>\n",
       "      <td>5.52453e+08</td>\n",
       "      <td>1763318.0</td>\n",
       "      <td>3.0699</td>\n",
       "      <td>3.2178</td>\n",
       "      <td>3.1196</td>\n",
       "    </tr>\n",
       "    <tr>\n",
       "      <th>1</th>\n",
       "      <td>MGROS</td>\n",
       "      <td>2001-01-02</td>\n",
       "      <td>2.0816</td>\n",
       "      <td>2.090079</td>\n",
       "      <td>2.056770</td>\n",
       "      <td>2.155892</td>\n",
       "      <td>3107450.0</td>\n",
       "      <td>01</td>\n",
       "      <td>978382800000</td>\n",
       "      <td>2</td>\n",
       "      <td>...</td>\n",
       "      <td>83.00</td>\n",
       "      <td>85.00</td>\n",
       "      <td>7.711200e+08</td>\n",
       "      <td>1.150944e+09</td>\n",
       "      <td>3.70138e+08</td>\n",
       "      <td>5.52453e+08</td>\n",
       "      <td>1344132.0</td>\n",
       "      <td>3.0699</td>\n",
       "      <td>3.2178</td>\n",
       "      <td>3.1196</td>\n",
       "    </tr>\n",
       "    <tr>\n",
       "      <th>2</th>\n",
       "      <td>MGROS</td>\n",
       "      <td>2001-01-03</td>\n",
       "      <td>1.9576</td>\n",
       "      <td>2.010917</td>\n",
       "      <td>1.957649</td>\n",
       "      <td>2.081551</td>\n",
       "      <td>4944389.0</td>\n",
       "      <td>01</td>\n",
       "      <td>978469200000</td>\n",
       "      <td>2</td>\n",
       "      <td>...</td>\n",
       "      <td>79.00</td>\n",
       "      <td>82.00</td>\n",
       "      <td>7.252200e+08</td>\n",
       "      <td>1.087241e+09</td>\n",
       "      <td>3.48106e+08</td>\n",
       "      <td>5.21876e+08</td>\n",
       "      <td>2521671.0</td>\n",
       "      <td>2.9349</td>\n",
       "      <td>3.1206</td>\n",
       "      <td>3.0147</td>\n",
       "    </tr>\n",
       "    <tr>\n",
       "      <th>3</th>\n",
       "      <td>MGROS</td>\n",
       "      <td>2001-01-03</td>\n",
       "      <td>1.9576</td>\n",
       "      <td>2.010917</td>\n",
       "      <td>1.957649</td>\n",
       "      <td>2.081551</td>\n",
       "      <td>4944389.0</td>\n",
       "      <td>01</td>\n",
       "      <td>978469200000</td>\n",
       "      <td>2</td>\n",
       "      <td>...</td>\n",
       "      <td>79.00</td>\n",
       "      <td>82.00</td>\n",
       "      <td>7.252200e+08</td>\n",
       "      <td>1.087241e+09</td>\n",
       "      <td>3.48106e+08</td>\n",
       "      <td>5.21876e+08</td>\n",
       "      <td>2422718.0</td>\n",
       "      <td>2.9349</td>\n",
       "      <td>3.1206</td>\n",
       "      <td>3.0147</td>\n",
       "    </tr>\n",
       "    <tr>\n",
       "      <th>4</th>\n",
       "      <td>MGROS</td>\n",
       "      <td>2001-01-04</td>\n",
       "      <td>2.0320</td>\n",
       "      <td>2.058066</td>\n",
       "      <td>2.007210</td>\n",
       "      <td>2.106331</td>\n",
       "      <td>8056968.0</td>\n",
       "      <td>01</td>\n",
       "      <td>978555600000</td>\n",
       "      <td>2</td>\n",
       "      <td>...</td>\n",
       "      <td>81.00</td>\n",
       "      <td>84.00</td>\n",
       "      <td>7.527600e+08</td>\n",
       "      <td>1.123943e+09</td>\n",
       "      <td>3.61325e+08</td>\n",
       "      <td>5.39493e+08</td>\n",
       "      <td>4712174.0</td>\n",
       "      <td>2.9970</td>\n",
       "      <td>3.1450</td>\n",
       "      <td>3.0729</td>\n",
       "    </tr>\n",
       "    <tr>\n",
       "      <th>...</th>\n",
       "      <td>...</td>\n",
       "      <td>...</td>\n",
       "      <td>...</td>\n",
       "      <td>...</td>\n",
       "      <td>...</td>\n",
       "      <td>...</td>\n",
       "      <td>...</td>\n",
       "      <td>...</td>\n",
       "      <td>...</td>\n",
       "      <td>...</td>\n",
       "      <td>...</td>\n",
       "      <td>...</td>\n",
       "      <td>...</td>\n",
       "      <td>...</td>\n",
       "      <td>...</td>\n",
       "      <td>...</td>\n",
       "      <td>...</td>\n",
       "      <td>...</td>\n",
       "      <td>...</td>\n",
       "      <td>...</td>\n",
       "      <td>...</td>\n",
       "    </tr>\n",
       "    <tr>\n",
       "      <th>8577</th>\n",
       "      <td>MGROS</td>\n",
       "      <td>2020-05-18</td>\n",
       "      <td>32.9400</td>\n",
       "      <td>33.075000</td>\n",
       "      <td>32.780000</td>\n",
       "      <td>33.380000</td>\n",
       "      <td>138849606.0</td>\n",
       "      <td>01</td>\n",
       "      <td>1589749200000</td>\n",
       "      <td>2</td>\n",
       "      <td>...</td>\n",
       "      <td>32.78</td>\n",
       "      <td>33.38</td>\n",
       "      <td>5.963926e+09</td>\n",
       "      <td>8.678589e+08</td>\n",
       "      <td>2.32593e+09</td>\n",
       "      <td>3.38465e+08</td>\n",
       "      <td>138849606.0</td>\n",
       "      <td>4.7701</td>\n",
       "      <td>4.8574</td>\n",
       "      <td>4.8130</td>\n",
       "    </tr>\n",
       "    <tr>\n",
       "      <th>8578</th>\n",
       "      <td>MGROS</td>\n",
       "      <td>2020-05-20</td>\n",
       "      <td>34.2400</td>\n",
       "      <td>34.133000</td>\n",
       "      <td>32.920000</td>\n",
       "      <td>34.800000</td>\n",
       "      <td>584530643.0</td>\n",
       "      <td>01</td>\n",
       "      <td>1589922000000</td>\n",
       "      <td>2</td>\n",
       "      <td>...</td>\n",
       "      <td>32.92</td>\n",
       "      <td>34.80</td>\n",
       "      <td>6.199297e+09</td>\n",
       "      <td>9.121577e+08</td>\n",
       "      <td>2.41773e+09</td>\n",
       "      <td>3.55741e+08</td>\n",
       "      <td>584530643.0</td>\n",
       "      <td>4.8438</td>\n",
       "      <td>5.1204</td>\n",
       "      <td>5.0223</td>\n",
       "    </tr>\n",
       "    <tr>\n",
       "      <th>8579</th>\n",
       "      <td>MGROS</td>\n",
       "      <td>2020-05-21</td>\n",
       "      <td>34.2000</td>\n",
       "      <td>34.577000</td>\n",
       "      <td>34.020000</td>\n",
       "      <td>35.320000</td>\n",
       "      <td>237853052.0</td>\n",
       "      <td>01</td>\n",
       "      <td>1590008400000</td>\n",
       "      <td>2</td>\n",
       "      <td>...</td>\n",
       "      <td>34.02</td>\n",
       "      <td>35.32</td>\n",
       "      <td>6.192055e+09</td>\n",
       "      <td>9.105294e+08</td>\n",
       "      <td>2.4149e+09</td>\n",
       "      <td>3.55106e+08</td>\n",
       "      <td>237853052.0</td>\n",
       "      <td>5.0026</td>\n",
       "      <td>5.1937</td>\n",
       "      <td>5.0845</td>\n",
       "    </tr>\n",
       "    <tr>\n",
       "      <th>8580</th>\n",
       "      <td>MGROS</td>\n",
       "      <td>2020-05-22</td>\n",
       "      <td>34.2000</td>\n",
       "      <td>34.219000</td>\n",
       "      <td>33.960000</td>\n",
       "      <td>34.460000</td>\n",
       "      <td>86215456.0</td>\n",
       "      <td>01</td>\n",
       "      <td>1590094800000</td>\n",
       "      <td>2</td>\n",
       "      <td>...</td>\n",
       "      <td>33.96</td>\n",
       "      <td>34.46</td>\n",
       "      <td>6.192055e+09</td>\n",
       "      <td>9.100610e+08</td>\n",
       "      <td>2.4149e+09</td>\n",
       "      <td>3.54924e+08</td>\n",
       "      <td>86215456.0</td>\n",
       "      <td>4.9912</td>\n",
       "      <td>5.0647</td>\n",
       "      <td>5.0292</td>\n",
       "    </tr>\n",
       "    <tr>\n",
       "      <th>8581</th>\n",
       "      <td>MGROS</td>\n",
       "      <td>2020-05-27</td>\n",
       "      <td>34.2400</td>\n",
       "      <td>34.636000</td>\n",
       "      <td>34.200000</td>\n",
       "      <td>35.060000</td>\n",
       "      <td>179852255.0</td>\n",
       "      <td>01</td>\n",
       "      <td>1590526800000</td>\n",
       "      <td>2</td>\n",
       "      <td>...</td>\n",
       "      <td>34.20</td>\n",
       "      <td>35.06</td>\n",
       "      <td>6.199297e+09</td>\n",
       "      <td>9.153091e+08</td>\n",
       "      <td>2.41773e+09</td>\n",
       "      <td>3.56971e+08</td>\n",
       "      <td>179852255.0</td>\n",
       "      <td>5.0495</td>\n",
       "      <td>5.1765</td>\n",
       "      <td>5.1139</td>\n",
       "    </tr>\n",
       "  </tbody>\n",
       "</table>\n",
       "<p>8582 rows × 31 columns</p>\n",
       "</div>"
      ],
      "text/plain": [
       "     HGDG_HS_KODU HGDG_TARIH  HGDG_KAPANIS   HGDG_AOF   HGDG_MIN   HGDG_MAX  \\\n",
       "0           MGROS 2001-01-02        2.0816   2.090079   2.056770   2.155892   \n",
       "1           MGROS 2001-01-02        2.0816   2.090079   2.056770   2.155892   \n",
       "2           MGROS 2001-01-03        1.9576   2.010917   1.957649   2.081551   \n",
       "3           MGROS 2001-01-03        1.9576   2.010917   1.957649   2.081551   \n",
       "4           MGROS 2001-01-04        2.0320   2.058066   2.007210   2.106331   \n",
       "...           ...        ...           ...        ...        ...        ...   \n",
       "8577        MGROS 2020-05-18       32.9400  33.075000  32.780000  33.380000   \n",
       "8578        MGROS 2020-05-20       34.2400  34.133000  32.920000  34.800000   \n",
       "8579        MGROS 2020-05-21       34.2000  34.577000  34.020000  35.320000   \n",
       "8580        MGROS 2020-05-22       34.2000  34.219000  33.960000  34.460000   \n",
       "8581        MGROS 2020-05-27       34.2400  34.636000  34.200000  35.060000   \n",
       "\n",
       "       HGDG_HACIM END_ENDEKS_KODU      END_TARIH  END_SEANS  ...  HG_MIN  \\\n",
       "0       3107450.0              01   978382800000          2  ...   83.00   \n",
       "1       3107450.0              01   978382800000          2  ...   83.00   \n",
       "2       4944389.0              01   978469200000          2  ...   79.00   \n",
       "3       4944389.0              01   978469200000          2  ...   79.00   \n",
       "4       8056968.0              01   978555600000          2  ...   81.00   \n",
       "...           ...             ...            ...        ...  ...     ...   \n",
       "8577  138849606.0              01  1589749200000          2  ...   32.78   \n",
       "8578  584530643.0              01  1589922000000          2  ...   32.92   \n",
       "8579  237853052.0              01  1590008400000          2  ...   34.02   \n",
       "8580   86215456.0              01  1590094800000          2  ...   33.96   \n",
       "8581  179852255.0              01  1590526800000          2  ...   34.20   \n",
       "\n",
       "     HG_MAX            PD        PD_USD       HAO_PD   HAO_PD_USD  \\\n",
       "0     85.00  7.711200e+08  1.150944e+09  3.70138e+08  5.52453e+08   \n",
       "1     85.00  7.711200e+08  1.150944e+09  3.70138e+08  5.52453e+08   \n",
       "2     82.00  7.252200e+08  1.087241e+09  3.48106e+08  5.21876e+08   \n",
       "3     82.00  7.252200e+08  1.087241e+09  3.48106e+08  5.21876e+08   \n",
       "4     84.00  7.527600e+08  1.123943e+09  3.61325e+08  5.39493e+08   \n",
       "...     ...           ...           ...          ...          ...   \n",
       "8577  33.38  5.963926e+09  8.678589e+08  2.32593e+09  3.38465e+08   \n",
       "8578  34.80  6.199297e+09  9.121577e+08  2.41773e+09  3.55741e+08   \n",
       "8579  35.32  6.192055e+09  9.105294e+08   2.4149e+09  3.55106e+08   \n",
       "8580  34.46  6.192055e+09  9.100610e+08   2.4149e+09  3.54924e+08   \n",
       "8581  35.06  6.199297e+09  9.153091e+08  2.41773e+09  3.56971e+08   \n",
       "\n",
       "         HG_HACIM  DOLAR_BAZLI_MIN  DOLAR_BAZLI_MAX  DOLAR_BAZLI_AOF  \n",
       "0       1763318.0           3.0699           3.2178           3.1196  \n",
       "1       1344132.0           3.0699           3.2178           3.1196  \n",
       "2       2521671.0           2.9349           3.1206           3.0147  \n",
       "3       2422718.0           2.9349           3.1206           3.0147  \n",
       "4       4712174.0           2.9970           3.1450           3.0729  \n",
       "...           ...              ...              ...              ...  \n",
       "8577  138849606.0           4.7701           4.8574           4.8130  \n",
       "8578  584530643.0           4.8438           5.1204           5.0223  \n",
       "8579  237853052.0           5.0026           5.1937           5.0845  \n",
       "8580   86215456.0           4.9912           5.0647           5.0292  \n",
       "8581  179852255.0           5.0495           5.1765           5.1139  \n",
       "\n",
       "[8582 rows x 31 columns]"
      ]
     },
     "execution_count": 189,
     "metadata": {},
     "output_type": "execute_result"
    }
   ],
   "source": [
    "get_stock_data(\"MGROS\", all_stock_value)"
   ]
  },
  {
   "cell_type": "code",
   "execution_count": 190,
   "metadata": {},
   "outputs": [],
   "source": [
    "def get_random_day_in_specified_year(year:int, dates:list):\n",
    "    \"\"\"\n",
    "    The function returns date selected randomly\n",
    "        - year (int)  : which year to be based\n",
    "        - \n",
    "    \"\"\"\n",
    "    if type(dates) != list:\n",
    "        dates = list(dates)\n",
    "    else:\n",
    "        dates = dates\n",
    "    return random.sample(dates, 1)"
   ]
  },
  {
   "cell_type": "code",
   "execution_count": 191,
   "metadata": {},
   "outputs": [],
   "source": [
    "def get_random_series(start_year, end_year, all_stock_value, print_mode=True, stockName = \"random\", date = \"non-random\"):\n",
    "    \"\"\"\n",
    "    The function returns wealth, frame, time period of the stock selected randomly or intentionally\n",
    "    Args:\n",
    "        - start_year      : Year (4 digits) if we want to select randomly or \"dd-mm-yyyy\" if we want specific start data\n",
    "        - end_year        : Year (4 digits) if we want to select randomly or \"dd-mm-yyyy\" if we want specific start data\n",
    "        - all_stock_value : Database (already exist)\n",
    "        - print_mode      : True (default) or False -> to print some outputs\n",
    "        - stock_name      : \"random\" (default) or specific stock name (e.g. BIMAS)\n",
    "        - date            : \"non-random\" (default) or \"random\". \n",
    "                             If non-random we can determine start_year and end_year \"dd-mm-yyyy\" or vice versa\n",
    "    \"\"\"\n",
    "    all_stock_value = transform_stock_values(all_stock_value) # transform with the function\n",
    "    stock_names = list(set(all_stock_value[\"HGDG_HS_KODU\"]))  # stock names\n",
    "    \n",
    "    if stockName == \"random\":\n",
    "        stock_name = get_random_stock(1, stock_names)             # choose a stock randomly\n",
    "        if print_mode:\n",
    "            print(f\"randomly selected stock      : {stock_name}\") # print randomly selected stock\n",
    "    else:\n",
    "        stock_name = stockName                                    # stock name is assigned based on your choice\n",
    "        if print_mode:\n",
    "            print(f\"the stock you selected       : {stock_name}\") # print selected stock\n",
    "               \n",
    "    stock = get_stock_data(str(stock_name), all_stock_value)  # get related stock part from whole universe\n",
    "    \n",
    "    \n",
    "    if date == \"random\":\n",
    "        stock_start_frame = stock.loc[stock.YEAR == start_year]   # to select start date randomly\n",
    "        start = get_random_day_in_specified_year(start_year, stock_start_frame[\"HGDG_TARIH\"])[0]\n",
    "        start_str = start.strftime(\"%Y-%m-%d\")\n",
    "        if print_mode:\n",
    "            print(f\"randomly selected start date : {start_str}\")\n",
    "\n",
    "        end_start_frame = stock.loc[stock.YEAR == end_year]       # to select end date randomly\n",
    "        end = get_random_day_in_specified_year(end_year, end_start_frame[\"HGDG_TARIH\"])[0]\n",
    "        end_str = end.strftime(\"%Y-%m-%d\")\n",
    "        if print_mode:\n",
    "            print(f\"randomly selected end date   : {end_str}\")\n",
    "            \n",
    "    else:\n",
    "        start_str = start_year\n",
    "        start = datetime.datetime.strptime(start_year, \"%d-%m-%Y\")\n",
    "        if print_mode:\n",
    "            print(f\"selected start date          : {start_year}\")\n",
    "            \n",
    "        end_str = end_year\n",
    "        end = datetime.datetime.strptime(end_year, \"%d-%m-%Y\")\n",
    "        if print_mode:\n",
    "            print(f\"selected end date            : {end_year}\")\n",
    "             \n",
    "    \n",
    "    stock = stock.drop_duplicates(subset=[\"HGDG_TARIH\"], keep=\"last\") # remove duplicate values\n",
    "    stock = stock.reset_index(drop=True)\n",
    "    stock = stock.loc[(stock[\"HGDG_TARIH\"]>= start) & (stock[\"HGDG_TARIH\"] <= end)]\n",
    "    \n",
    "    stock = stock.dropna(subset=['HGDG_KAPANIS'])\n",
    "    stock = stock[stock['HGDG_KAPANIS'] != 0]\n",
    "    \n",
    "    returns = pd.DataFrame(stock[\"HGDG_KAPANIS\"].pct_change()) # calculate daily returns \n",
    "    returns.reset_index(drop = True)\n",
    "    rets_columns = returns[\"HGDG_KAPANIS\"]\n",
    "    \n",
    "    wealth_index = 1 * (1 + (rets_columns)).cumprod() # wealth index\n",
    "    wealth = round(list(wealth_index)[-1],2)                   # daily final wealth index\n",
    "    if print_mode:\n",
    "        print(f\"Wealth                       : {wealth}\")\n",
    "    \n",
    "    results = {\"stock name\": stock_name,\n",
    "              \"wealth\": wealth,\n",
    "              \"stock\": stock,\n",
    "              \"start_date\": start_str,\n",
    "              \"end_date\": end_str} \n",
    "    \n",
    "    return results"
   ]
  },
  {
   "cell_type": "code",
   "execution_count": 192,
   "metadata": {},
   "outputs": [
    {
     "name": "stdout",
     "output_type": "stream",
     "text": [
      "randomly selected stock      : AKENR\n",
      "randomly selected start date : 2014-10-27\n",
      "randomly selected end date   : 2020-04-14\n",
      "Wealth                       : 0.83\n"
     ]
    }
   ],
   "source": [
    "stock = get_random_series(2014, 2020, all_stock_value, print_mode=True, stockName=\"random\", date=\"random\")"
   ]
  },
  {
   "cell_type": "code",
   "execution_count": 193,
   "metadata": {},
   "outputs": [
    {
     "data": {
      "text/plain": [
       "'AKENR'"
      ]
     },
     "execution_count": 193,
     "metadata": {},
     "output_type": "execute_result"
    }
   ],
   "source": [
    "stock[\"stock name\"]"
   ]
  },
  {
   "cell_type": "code",
   "execution_count": 194,
   "metadata": {},
   "outputs": [
    {
     "data": {
      "text/plain": [
       "0.83"
      ]
     },
     "execution_count": 194,
     "metadata": {},
     "output_type": "execute_result"
    }
   ],
   "source": [
    "stock[\"wealth\"]"
   ]
  },
  {
   "cell_type": "code",
   "execution_count": 195,
   "metadata": {},
   "outputs": [
    {
     "data": {
      "text/plain": [
       "'2014-10-27'"
      ]
     },
     "execution_count": 195,
     "metadata": {},
     "output_type": "execute_result"
    }
   ],
   "source": [
    "stock[\"start_date\"]"
   ]
  },
  {
   "cell_type": "code",
   "execution_count": 196,
   "metadata": {},
   "outputs": [
    {
     "data": {
      "text/plain": [
       "'2020-04-14'"
      ]
     },
     "execution_count": 196,
     "metadata": {},
     "output_type": "execute_result"
    }
   ],
   "source": [
    "stock[\"end_date\"]"
   ]
  },
  {
   "cell_type": "code",
   "execution_count": 197,
   "metadata": {},
   "outputs": [
    {
     "name": "stdout",
     "output_type": "stream",
     "text": [
      "the stock you selected       : RALYH\n",
      "selected start date          : 12-11-2014\n",
      "selected end date            : 02-04-2020\n",
      "Wealth                       : 12.27\n"
     ]
    }
   ],
   "source": [
    "stock = get_random_series(\"12-11-2014\", \"02-04-2020\", all_stock_value, print_mode=True, stockName=\"RALYH\", date=\"non-random\")"
   ]
  },
  {
   "cell_type": "code",
   "execution_count": 198,
   "metadata": {},
   "outputs": [],
   "source": [
    "stock = get_random_series(2014, 2020, all_stock_value, print_mode=False, stockName=\"random\", date=\"random\")"
   ]
  },
  {
   "cell_type": "code",
   "execution_count": 199,
   "metadata": {},
   "outputs": [
    {
     "name": "stdout",
     "output_type": "stream",
     "text": [
      "the stock you selected       : MERIT\n",
      "randomly selected start date : 2014-10-03\n",
      "randomly selected end date   : 2020-01-06\n",
      "Wealth                       : 4.08\n"
     ]
    }
   ],
   "source": [
    "stock = get_random_series(2014, 2020, all_stock_value, print_mode=True, stockName=\"MERIT\", date=\"random\")"
   ]
  },
  {
   "cell_type": "code",
   "execution_count": 200,
   "metadata": {},
   "outputs": [],
   "source": [
    "def reverse_date_str(string):\n",
    "    \"\"\"\n",
    "    The function reverse string date variable\n",
    "    \"\"\"\n",
    "    return string[-2:] + \"-\" + string[5:7] + \"-\" + string[:4] "
   ]
  },
  {
   "cell_type": "code",
   "execution_count": 201,
   "metadata": {},
   "outputs": [
    {
     "data": {
      "text/plain": [
       "'03-09-2014'"
      ]
     },
     "execution_count": 201,
     "metadata": {},
     "output_type": "execute_result"
    }
   ],
   "source": [
    "string = '2014-09-03'\n",
    "reverse_date_str(string)"
   ]
  },
  {
   "cell_type": "markdown",
   "metadata": {},
   "source": [
    "---\n",
    "#### Rassal olarak portföy belirleme"
   ]
  },
  {
   "cell_type": "code",
   "execution_count": 202,
   "metadata": {},
   "outputs": [],
   "source": [
    "def portfolio_random(all_stock_value, number_of_stocks: int, start_year, end_year):\n",
    "    \"\"\"\n",
    "    The function returns portfolio randomly selected in terms of both dates and stocks\n",
    "    Args:\n",
    "        - all_stock_value        : database\n",
    "        - number_of_stocks (int) : number of stock wanted to be involved in the portfolio\n",
    "        - start_year             : start year (e.g. 2014)\n",
    "        - end_year               : end year (e.g. 2017)\n",
    "    \"\"\"\n",
    "    wealths = []\n",
    "    stock_names = []\n",
    "    counter = 0\n",
    "    start_date = []\n",
    "    end_date = []\n",
    "    while number_of_stocks > counter:\n",
    "        # print(\"-\"*42)\n",
    "        if len(start_date) == 0:\n",
    "            try:\n",
    "                stock = get_random_series(start_year, end_year, all_stock_value, print_mode=False, \n",
    "                                          stockName=\"random\", date=\"random\")\n",
    "                wealths.append(stock[\"wealth\"])\n",
    "                stock_names.append(stock[\"stock name\"])\n",
    "                counter += 1\n",
    "                start_date.append(reverse_date_str(stock[\"start_date\"]))\n",
    "                end_date.append(reverse_date_str(stock[\"end_date\"]))\n",
    "            except:\n",
    "                counter = counter\n",
    "        \n",
    "        else:\n",
    "            try:\n",
    "                stock = get_random_series(start_date[0], end_date[0], all_stock_value, print_mode=False, \n",
    "                                          stockName=\"random\", date=\"non-random\")\n",
    "                wealths.append(stock[\"wealth\"])\n",
    "                stock_names.append(stock[\"stock name\"])\n",
    "                counter += 1\n",
    "                start_date.append(stock[\"start_date\"])\n",
    "                end_date.append(stock[\"end_date\"])\n",
    "            except:\n",
    "                counter = counter  \n",
    "\n",
    "    result = {\"stock names\": stock_names,\n",
    "              \"wealths\": wealths,\n",
    "             \"average wealth\": np.array(wealths).mean(),\n",
    "             \"dates\": [start_date[0], end_date[0]]}\n",
    "            \n",
    "    return result "
   ]
  },
  {
   "cell_type": "code",
   "execution_count": 203,
   "metadata": {},
   "outputs": [],
   "source": [
    "random_move = portfolio_random(all_stock_value, 5, 2010, 2015)"
   ]
  },
  {
   "cell_type": "code",
   "execution_count": 204,
   "metadata": {},
   "outputs": [
    {
     "data": {
      "text/plain": [
       "{'stock names': ['MZHLD', 'BAGFS', 'AVOD', 'MAKTK', 'ATAGY'],\n",
       " 'wealths': [0.88, 1.9, 0.5, 1.17, 2.58],\n",
       " 'average wealth': 1.406,\n",
       " 'dates': ['21-01-2010', '25-02-2015']}"
      ]
     },
     "execution_count": 204,
     "metadata": {},
     "output_type": "execute_result"
    }
   ],
   "source": [
    "random_move"
   ]
  },
  {
   "cell_type": "code",
   "execution_count": 205,
   "metadata": {},
   "outputs": [
    {
     "data": {
      "text/plain": [
       "['MZHLD', 'BAGFS', 'AVOD', 'MAKTK', 'ATAGY']"
      ]
     },
     "execution_count": 205,
     "metadata": {},
     "output_type": "execute_result"
    }
   ],
   "source": [
    "random_move[\"stock names\"]"
   ]
  },
  {
   "cell_type": "code",
   "execution_count": 206,
   "metadata": {},
   "outputs": [
    {
     "data": {
      "text/plain": [
       "[0.88, 1.9, 0.5, 1.17, 2.58]"
      ]
     },
     "execution_count": 206,
     "metadata": {},
     "output_type": "execute_result"
    }
   ],
   "source": [
    "random_move[\"wealths\"]"
   ]
  },
  {
   "cell_type": "code",
   "execution_count": 207,
   "metadata": {},
   "outputs": [
    {
     "data": {
      "text/plain": [
       "1.406"
      ]
     },
     "execution_count": 207,
     "metadata": {},
     "output_type": "execute_result"
    }
   ],
   "source": [
    "random_move[\"average wealth\"]"
   ]
  },
  {
   "cell_type": "code",
   "execution_count": 208,
   "metadata": {},
   "outputs": [
    {
     "data": {
      "text/plain": [
       "['21-01-2010', '25-02-2015']"
      ]
     },
     "execution_count": 208,
     "metadata": {},
     "output_type": "execute_result"
    }
   ],
   "source": [
    "random_move[\"dates\"]"
   ]
  },
  {
   "cell_type": "markdown",
   "metadata": {},
   "source": [
    "---\n",
    "#### Portföyü belirlediğimiz bir süre (gün) daha elimizde tutsak ne olurdu?"
   ]
  },
  {
   "cell_type": "code",
   "execution_count": 209,
   "metadata": {},
   "outputs": [],
   "source": [
    "def portfolio_additional_time(portfolio_results, additional_days):\n",
    "    \"\"\"\n",
    "    The function is to observe additional time after the function of portfolio_random.\n",
    "    Args:\n",
    "        - portfolio_results  : output of portfolio_random function\n",
    "        - additional days    : how long do you want to carry that portfolio\n",
    "    \n",
    "    \"\"\"\n",
    "    stock_names  = portfolio_results[\"stock names\"]\n",
    "    additional_wealths = []\n",
    "    for stock in stock_names:\n",
    "        start_date = portfolio_results[\"dates\"][1]\n",
    "        end_date = datetime.datetime.strptime(start_date, \"%d-%m-%Y\")\n",
    "        end_date = end_date + datetime.timedelta(days=additional_days)\n",
    "        end_date = end_date.strftime(\"%d-%m-%Y\")\n",
    "        stock = get_random_series(start_date, end_date, all_stock_value, print_mode=True, stockName=stock, date=\"non-random\")\n",
    "        additional_wealths.append(stock[\"wealth\"])\n",
    "        \n",
    "    results = {\"names\": stock_names,\n",
    "              \"wealths\": additional_wealths} \n",
    "    \n",
    "    return results"
   ]
  },
  {
   "cell_type": "code",
   "execution_count": 210,
   "metadata": {},
   "outputs": [
    {
     "name": "stdout",
     "output_type": "stream",
     "text": [
      "the stock you selected       : MZHLD\n",
      "selected start date          : 25-02-2015\n",
      "selected end date            : 24-08-2015\n",
      "Wealth                       : 0.75\n",
      "the stock you selected       : BAGFS\n",
      "selected start date          : 25-02-2015\n",
      "selected end date            : 24-08-2015\n",
      "Wealth                       : 0.87\n",
      "the stock you selected       : AVOD\n",
      "selected start date          : 25-02-2015\n",
      "selected end date            : 24-08-2015\n",
      "Wealth                       : 0.94\n",
      "the stock you selected       : MAKTK\n",
      "selected start date          : 25-02-2015\n",
      "selected end date            : 24-08-2015\n",
      "Wealth                       : 0.68\n",
      "the stock you selected       : ATAGY\n",
      "selected start date          : 25-02-2015\n",
      "selected end date            : 24-08-2015\n",
      "Wealth                       : 1.17\n"
     ]
    },
    {
     "data": {
      "text/plain": [
       "{'names': ['MZHLD', 'BAGFS', 'AVOD', 'MAKTK', 'ATAGY'],\n",
       " 'wealths': [0.75, 0.87, 0.94, 0.68, 1.17]}"
      ]
     },
     "execution_count": 210,
     "metadata": {},
     "output_type": "execute_result"
    }
   ],
   "source": [
    "portfolio_additional_time(random_move, 180)"
   ]
  },
  {
   "cell_type": "markdown",
   "metadata": {},
   "source": [
    "---"
   ]
  },
  {
   "cell_type": "code",
   "execution_count": null,
   "metadata": {},
   "outputs": [],
   "source": []
  },
  {
   "cell_type": "code",
   "execution_count": 218,
   "metadata": {},
   "outputs": [
    {
     "data": {
      "text/plain": [
       "<matplotlib.axes._subplots.AxesSubplot at 0x12bd0bc10>"
      ]
     },
     "execution_count": 218,
     "metadata": {},
     "output_type": "execute_result"
    },
    {
     "data": {
      "image/png": "[encoded data removed]",
      "text/plain": [
       "<Figure size 648x288 with 1 Axes>"
      ]
     },
     "metadata": {
      "needs_background": "light"
     },
     "output_type": "display_data"
    }
   ],
   "source": [
    "sm.plot_ratios(\"BIMAS\", \"networth_base\", term = \"12\")"
   ]
  },
  {
   "cell_type": "code",
   "execution_count": 219,
   "metadata": {},
   "outputs": [
    {
     "data": {
      "text/plain": [
       "<matplotlib.axes._subplots.AxesSubplot at 0x1691ccc10>"
      ]
     },
     "execution_count": 219,
     "metadata": {},
     "output_type": "execute_result"
    },
    {
     "data": {
      "image/png": "[encoded data removed]",
      "text/plain": [
       "<Figure size 648x288 with 1 Axes>"
      ]
     },
     "metadata": {
      "needs_background": "light"
     },
     "output_type": "display_data"
    }
   ],
   "source": [
    "sm.plot_ratios_double(\"BIMAS\", \"total_assets\", \"equity\", term = \"12\")"
   ]
  },
  {
   "cell_type": "code",
   "execution_count": 136,
   "metadata": {},
   "outputs": [
    {
     "data": {
      "text/plain": [
       "<matplotlib.axes._subplots.AxesSubplot at 0x14621b190>"
      ]
     },
     "execution_count": 136,
     "metadata": {},
     "output_type": "execute_result"
    },
    {
     "data": {
      "image/png": "[encoded data removed]",
      "text/plain": [
       "<Figure size 648x288 with 1 Axes>"
      ]
     },
     "metadata": {
      "needs_background": "light"
     },
     "output_type": "display_data"
    }
   ],
   "source": [
    "sm.plot_ratios_double(\"ENJSA\", \"turnover\", \"gross_profit\", term = \"12\")"
   ]
  },
  {
   "cell_type": "code",
   "execution_count": 4,
   "metadata": {},
   "outputs": [],
   "source": [
    "ratio_list = sm.ratio_list"
   ]
  },
  {
   "cell_type": "code",
   "execution_count": 5,
   "metadata": {},
   "outputs": [
    {
     "data": {
      "text/plain": [
       "['turnover',\n",
       " 'total_assets',\n",
       " 'equity',\n",
       " 'gross_profit',\n",
       " 'gross_profit_margin',\n",
       " 'networth_base',\n",
       " 'net_profit_margin',\n",
       " 'net_profit',\n",
       " 'ebitda',\n",
       " 'ebitda_margin',\n",
       " 'ebit',\n",
       " 'ebit_margin',\n",
       " 'net_debt',\n",
       " 'netDebt_ebitda',\n",
       " 'roe',\n",
       " 'roa',\n",
       " 'acid_test',\n",
       " 'cash_ratio',\n",
       " 'current_ratio',\n",
       " 'asset_turnover',\n",
       " 'debt_equity',\n",
       " 'marketing_selling_general_to_gross']"
      ]
     },
     "execution_count": 5,
     "metadata": {},
     "output_type": "execute_result"
    }
   ],
   "source": [
    "ratio_list"
   ]
  },
  {
   "cell_type": "code",
   "execution_count": 6,
   "metadata": {},
   "outputs": [],
   "source": [
    "terms = {\"first_quarter\": 3, \"second_quarter\": 6, \"third_quarter\": 9, \"year_end\": 12}"
   ]
  },
  {
   "cell_type": "code",
   "execution_count": 7,
   "metadata": {},
   "outputs": [],
   "source": [
    "def update_financial_database():\n",
    "    fs_frames = []\n",
    "    for ratio in ratio_list:\n",
    "        for key, value in terms.items():\n",
    "            frame = sm.ratio_for_all_stocks(str(ratio), term = str(value))\n",
    "            frame[\"ratio\"] = ratio\n",
    "            frame[\"term_type\"] = key\n",
    "            frame = frame.sort_index()\n",
    "            fs_frames.append(frame)\n",
    "    frames = pd.concat(fs_frames)\n",
    "\n",
    "    frames.to_pickle(\"financials_database\")\n",
    "    \n",
    "    return frames"
   ]
  },
  {
   "cell_type": "code",
   "execution_count": 8,
   "metadata": {},
   "outputs": [
    {
     "data": {
      "text/html": [
       "<div>\n",
       "<style scoped>\n",
       "    .dataframe tbody tr th:only-of-type {\n",
       "        vertical-align: middle;\n",
       "    }\n",
       "\n",
       "    .dataframe tbody tr th {\n",
       "        vertical-align: top;\n",
       "    }\n",
       "\n",
       "    .dataframe thead th {\n",
       "        text-align: right;\n",
       "    }\n",
       "</style>\n",
       "<table border=\"1\" class=\"dataframe\">\n",
       "  <thead>\n",
       "    <tr style=\"text-align: right;\">\n",
       "      <th></th>\n",
       "      <th>CEMAS</th>\n",
       "      <th>AFYON</th>\n",
       "      <th>BNTAS</th>\n",
       "      <th>MRGYO</th>\n",
       "      <th>ADEL</th>\n",
       "      <th>TKFEN</th>\n",
       "      <th>IHLAS</th>\n",
       "      <th>AKMGY</th>\n",
       "      <th>MAVI</th>\n",
       "      <th>BSOKE</th>\n",
       "      <th>...</th>\n",
       "      <th>INFO</th>\n",
       "      <th>GOZDE</th>\n",
       "      <th>CUSAN</th>\n",
       "      <th>CLEBI</th>\n",
       "      <th>AKFGY</th>\n",
       "      <th>UNYEC</th>\n",
       "      <th>TSGYO</th>\n",
       "      <th>GSDHO</th>\n",
       "      <th>ratio</th>\n",
       "      <th>term_type</th>\n",
       "    </tr>\n",
       "  </thead>\n",
       "  <tbody>\n",
       "    <tr>\n",
       "      <th>2008/3</th>\n",
       "      <td>NaN</td>\n",
       "      <td>4.822848e+06</td>\n",
       "      <td>NaN</td>\n",
       "      <td>1.307310e+06</td>\n",
       "      <td>2.375118e+07</td>\n",
       "      <td>6.587700e+08</td>\n",
       "      <td>9.891977e+07</td>\n",
       "      <td>1.539626e+07</td>\n",
       "      <td>NaN</td>\n",
       "      <td>2.317877e+07</td>\n",
       "      <td>...</td>\n",
       "      <td>NaN</td>\n",
       "      <td>NaN</td>\n",
       "      <td>NaN</td>\n",
       "      <td>5.199946e+07</td>\n",
       "      <td>NaN</td>\n",
       "      <td>3.803712e+07</td>\n",
       "      <td>NaN</td>\n",
       "      <td>0.000000</td>\n",
       "      <td>turnover</td>\n",
       "      <td>first_quarter</td>\n",
       "    </tr>\n",
       "    <tr>\n",
       "      <th>2009/3</th>\n",
       "      <td>NaN</td>\n",
       "      <td>3.000749e+06</td>\n",
       "      <td>NaN</td>\n",
       "      <td>1.693288e+06</td>\n",
       "      <td>2.589664e+07</td>\n",
       "      <td>6.439850e+08</td>\n",
       "      <td>9.464217e+07</td>\n",
       "      <td>1.629302e+07</td>\n",
       "      <td>NaN</td>\n",
       "      <td>1.007295e+07</td>\n",
       "      <td>...</td>\n",
       "      <td>NaN</td>\n",
       "      <td>NaN</td>\n",
       "      <td>NaN</td>\n",
       "      <td>5.441021e+07</td>\n",
       "      <td>NaN</td>\n",
       "      <td>2.667004e+07</td>\n",
       "      <td>1.103494e+06</td>\n",
       "      <td>0.000000</td>\n",
       "      <td>turnover</td>\n",
       "      <td>first_quarter</td>\n",
       "    </tr>\n",
       "    <tr>\n",
       "      <th>2010/3</th>\n",
       "      <td>7.304473e+06</td>\n",
       "      <td>7.021200e+06</td>\n",
       "      <td>NaN</td>\n",
       "      <td>3.268365e+06</td>\n",
       "      <td>3.087205e+07</td>\n",
       "      <td>6.020130e+08</td>\n",
       "      <td>1.253251e+08</td>\n",
       "      <td>1.319872e+07</td>\n",
       "      <td>NaN</td>\n",
       "      <td>1.617611e+07</td>\n",
       "      <td>...</td>\n",
       "      <td>5.788676e+08</td>\n",
       "      <td>0.000000e+00</td>\n",
       "      <td>NaN</td>\n",
       "      <td>6.225972e+07</td>\n",
       "      <td>4.241876e+06</td>\n",
       "      <td>3.252227e+07</td>\n",
       "      <td>3.675478e+06</td>\n",
       "      <td>0.000000</td>\n",
       "      <td>turnover</td>\n",
       "      <td>first_quarter</td>\n",
       "    </tr>\n",
       "    <tr>\n",
       "      <th>2011/3</th>\n",
       "      <td>1.497835e+07</td>\n",
       "      <td>7.674840e+06</td>\n",
       "      <td>NaN</td>\n",
       "      <td>2.237747e+06</td>\n",
       "      <td>3.727248e+07</td>\n",
       "      <td>6.898470e+08</td>\n",
       "      <td>1.496458e+08</td>\n",
       "      <td>1.410174e+07</td>\n",
       "      <td>NaN</td>\n",
       "      <td>1.888656e+07</td>\n",
       "      <td>...</td>\n",
       "      <td>1.627899e+08</td>\n",
       "      <td>3.000000e+05</td>\n",
       "      <td>NaN</td>\n",
       "      <td>8.534830e+07</td>\n",
       "      <td>5.812725e+06</td>\n",
       "      <td>4.396289e+07</td>\n",
       "      <td>3.576199e+06</td>\n",
       "      <td>0.000000</td>\n",
       "      <td>turnover</td>\n",
       "      <td>first_quarter</td>\n",
       "    </tr>\n",
       "    <tr>\n",
       "      <th>2012/3</th>\n",
       "      <td>1.804739e+07</td>\n",
       "      <td>3.773981e+06</td>\n",
       "      <td>NaN</td>\n",
       "      <td>7.084209e+06</td>\n",
       "      <td>3.263664e+07</td>\n",
       "      <td>1.000179e+09</td>\n",
       "      <td>1.003227e+08</td>\n",
       "      <td>1.832332e+07</td>\n",
       "      <td>NaN</td>\n",
       "      <td>2.481192e+07</td>\n",
       "      <td>...</td>\n",
       "      <td>1.156615e+08</td>\n",
       "      <td>6.056588e+07</td>\n",
       "      <td>NaN</td>\n",
       "      <td>1.065368e+08</td>\n",
       "      <td>6.984414e+06</td>\n",
       "      <td>4.106137e+07</td>\n",
       "      <td>4.131667e+06</td>\n",
       "      <td>0.000000</td>\n",
       "      <td>turnover</td>\n",
       "      <td>first_quarter</td>\n",
       "    </tr>\n",
       "    <tr>\n",
       "      <th>...</th>\n",
       "      <td>...</td>\n",
       "      <td>...</td>\n",
       "      <td>...</td>\n",
       "      <td>...</td>\n",
       "      <td>...</td>\n",
       "      <td>...</td>\n",
       "      <td>...</td>\n",
       "      <td>...</td>\n",
       "      <td>...</td>\n",
       "      <td>...</td>\n",
       "      <td>...</td>\n",
       "      <td>...</td>\n",
       "      <td>...</td>\n",
       "      <td>...</td>\n",
       "      <td>...</td>\n",
       "      <td>...</td>\n",
       "      <td>...</td>\n",
       "      <td>...</td>\n",
       "      <td>...</td>\n",
       "      <td>...</td>\n",
       "      <td>...</td>\n",
       "    </tr>\n",
       "    <tr>\n",
       "      <th>2015/12</th>\n",
       "      <td>2.364629e+00</td>\n",
       "      <td>2.838809e-01</td>\n",
       "      <td>0.529820</td>\n",
       "      <td>5.278808e-01</td>\n",
       "      <td>6.001058e-01</td>\n",
       "      <td>6.531327e-01</td>\n",
       "      <td>1.992763e+00</td>\n",
       "      <td>7.209404e-02</td>\n",
       "      <td>0.788628</td>\n",
       "      <td>3.652785e-01</td>\n",
       "      <td>...</td>\n",
       "      <td>8.036815e-01</td>\n",
       "      <td>2.523790e+00</td>\n",
       "      <td>0.477775</td>\n",
       "      <td>4.511525e-01</td>\n",
       "      <td>1.502494e-01</td>\n",
       "      <td>3.363788e-01</td>\n",
       "      <td>3.558712e-01</td>\n",
       "      <td>1.185683</td>\n",
       "      <td>marketing_selling_general_to_gross</td>\n",
       "      <td>year_end</td>\n",
       "    </tr>\n",
       "    <tr>\n",
       "      <th>2016/12</th>\n",
       "      <td>1.217947e+00</td>\n",
       "      <td>9.060247e-01</td>\n",
       "      <td>0.556267</td>\n",
       "      <td>1.305028e+00</td>\n",
       "      <td>5.753764e-01</td>\n",
       "      <td>4.519153e-01</td>\n",
       "      <td>6.109225e-01</td>\n",
       "      <td>7.218619e-02</td>\n",
       "      <td>0.787093</td>\n",
       "      <td>6.898198e-01</td>\n",
       "      <td>...</td>\n",
       "      <td>1.021471e+00</td>\n",
       "      <td>4.129562e-01</td>\n",
       "      <td>0.506815</td>\n",
       "      <td>6.306740e-01</td>\n",
       "      <td>1.696878e-01</td>\n",
       "      <td>2.985600e-01</td>\n",
       "      <td>3.312154e-01</td>\n",
       "      <td>0.918172</td>\n",
       "      <td>marketing_selling_general_to_gross</td>\n",
       "      <td>year_end</td>\n",
       "    </tr>\n",
       "    <tr>\n",
       "      <th>2017/12</th>\n",
       "      <td>1.291009e+00</td>\n",
       "      <td>1.570326e-01</td>\n",
       "      <td>0.888070</td>\n",
       "      <td>7.382608e-01</td>\n",
       "      <td>5.883953e-01</td>\n",
       "      <td>3.597262e-01</td>\n",
       "      <td>9.143975e-01</td>\n",
       "      <td>7.173086e-02</td>\n",
       "      <td>0.766111</td>\n",
       "      <td>9.886870e-01</td>\n",
       "      <td>...</td>\n",
       "      <td>9.680910e-01</td>\n",
       "      <td>1.566522e+00</td>\n",
       "      <td>0.766996</td>\n",
       "      <td>4.670196e-01</td>\n",
       "      <td>1.505168e-01</td>\n",
       "      <td>3.360294e-01</td>\n",
       "      <td>2.868361e-01</td>\n",
       "      <td>0.409055</td>\n",
       "      <td>marketing_selling_general_to_gross</td>\n",
       "      <td>year_end</td>\n",
       "    </tr>\n",
       "    <tr>\n",
       "      <th>2018/12</th>\n",
       "      <td>8.600137e-01</td>\n",
       "      <td>1.883705e-01</td>\n",
       "      <td>0.458230</td>\n",
       "      <td>3.694865e-01</td>\n",
       "      <td>5.882690e-01</td>\n",
       "      <td>2.887899e-01</td>\n",
       "      <td>6.090254e-01</td>\n",
       "      <td>7.780438e-02</td>\n",
       "      <td>0.736989</td>\n",
       "      <td>5.092122e-01</td>\n",
       "      <td>...</td>\n",
       "      <td>9.811483e-01</td>\n",
       "      <td>4.215686e+00</td>\n",
       "      <td>1.013056</td>\n",
       "      <td>4.085427e-01</td>\n",
       "      <td>1.619167e-01</td>\n",
       "      <td>4.778690e-01</td>\n",
       "      <td>2.690613e-01</td>\n",
       "      <td>0.311436</td>\n",
       "      <td>marketing_selling_general_to_gross</td>\n",
       "      <td>year_end</td>\n",
       "    </tr>\n",
       "    <tr>\n",
       "      <th>2019/12</th>\n",
       "      <td>1.671531e+00</td>\n",
       "      <td>-1.209204e+00</td>\n",
       "      <td>0.515451</td>\n",
       "      <td>NaN</td>\n",
       "      <td>6.356373e-01</td>\n",
       "      <td>3.201912e-01</td>\n",
       "      <td>9.108416e-01</td>\n",
       "      <td>8.067654e-02</td>\n",
       "      <td>0.725564</td>\n",
       "      <td>-1.954358e+00</td>\n",
       "      <td>...</td>\n",
       "      <td>7.854160e-01</td>\n",
       "      <td>1.108420e+00</td>\n",
       "      <td>0.810785</td>\n",
       "      <td>4.225440e-01</td>\n",
       "      <td>7.706445e-02</td>\n",
       "      <td>NaN</td>\n",
       "      <td>3.479700e-01</td>\n",
       "      <td>0.325317</td>\n",
       "      <td>marketing_selling_general_to_gross</td>\n",
       "      <td>year_end</td>\n",
       "    </tr>\n",
       "  </tbody>\n",
       "</table>\n",
       "<p>1078 rows × 380 columns</p>\n",
       "</div>"
      ],
      "text/plain": [
       "                CEMAS         AFYON     BNTAS         MRGYO          ADEL  \\\n",
       "2008/3            NaN  4.822848e+06       NaN  1.307310e+06  2.375118e+07   \n",
       "2009/3            NaN  3.000749e+06       NaN  1.693288e+06  2.589664e+07   \n",
       "2010/3   7.304473e+06  7.021200e+06       NaN  3.268365e+06  3.087205e+07   \n",
       "2011/3   1.497835e+07  7.674840e+06       NaN  2.237747e+06  3.727248e+07   \n",
       "2012/3   1.804739e+07  3.773981e+06       NaN  7.084209e+06  3.263664e+07   \n",
       "...               ...           ...       ...           ...           ...   \n",
       "2015/12  2.364629e+00  2.838809e-01  0.529820  5.278808e-01  6.001058e-01   \n",
       "2016/12  1.217947e+00  9.060247e-01  0.556267  1.305028e+00  5.753764e-01   \n",
       "2017/12  1.291009e+00  1.570326e-01  0.888070  7.382608e-01  5.883953e-01   \n",
       "2018/12  8.600137e-01  1.883705e-01  0.458230  3.694865e-01  5.882690e-01   \n",
       "2019/12  1.671531e+00 -1.209204e+00  0.515451           NaN  6.356373e-01   \n",
       "\n",
       "                TKFEN         IHLAS         AKMGY      MAVI         BSOKE  \\\n",
       "2008/3   6.587700e+08  9.891977e+07  1.539626e+07       NaN  2.317877e+07   \n",
       "2009/3   6.439850e+08  9.464217e+07  1.629302e+07       NaN  1.007295e+07   \n",
       "2010/3   6.020130e+08  1.253251e+08  1.319872e+07       NaN  1.617611e+07   \n",
       "2011/3   6.898470e+08  1.496458e+08  1.410174e+07       NaN  1.888656e+07   \n",
       "2012/3   1.000179e+09  1.003227e+08  1.832332e+07       NaN  2.481192e+07   \n",
       "...               ...           ...           ...       ...           ...   \n",
       "2015/12  6.531327e-01  1.992763e+00  7.209404e-02  0.788628  3.652785e-01   \n",
       "2016/12  4.519153e-01  6.109225e-01  7.218619e-02  0.787093  6.898198e-01   \n",
       "2017/12  3.597262e-01  9.143975e-01  7.173086e-02  0.766111  9.886870e-01   \n",
       "2018/12  2.887899e-01  6.090254e-01  7.780438e-02  0.736989  5.092122e-01   \n",
       "2019/12  3.201912e-01  9.108416e-01  8.067654e-02  0.725564 -1.954358e+00   \n",
       "\n",
       "         ...          INFO         GOZDE     CUSAN         CLEBI  \\\n",
       "2008/3   ...           NaN           NaN       NaN  5.199946e+07   \n",
       "2009/3   ...           NaN           NaN       NaN  5.441021e+07   \n",
       "2010/3   ...  5.788676e+08  0.000000e+00       NaN  6.225972e+07   \n",
       "2011/3   ...  1.627899e+08  3.000000e+05       NaN  8.534830e+07   \n",
       "2012/3   ...  1.156615e+08  6.056588e+07       NaN  1.065368e+08   \n",
       "...      ...           ...           ...       ...           ...   \n",
       "2015/12  ...  8.036815e-01  2.523790e+00  0.477775  4.511525e-01   \n",
       "2016/12  ...  1.021471e+00  4.129562e-01  0.506815  6.306740e-01   \n",
       "2017/12  ...  9.680910e-01  1.566522e+00  0.766996  4.670196e-01   \n",
       "2018/12  ...  9.811483e-01  4.215686e+00  1.013056  4.085427e-01   \n",
       "2019/12  ...  7.854160e-01  1.108420e+00  0.810785  4.225440e-01   \n",
       "\n",
       "                AKFGY         UNYEC         TSGYO     GSDHO  \\\n",
       "2008/3            NaN  3.803712e+07           NaN  0.000000   \n",
       "2009/3            NaN  2.667004e+07  1.103494e+06  0.000000   \n",
       "2010/3   4.241876e+06  3.252227e+07  3.675478e+06  0.000000   \n",
       "2011/3   5.812725e+06  4.396289e+07  3.576199e+06  0.000000   \n",
       "2012/3   6.984414e+06  4.106137e+07  4.131667e+06  0.000000   \n",
       "...               ...           ...           ...       ...   \n",
       "2015/12  1.502494e-01  3.363788e-01  3.558712e-01  1.185683   \n",
       "2016/12  1.696878e-01  2.985600e-01  3.312154e-01  0.918172   \n",
       "2017/12  1.505168e-01  3.360294e-01  2.868361e-01  0.409055   \n",
       "2018/12  1.619167e-01  4.778690e-01  2.690613e-01  0.311436   \n",
       "2019/12  7.706445e-02           NaN  3.479700e-01  0.325317   \n",
       "\n",
       "                                      ratio      term_type  \n",
       "2008/3                             turnover  first_quarter  \n",
       "2009/3                             turnover  first_quarter  \n",
       "2010/3                             turnover  first_quarter  \n",
       "2011/3                             turnover  first_quarter  \n",
       "2012/3                             turnover  first_quarter  \n",
       "...                                     ...            ...  \n",
       "2015/12  marketing_selling_general_to_gross       year_end  \n",
       "2016/12  marketing_selling_general_to_gross       year_end  \n",
       "2017/12  marketing_selling_general_to_gross       year_end  \n",
       "2018/12  marketing_selling_general_to_gross       year_end  \n",
       "2019/12  marketing_selling_general_to_gross       year_end  \n",
       "\n",
       "[1078 rows x 380 columns]"
      ]
     },
     "execution_count": 8,
     "metadata": {},
     "output_type": "execute_result"
    }
   ],
   "source": [
    "update_financial_database()"
   ]
  },
  {
   "cell_type": "code",
   "execution_count": 10,
   "metadata": {},
   "outputs": [],
   "source": []
  },
  {
   "cell_type": "code",
   "execution_count": null,
   "metadata": {},
   "outputs": [],
   "source": []
  },
  {
   "cell_type": "code",
   "execution_count": null,
   "metadata": {},
   "outputs": [],
   "source": [
    "def sampling(number_of_samples:int, sample_size:int, start_year:int, end_year:int):\n",
    "    wealths = [] \n",
    "    for i in range(number_of_samples):   \n",
    "        wealth = portfolio_random(all_stock_value, sample_size, start_year, end_year)[\"average wealth\"]\n",
    "        wealths.append(wealth)\n",
    "    \n",
    "    return wealths"
   ]
  },
  {
   "cell_type": "code",
   "execution_count": null,
   "metadata": {},
   "outputs": [],
   "source": []
  },
  {
   "cell_type": "code",
   "execution_count": null,
   "metadata": {},
   "outputs": [],
   "source": []
  },
  {
   "cell_type": "code",
   "execution_count": null,
   "metadata": {},
   "outputs": [],
   "source": []
  },
  {
   "cell_type": "code",
   "execution_count": null,
   "metadata": {},
   "outputs": [],
   "source": []
  },
  {
   "cell_type": "code",
   "execution_count": null,
   "metadata": {},
   "outputs": [],
   "source": []
  },
  {
   "cell_type": "code",
   "execution_count": null,
   "metadata": {},
   "outputs": [],
   "source": []
  }
 ],
 "metadata": {
  "kernelspec": {
   "display_name": "my_env_stock",
   "language": "python",
   "name": "my_env_stock"
  },
  "language_info": {
   "codemirror_mode": {
    "name": "ipython",
    "version": 3
   },
   "file_extension": ".py",
   "mimetype": "text/x-python",
   "name": "python",
   "nbconvert_exporter": "python",
   "pygments_lexer": "ipython3",
   "version": "3.7.6"
  }
 },
 "nbformat": 4,
 "nbformat_minor": 4
}
