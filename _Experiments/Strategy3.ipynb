{
 "cells": [
  {
   "cell_type": "code",
   "execution_count": 2,
   "metadata": {},
   "outputs": [],
   "source": [
    "import numpy as np\n",
    "import pandas as pd\n",
    "import matplotlib.pyplot as plt\n",
    "import seaborn as sns\n",
    "import stock_module as sm\n",
    "import random\n",
    "import os\n",
    "import datetime\n",
    "import time\n",
    "import openpyxl\n",
    "from sklearn.preprocessing import scale\n",
    "from scipy.signal import savgol_filter\n",
    "from sklearn import preprocessing\n",
    "from sklearn.preprocessing import MinMaxScaler"
   ]
  },
  {
   "cell_type": "code",
   "execution_count": 3,
   "metadata": {},
   "outputs": [],
   "source": [
    "def remove_noise(frame, first_par, second_par):\n",
    "    w_out_noise = savgol_filter(frame[\"StockValue\"], first_par, second_par)\n",
    "    frame[\"StockValue\"] = w_out_noise\n",
    "    frame_f = frame[[\"StockValue\"]]\n",
    "    return frame_f"
   ]
  },
  {
   "cell_type": "code",
   "execution_count": 4,
   "metadata": {},
   "outputs": [],
   "source": [
    "def ma_columns(frame_column, list_ma):\n",
    "    MAs = [] \n",
    "    for ma in list_ma:\n",
    "        MA = pd.DataFrame(sm.short_moving_average(frame_column, ma)[\"StockValue\"]).rename(columns={\"StockValue\": f\"MA_{ma}\"})\n",
    "        MAs.append(MA)\n",
    "        \n",
    "    frame = MAs[0].join(MAs[1])\n",
    "    for i in range(len(MAs)-2):\n",
    "        frame = frame.join(MAs[i+2])\n",
    "    \n",
    "    frame = frame.dropna()\n",
    "    \n",
    "    return frame"
   ]
  },
  {
   "cell_type": "code",
   "execution_count": 5,
   "metadata": {},
   "outputs": [],
   "source": [
    "def buy_sell_recommendations(new_frame):\n",
    "    new_frame['rec_1'] = np.where((new_frame['MA_7_50'] > new_frame[\"MA_50_200\"]*0.8)\n",
    "                                         , \"BUY\", \"SELL\")\n",
    "    new_frame['rec_2'] = np.where((new_frame['MA_14_100'] > new_frame[\"MA_50_200\"]*0.9)\n",
    "                                         , \"BUY\", \"SELL\")\n",
    "    return new_frame"
   ]
  },
  {
   "cell_type": "code",
   "execution_count": 6,
   "metadata": {},
   "outputs": [],
   "source": [
    "def get_locations(new_frame):\n",
    "    loc_first=[]\n",
    "    for row in range(new_frame.shape[0]-1):\n",
    "\n",
    "            if new_frame.iloc[row,:].rec_1 == \"SELL\":\n",
    "                if new_frame.iloc[row+1,:].rec_1 == \"BUY\":\n",
    "                    start = row+1\n",
    "                    loc_first.append(start)\n",
    "\n",
    "            if new_frame.iloc[row,:].rec_1 == \"BUY\":\n",
    "                if new_frame.iloc[row+1,:].rec_1 == \"SELL\":\n",
    "                    end = row+2\n",
    "                    loc_first.append(end)\n",
    "                    \n",
    "    loc_second=[]\n",
    "    for row in range(new_frame.shape[0]-1):\n",
    "\n",
    "        if new_frame.iloc[row,:].rec_2 == \"SELL\":\n",
    "            if new_frame.iloc[row+1,:].rec_2 == \"BUY\":\n",
    "                start = row+1\n",
    "                loc_second.append(start)\n",
    "\n",
    "        if new_frame.iloc[row,:].rec_2 == \"BUY\":\n",
    "            if new_frame.iloc[row+1,:].rec_2 == \"SELL\":\n",
    "                end = row+2\n",
    "                loc_second.append(end)\n",
    "                \n",
    "    return [loc_first, loc_second]"
   ]
  },
  {
   "cell_type": "code",
   "execution_count": 7,
   "metadata": {},
   "outputs": [],
   "source": [
    "def get_transactions(new_frame, column, locations):\n",
    "    if new_frame.iloc[0,:][str(column)] == \"SELL\":\n",
    "        transactions = [[locations[buy], locations[sell]] for buy, sell in zip(range(0,len(locations),2), range(1,len(locations),2))]\n",
    "    else:\n",
    "        transactions = [[locations[buy], locations[sell]] for buy, sell in zip(range(1,len(locations),2), range(2,len(locations),2))]\n",
    "        transactions.insert(0, [0, locations[0]])\n",
    "\n",
    "    return transactions"
   ]
  },
  {
   "cell_type": "code",
   "execution_count": 8,
   "metadata": {},
   "outputs": [],
   "source": [
    "def returns(new_frame, list_of_transactions):\n",
    "    returns = []\n",
    "    for transactions in list_of_transactions:\n",
    "        buy = list(new_frame.iloc[transactions[0]:transactions[1],:][\"StockValue\"])[0]\n",
    "        sell = list(new_frame.iloc[transactions[0]:transactions[1],:][\"StockValue\"])[-1]\n",
    "        ret = (sell-buy)/buy\n",
    "        returns.append(ret)\n",
    "    \n",
    "    return returns"
   ]
  },
  {
   "cell_type": "code",
   "execution_count": 9,
   "metadata": {},
   "outputs": [],
   "source": [
    "def prod(list_of_all_returns):\n",
    "    return np.prod([ret+1 for ret in list_of_all_returns]) "
   ]
  },
  {
   "cell_type": "code",
   "execution_count": 10,
   "metadata": {},
   "outputs": [],
   "source": [
    "def get_only_frame(stock_name, start_date, end_date, ma_list, noise_first_par, noise_second_par):\n",
    "    frame = sm.extract_stock_values(start_date, end_date, [stock_name])\n",
    "    frame = frame.drop_duplicates(subset=[\"HGDG_HS_KODU\", \"HGDG_TARIH\"], keep=\"last\")\n",
    "    frame = frame.rename(columns={\"HGDG_KAPANIS\": \"StockValue\"})\n",
    "    frame = frame.sort_values(by=[\"HGDG_TARIH\"])\n",
    "    frame = frame.reset_index(drop=True)\n",
    "    frame.to_pickle(stock_name)\n",
    "    \n",
    "    frame_f = remove_noise(frame, noise_first_par, noise_second_par)\n",
    "    new_frame = ma_columns(frame_f, ma_list)\n",
    "    \n",
    "    new_frame[\"MA_7_50\"] = new_frame[\"MA_7\"] - new_frame[\"MA_50\"]\n",
    "    new_frame[\"MA_14_100\"] = new_frame[\"MA_14\"] - new_frame[\"MA_100\"]\n",
    "    new_frame[\"MA_50_200\"] = new_frame[\"MA_50\"] - new_frame[\"MA_200\"]\n",
    "    \n",
    "    frame = pd.read_pickle(stock_name)\n",
    "    frame = frame[[\"HGDG_TARIH\", \"StockValue\"]]\n",
    "    new_frame = new_frame.join(frame)\n",
    "    \n",
    "    new_frame = buy_sell_recommendations(new_frame)\n",
    "    new_frame = new_frame.rename(columns={\"HGDG_TARIH\": \"Date\"})\n",
    "    \n",
    "    return new_frame"
   ]
  },
  {
   "cell_type": "code",
   "execution_count": 11,
   "metadata": {},
   "outputs": [],
   "source": [
    "def simulation(stock_name, start_date, end_date, ma_list, noise_first_par, noise_second_par):\n",
    "    \n",
    "    frame = sm.extract_stock_values(start_date, end_date, [stock_name])\n",
    "    frame = frame.drop_duplicates(subset=[\"HGDG_HS_KODU\", \"HGDG_TARIH\"], keep=\"last\")\n",
    "    frame = frame.rename(columns={\"HGDG_KAPANIS\": \"StockValue\"})\n",
    "    frame = frame.sort_values(by=[\"HGDG_TARIH\"])\n",
    "    frame = frame.reset_index(drop=True)\n",
    "    frame.to_pickle(stock_name)\n",
    "    \n",
    "    frame_f = remove_noise(frame, noise_first_par, noise_second_par)\n",
    "    new_frame = ma_columns(frame_f, ma_list)\n",
    "    \n",
    "    new_frame[\"MA_7_50\"] = new_frame[\"MA_7\"] - new_frame[\"MA_50\"]\n",
    "    new_frame[\"MA_14_100\"] = new_frame[\"MA_14\"] - new_frame[\"MA_100\"]\n",
    "    new_frame[\"MA_50_200\"] = new_frame[\"MA_50\"] - new_frame[\"MA_200\"]\n",
    "    \n",
    "    frame = pd.read_pickle(stock_name)\n",
    "    frame = frame[[\"HGDG_TARIH\", \"StockValue\"]]\n",
    "    new_frame = new_frame.join(frame)\n",
    "    \n",
    "    new_frame = buy_sell_recommendations(new_frame)\n",
    "    new_frame = new_frame.rename(columns={\"HGDG_TARIH\": \"Date\"})\n",
    "    \n",
    "    loc_first = get_locations(new_frame)[0]\n",
    "    loc_second = get_locations(new_frame)[1]\n",
    "    \n",
    "    first_transactions = get_transactions(new_frame, \"rec_1\", loc_first)\n",
    "    second_transactions = get_transactions(new_frame, \"rec_2\", loc_second)\n",
    "\n",
    "    first_returns = returns(new_frame, first_transactions)\n",
    "    second_returns = returns(new_frame, second_transactions)\n",
    "    \n",
    "    first_cum_return = prod(first_returns)\n",
    "    print(f\"Final position of first transactions : {first_cum_return}\")\n",
    "    print(f\"Duration (days) - total length       : {sum([t[1]-t[0] for t in first_transactions])} - {new_frame.shape[0]}\")\n",
    "    print(f\"Returns of first transactions        : {[round(first,3) for first in first_returns]}\")\n",
    "    print(f\"Locations of first transactions      : {first_transactions}\")\n",
    "    print(\"-\"*85)\n",
    "    \n",
    "    second_cum_return  = prod(second_returns)\n",
    "    print(f\"Final position of second transactions: {second_cum_return}\")\n",
    "    print(f\"Duration (days) - total length       : {sum([t[1]-t[0] for t in second_transactions])} - {new_frame.shape[0]}\")\n",
    "    print(f\"Returns of second transactions       : {[round(second,3) for second in second_returns]}\")\n",
    "    print(f\"Locations of second transactions     : {second_transactions}\")\n",
    "    print(\"-\"*85)\n",
    "\n",
    "    totalReturn = (first_cum_return + second_cum_return) / 2\n",
    "    print(f\"Ultimate position : {totalReturn}\")\n",
    "    \n",
    "    return totalReturn"
   ]
  },
  {
   "cell_type": "code",
   "execution_count": null,
   "metadata": {},
   "outputs": [],
   "source": []
  },
  {
   "cell_type": "code",
   "execution_count": 12,
   "metadata": {},
   "outputs": [],
   "source": [
    "start_date = \"01-03-2015\"\n",
    "end_date = \"25-02-2021\"\n",
    "stock_name = \"NATEN\"\n",
    "ma_list=[7,14,50,100,200]\n",
    "noise_first_par = 51\n",
    "noise_second_par = 2"
   ]
  },
  {
   "cell_type": "code",
   "execution_count": 13,
   "metadata": {},
   "outputs": [
    {
     "name": "stdout",
     "output_type": "stream",
     "text": [
      "Final position of first transactions : 1.0\n",
      "Duration (days) - total length       : 0 - 23\n",
      "Returns of first transactions        : []\n",
      "Locations of first transactions      : []\n",
      "-------------------------------------------------------------------------------------\n",
      "Final position of second transactions: 1.0\n",
      "Duration (days) - total length       : 0 - 23\n",
      "Returns of second transactions       : []\n",
      "Locations of second transactions     : []\n",
      "-------------------------------------------------------------------------------------\n",
      "Ultimate position : 1.0\n"
     ]
    },
    {
     "data": {
      "text/plain": [
       "1.0"
      ]
     },
     "execution_count": 13,
     "metadata": {},
     "output_type": "execute_result"
    }
   ],
   "source": [
    "simulation(stock_name, start_date, end_date, ma_list, noise_first_par, noise_second_par)"
   ]
  },
  {
   "cell_type": "code",
   "execution_count": 14,
   "metadata": {},
   "outputs": [],
   "source": [
    "frame = get_only_frame(stock_name, start_date, end_date, ma_list, noise_first_par, noise_second_par)"
   ]
  },
  {
   "cell_type": "code",
   "execution_count": 15,
   "metadata": {},
   "outputs": [
    {
     "data": {
      "text/html": [
       "<div>\n",
       "<style scoped>\n",
       "    .dataframe tbody tr th:only-of-type {\n",
       "        vertical-align: middle;\n",
       "    }\n",
       "\n",
       "    .dataframe tbody tr th {\n",
       "        vertical-align: top;\n",
       "    }\n",
       "\n",
       "    .dataframe thead th {\n",
       "        text-align: right;\n",
       "    }\n",
       "</style>\n",
       "<table border=\"1\" class=\"dataframe\">\n",
       "  <thead>\n",
       "    <tr style=\"text-align: right;\">\n",
       "      <th></th>\n",
       "      <th>MA_7</th>\n",
       "      <th>MA_14</th>\n",
       "      <th>MA_50</th>\n",
       "      <th>MA_100</th>\n",
       "      <th>MA_200</th>\n",
       "      <th>MA_7_50</th>\n",
       "      <th>MA_14_100</th>\n",
       "      <th>MA_50_200</th>\n",
       "      <th>Date</th>\n",
       "      <th>StockValue</th>\n",
       "      <th>rec_1</th>\n",
       "      <th>rec_2</th>\n",
       "    </tr>\n",
       "  </thead>\n",
       "  <tbody>\n",
       "  </tbody>\n",
       "</table>\n",
       "</div>"
      ],
      "text/plain": [
       "Empty DataFrame\n",
       "Columns: [MA_7, MA_14, MA_50, MA_100, MA_200, MA_7_50, MA_14_100, MA_50_200, Date, StockValue, rec_1, rec_2]\n",
       "Index: []"
      ]
     },
     "execution_count": 15,
     "metadata": {},
     "output_type": "execute_result"
    }
   ],
   "source": [
    "frame.iloc[32:140,:]"
   ]
  },
  {
   "cell_type": "code",
   "execution_count": 16,
   "metadata": {},
   "outputs": [
    {
     "data": {
      "text/plain": [
       "<matplotlib.axes._subplots.AxesSubplot at 0x11b422910>"
      ]
     },
     "execution_count": 16,
     "metadata": {},
     "output_type": "execute_result"
    },
    {
     "data": {
      "image/png": "[encoded data removed]",
      "text/plain": [
       "<Figure size 2160x504 with 1 Axes>"
      ]
     },
     "metadata": {
      "needs_background": "light"
     },
     "output_type": "display_data"
    }
   ],
   "source": [
    "frame[[\"MA_7_50\",\"MA_14_100\",\"MA_50_200\", \"StockValue\"]].plot(figsize=(30,7))"
   ]
  },
  {
   "cell_type": "code",
   "execution_count": 688,
   "metadata": {},
   "outputs": [
    {
     "data": {
      "text/plain": [
       "0.021589698983281665"
      ]
     },
     "execution_count": 688,
     "metadata": {},
     "output_type": "execute_result"
    }
   ],
   "source": [
    "sm.volatility(stock_name, start_date, end_date)"
   ]
  },
  {
   "cell_type": "code",
   "execution_count": null,
   "metadata": {},
   "outputs": [],
   "source": []
  },
  {
   "cell_type": "code",
   "execution_count": null,
   "metadata": {},
   "outputs": [],
   "source": [
    "## Fonksiyonların nasıl çalıştığını hatırlamak için aşağıda yer alan tutorial incele!"
   ]
  },
  {
   "cell_type": "markdown",
   "metadata": {},
   "source": [
    "---\n",
    "### TUTORIAL "
   ]
  },
  {
   "cell_type": "code",
   "execution_count": 42,
   "metadata": {},
   "outputs": [],
   "source": [
    "start_date = \"01-01-2015\"\n",
    "end_date = \"01-01-2021\"\n",
    "stock_name = \"BIMAS\"\n",
    "ma_list=[7,14,50,100,200]\n",
    "noise_first_par = 101\n",
    "noise_second_par = 2"
   ]
  },
  {
   "cell_type": "code",
   "execution_count": 43,
   "metadata": {},
   "outputs": [],
   "source": [
    "# scrap et getir --> ihtiyaç hisse senedi değerleri (günlük)\n",
    "frame = sm.extract_stock_values(start_date, end_date, [stock_name])\n",
    "frame = frame.drop_duplicates(subset=[\"HGDG_HS_KODU\", \"HGDG_TARIH\"], keep=\"last\")\n",
    "frame = frame.rename(columns={\"HGDG_KAPANIS\": \"StockValue\"})\n",
    "frame.to_pickle(stock_name)"
   ]
  },
  {
   "cell_type": "code",
   "execution_count": 44,
   "metadata": {},
   "outputs": [
    {
     "data": {
      "text/html": [
       "<div>\n",
       "<style scoped>\n",
       "    .dataframe tbody tr th:only-of-type {\n",
       "        vertical-align: middle;\n",
       "    }\n",
       "\n",
       "    .dataframe tbody tr th {\n",
       "        vertical-align: top;\n",
       "    }\n",
       "\n",
       "    .dataframe thead th {\n",
       "        text-align: right;\n",
       "    }\n",
       "</style>\n",
       "<table border=\"1\" class=\"dataframe\">\n",
       "  <thead>\n",
       "    <tr style=\"text-align: right;\">\n",
       "      <th></th>\n",
       "      <th>StockValue</th>\n",
       "    </tr>\n",
       "  </thead>\n",
       "  <tbody>\n",
       "    <tr>\n",
       "      <th>1</th>\n",
       "      <td>22.649936</td>\n",
       "    </tr>\n",
       "    <tr>\n",
       "      <th>3</th>\n",
       "      <td>22.570395</td>\n",
       "    </tr>\n",
       "    <tr>\n",
       "      <th>5</th>\n",
       "      <td>22.492430</td>\n",
       "    </tr>\n",
       "    <tr>\n",
       "      <th>7</th>\n",
       "      <td>22.416041</td>\n",
       "    </tr>\n",
       "    <tr>\n",
       "      <th>9</th>\n",
       "      <td>22.341227</td>\n",
       "    </tr>\n",
       "    <tr>\n",
       "      <th>...</th>\n",
       "      <td>...</td>\n",
       "    </tr>\n",
       "    <tr>\n",
       "      <th>1605</th>\n",
       "      <td>68.367365</td>\n",
       "    </tr>\n",
       "    <tr>\n",
       "      <th>1606</th>\n",
       "      <td>68.874392</td>\n",
       "    </tr>\n",
       "    <tr>\n",
       "      <th>1607</th>\n",
       "      <td>69.387643</td>\n",
       "    </tr>\n",
       "    <tr>\n",
       "      <th>1608</th>\n",
       "      <td>69.907119</td>\n",
       "    </tr>\n",
       "    <tr>\n",
       "      <th>1609</th>\n",
       "      <td>70.432819</td>\n",
       "    </tr>\n",
       "  </tbody>\n",
       "</table>\n",
       "<p>1379 rows × 1 columns</p>\n",
       "</div>"
      ],
      "text/plain": [
       "      StockValue\n",
       "1      22.649936\n",
       "3      22.570395\n",
       "5      22.492430\n",
       "7      22.416041\n",
       "9      22.341227\n",
       "...          ...\n",
       "1605   68.367365\n",
       "1606   68.874392\n",
       "1607   69.387643\n",
       "1608   69.907119\n",
       "1609   70.432819\n",
       "\n",
       "[1379 rows x 1 columns]"
      ]
     },
     "execution_count": 44,
     "metadata": {},
     "output_type": "execute_result"
    }
   ],
   "source": [
    "# noise temizleme --> yöntem ve parametreler için fonksiyonunun detayına bak\n",
    "frame = remove_noise(frame, 101, 2)\n",
    "frame"
   ]
  },
  {
   "cell_type": "code",
   "execution_count": 45,
   "metadata": {},
   "outputs": [
    {
     "data": {
      "text/html": [
       "<div>\n",
       "<style scoped>\n",
       "    .dataframe tbody tr th:only-of-type {\n",
       "        vertical-align: middle;\n",
       "    }\n",
       "\n",
       "    .dataframe tbody tr th {\n",
       "        vertical-align: top;\n",
       "    }\n",
       "\n",
       "    .dataframe thead th {\n",
       "        text-align: right;\n",
       "    }\n",
       "</style>\n",
       "<table border=\"1\" class=\"dataframe\">\n",
       "  <thead>\n",
       "    <tr style=\"text-align: right;\">\n",
       "      <th></th>\n",
       "      <th>MA_7</th>\n",
       "      <th>MA_14</th>\n",
       "      <th>MA_50</th>\n",
       "      <th>MA_100</th>\n",
       "      <th>MA_200</th>\n",
       "    </tr>\n",
       "  </thead>\n",
       "  <tbody>\n",
       "    <tr>\n",
       "      <th>399</th>\n",
       "      <td>25.323111</td>\n",
       "      <td>25.077697</td>\n",
       "      <td>23.354192</td>\n",
       "      <td>22.273889</td>\n",
       "      <td>21.737592</td>\n",
       "    </tr>\n",
       "    <tr>\n",
       "      <th>401</th>\n",
       "      <td>25.373402</td>\n",
       "      <td>25.145479</td>\n",
       "      <td>23.436513</td>\n",
       "      <td>22.313144</td>\n",
       "      <td>21.751858</td>\n",
       "    </tr>\n",
       "    <tr>\n",
       "      <th>403</th>\n",
       "      <td>25.418949</td>\n",
       "      <td>25.208420</td>\n",
       "      <td>23.518590</td>\n",
       "      <td>22.352933</td>\n",
       "      <td>21.766690</td>\n",
       "    </tr>\n",
       "    <tr>\n",
       "      <th>405</th>\n",
       "      <td>25.461215</td>\n",
       "      <td>25.267719</td>\n",
       "      <td>23.600299</td>\n",
       "      <td>22.393265</td>\n",
       "      <td>21.782105</td>\n",
       "    </tr>\n",
       "    <tr>\n",
       "      <th>407</th>\n",
       "      <td>25.500372</td>\n",
       "      <td>25.322419</td>\n",
       "      <td>23.681516</td>\n",
       "      <td>22.434161</td>\n",
       "      <td>21.798072</td>\n",
       "    </tr>\n",
       "    <tr>\n",
       "      <th>...</th>\n",
       "      <td>...</td>\n",
       "      <td>...</td>\n",
       "      <td>...</td>\n",
       "      <td>...</td>\n",
       "      <td>...</td>\n",
       "    </tr>\n",
       "    <tr>\n",
       "      <th>1605</th>\n",
       "      <td>66.896079</td>\n",
       "      <td>65.273981</td>\n",
       "      <td>58.537089</td>\n",
       "      <td>53.796821</td>\n",
       "      <td>50.000068</td>\n",
       "    </tr>\n",
       "    <tr>\n",
       "      <th>1606</th>\n",
       "      <td>67.384433</td>\n",
       "      <td>65.740550</td>\n",
       "      <td>58.891442</td>\n",
       "      <td>54.006278</td>\n",
       "      <td>50.108098</td>\n",
       "    </tr>\n",
       "    <tr>\n",
       "      <th>1607</th>\n",
       "      <td>67.879011</td>\n",
       "      <td>66.213343</td>\n",
       "      <td>59.252583</td>\n",
       "      <td>54.219965</td>\n",
       "      <td>50.218616</td>\n",
       "    </tr>\n",
       "    <tr>\n",
       "      <th>1608</th>\n",
       "      <td>68.379814</td>\n",
       "      <td>66.692360</td>\n",
       "      <td>59.619899</td>\n",
       "      <td>54.437992</td>\n",
       "      <td>50.331697</td>\n",
       "    </tr>\n",
       "    <tr>\n",
       "      <th>1609</th>\n",
       "      <td>68.886841</td>\n",
       "      <td>67.177602</td>\n",
       "      <td>59.993103</td>\n",
       "      <td>54.660663</td>\n",
       "      <td>50.447467</td>\n",
       "    </tr>\n",
       "  </tbody>\n",
       "</table>\n",
       "<p>1180 rows × 5 columns</p>\n",
       "</div>"
      ],
      "text/plain": [
       "           MA_7      MA_14      MA_50     MA_100     MA_200\n",
       "399   25.323111  25.077697  23.354192  22.273889  21.737592\n",
       "401   25.373402  25.145479  23.436513  22.313144  21.751858\n",
       "403   25.418949  25.208420  23.518590  22.352933  21.766690\n",
       "405   25.461215  25.267719  23.600299  22.393265  21.782105\n",
       "407   25.500372  25.322419  23.681516  22.434161  21.798072\n",
       "...         ...        ...        ...        ...        ...\n",
       "1605  66.896079  65.273981  58.537089  53.796821  50.000068\n",
       "1606  67.384433  65.740550  58.891442  54.006278  50.108098\n",
       "1607  67.879011  66.213343  59.252583  54.219965  50.218616\n",
       "1608  68.379814  66.692360  59.619899  54.437992  50.331697\n",
       "1609  68.886841  67.177602  59.993103  54.660663  50.447467\n",
       "\n",
       "[1180 rows x 5 columns]"
      ]
     },
     "execution_count": 45,
     "metadata": {},
     "output_type": "execute_result"
    }
   ],
   "source": [
    "# gürültüsü temizlenmiş hisse senedi verilerinden hareketli ortalamaları hesapla\n",
    "new_frame = ma_columns(frame, [7,14,50,100,200])\n",
    "new_frame"
   ]
  },
  {
   "cell_type": "code",
   "execution_count": 46,
   "metadata": {},
   "outputs": [],
   "source": [
    "# belirli haretketli ortalamalar arasındaki farkı al\n",
    "new_frame[\"MA_7_50\"] = new_frame[\"MA_7\"] - new_frame[\"MA_50\"]\n",
    "new_frame[\"MA_14_100\"] = new_frame[\"MA_14\"] - new_frame[\"MA_100\"]\n",
    "new_frame[\"MA_50_200\"] = new_frame[\"MA_50\"] - new_frame[\"MA_200\"]"
   ]
  },
  {
   "cell_type": "code",
   "execution_count": 47,
   "metadata": {},
   "outputs": [
    {
     "data": {
      "text/html": [
       "<div>\n",
       "<style scoped>\n",
       "    .dataframe tbody tr th:only-of-type {\n",
       "        vertical-align: middle;\n",
       "    }\n",
       "\n",
       "    .dataframe tbody tr th {\n",
       "        vertical-align: top;\n",
       "    }\n",
       "\n",
       "    .dataframe thead th {\n",
       "        text-align: right;\n",
       "    }\n",
       "</style>\n",
       "<table border=\"1\" class=\"dataframe\">\n",
       "  <thead>\n",
       "    <tr style=\"text-align: right;\">\n",
       "      <th></th>\n",
       "      <th>MA_7</th>\n",
       "      <th>MA_14</th>\n",
       "      <th>MA_50</th>\n",
       "      <th>MA_100</th>\n",
       "      <th>MA_200</th>\n",
       "      <th>MA_7_50</th>\n",
       "      <th>MA_14_100</th>\n",
       "      <th>MA_50_200</th>\n",
       "      <th>rec_1</th>\n",
       "      <th>rec_2</th>\n",
       "    </tr>\n",
       "  </thead>\n",
       "  <tbody>\n",
       "    <tr>\n",
       "      <th>399</th>\n",
       "      <td>25.323111</td>\n",
       "      <td>25.077697</td>\n",
       "      <td>23.354192</td>\n",
       "      <td>22.273889</td>\n",
       "      <td>21.737592</td>\n",
       "      <td>1.968919</td>\n",
       "      <td>2.803807</td>\n",
       "      <td>1.616600</td>\n",
       "      <td>BUY</td>\n",
       "      <td>BUY</td>\n",
       "    </tr>\n",
       "    <tr>\n",
       "      <th>401</th>\n",
       "      <td>25.373402</td>\n",
       "      <td>25.145479</td>\n",
       "      <td>23.436513</td>\n",
       "      <td>22.313144</td>\n",
       "      <td>21.751858</td>\n",
       "      <td>1.936890</td>\n",
       "      <td>2.832335</td>\n",
       "      <td>1.684654</td>\n",
       "      <td>BUY</td>\n",
       "      <td>BUY</td>\n",
       "    </tr>\n",
       "    <tr>\n",
       "      <th>403</th>\n",
       "      <td>25.418949</td>\n",
       "      <td>25.208420</td>\n",
       "      <td>23.518590</td>\n",
       "      <td>22.352933</td>\n",
       "      <td>21.766690</td>\n",
       "      <td>1.900359</td>\n",
       "      <td>2.855488</td>\n",
       "      <td>1.751900</td>\n",
       "      <td>BUY</td>\n",
       "      <td>BUY</td>\n",
       "    </tr>\n",
       "    <tr>\n",
       "      <th>405</th>\n",
       "      <td>25.461215</td>\n",
       "      <td>25.267719</td>\n",
       "      <td>23.600299</td>\n",
       "      <td>22.393265</td>\n",
       "      <td>21.782105</td>\n",
       "      <td>1.860915</td>\n",
       "      <td>2.874454</td>\n",
       "      <td>1.818194</td>\n",
       "      <td>BUY</td>\n",
       "      <td>BUY</td>\n",
       "    </tr>\n",
       "    <tr>\n",
       "      <th>407</th>\n",
       "      <td>25.500372</td>\n",
       "      <td>25.322419</td>\n",
       "      <td>23.681516</td>\n",
       "      <td>22.434161</td>\n",
       "      <td>21.798072</td>\n",
       "      <td>1.818856</td>\n",
       "      <td>2.888258</td>\n",
       "      <td>1.883444</td>\n",
       "      <td>SELL</td>\n",
       "      <td>BUY</td>\n",
       "    </tr>\n",
       "    <tr>\n",
       "      <th>...</th>\n",
       "      <td>...</td>\n",
       "      <td>...</td>\n",
       "      <td>...</td>\n",
       "      <td>...</td>\n",
       "      <td>...</td>\n",
       "      <td>...</td>\n",
       "      <td>...</td>\n",
       "      <td>...</td>\n",
       "      <td>...</td>\n",
       "      <td>...</td>\n",
       "    </tr>\n",
       "    <tr>\n",
       "      <th>1605</th>\n",
       "      <td>66.896079</td>\n",
       "      <td>65.273981</td>\n",
       "      <td>58.537089</td>\n",
       "      <td>53.796821</td>\n",
       "      <td>50.000068</td>\n",
       "      <td>8.358990</td>\n",
       "      <td>11.477160</td>\n",
       "      <td>8.537021</td>\n",
       "      <td>SELL</td>\n",
       "      <td>BUY</td>\n",
       "    </tr>\n",
       "    <tr>\n",
       "      <th>1606</th>\n",
       "      <td>67.384433</td>\n",
       "      <td>65.740550</td>\n",
       "      <td>58.891442</td>\n",
       "      <td>54.006278</td>\n",
       "      <td>50.108098</td>\n",
       "      <td>8.492991</td>\n",
       "      <td>11.734272</td>\n",
       "      <td>8.783344</td>\n",
       "      <td>SELL</td>\n",
       "      <td>BUY</td>\n",
       "    </tr>\n",
       "    <tr>\n",
       "      <th>1607</th>\n",
       "      <td>67.879011</td>\n",
       "      <td>66.213343</td>\n",
       "      <td>59.252583</td>\n",
       "      <td>54.219965</td>\n",
       "      <td>50.218616</td>\n",
       "      <td>8.626428</td>\n",
       "      <td>11.993378</td>\n",
       "      <td>9.033967</td>\n",
       "      <td>SELL</td>\n",
       "      <td>BUY</td>\n",
       "    </tr>\n",
       "    <tr>\n",
       "      <th>1608</th>\n",
       "      <td>68.379814</td>\n",
       "      <td>66.692360</td>\n",
       "      <td>59.619899</td>\n",
       "      <td>54.437992</td>\n",
       "      <td>50.331697</td>\n",
       "      <td>8.759915</td>\n",
       "      <td>12.254368</td>\n",
       "      <td>9.288202</td>\n",
       "      <td>SELL</td>\n",
       "      <td>BUY</td>\n",
       "    </tr>\n",
       "    <tr>\n",
       "      <th>1609</th>\n",
       "      <td>68.886841</td>\n",
       "      <td>67.177602</td>\n",
       "      <td>59.993103</td>\n",
       "      <td>54.660663</td>\n",
       "      <td>50.447467</td>\n",
       "      <td>8.893738</td>\n",
       "      <td>12.516939</td>\n",
       "      <td>9.545636</td>\n",
       "      <td>SELL</td>\n",
       "      <td>BUY</td>\n",
       "    </tr>\n",
       "  </tbody>\n",
       "</table>\n",
       "<p>1180 rows × 10 columns</p>\n",
       "</div>"
      ],
      "text/plain": [
       "           MA_7      MA_14      MA_50     MA_100     MA_200   MA_7_50  \\\n",
       "399   25.323111  25.077697  23.354192  22.273889  21.737592  1.968919   \n",
       "401   25.373402  25.145479  23.436513  22.313144  21.751858  1.936890   \n",
       "403   25.418949  25.208420  23.518590  22.352933  21.766690  1.900359   \n",
       "405   25.461215  25.267719  23.600299  22.393265  21.782105  1.860915   \n",
       "407   25.500372  25.322419  23.681516  22.434161  21.798072  1.818856   \n",
       "...         ...        ...        ...        ...        ...       ...   \n",
       "1605  66.896079  65.273981  58.537089  53.796821  50.000068  8.358990   \n",
       "1606  67.384433  65.740550  58.891442  54.006278  50.108098  8.492991   \n",
       "1607  67.879011  66.213343  59.252583  54.219965  50.218616  8.626428   \n",
       "1608  68.379814  66.692360  59.619899  54.437992  50.331697  8.759915   \n",
       "1609  68.886841  67.177602  59.993103  54.660663  50.447467  8.893738   \n",
       "\n",
       "      MA_14_100  MA_50_200 rec_1 rec_2  \n",
       "399    2.803807   1.616600   BUY   BUY  \n",
       "401    2.832335   1.684654   BUY   BUY  \n",
       "403    2.855488   1.751900   BUY   BUY  \n",
       "405    2.874454   1.818194   BUY   BUY  \n",
       "407    2.888258   1.883444  SELL   BUY  \n",
       "...         ...        ...   ...   ...  \n",
       "1605  11.477160   8.537021  SELL   BUY  \n",
       "1606  11.734272   8.783344  SELL   BUY  \n",
       "1607  11.993378   9.033967  SELL   BUY  \n",
       "1608  12.254368   9.288202  SELL   BUY  \n",
       "1609  12.516939   9.545636  SELL   BUY  \n",
       "\n",
       "[1180 rows x 10 columns]"
      ]
     },
     "execution_count": 47,
     "metadata": {},
     "output_type": "execute_result"
    }
   ],
   "source": [
    "# iki koldan işlem yapılacak. Detayı için buy_sell_recommendation fonskiyonuna bak\n",
    "new_frame = buy_sell_recommendations(new_frame)\n",
    "new_frame"
   ]
  },
  {
   "cell_type": "code",
   "execution_count": 48,
   "metadata": {},
   "outputs": [
    {
     "data": {
      "text/html": [
       "<div>\n",
       "<style scoped>\n",
       "    .dataframe tbody tr th:only-of-type {\n",
       "        vertical-align: middle;\n",
       "    }\n",
       "\n",
       "    .dataframe tbody tr th {\n",
       "        vertical-align: top;\n",
       "    }\n",
       "\n",
       "    .dataframe thead th {\n",
       "        text-align: right;\n",
       "    }\n",
       "</style>\n",
       "<table border=\"1\" class=\"dataframe\">\n",
       "  <thead>\n",
       "    <tr style=\"text-align: right;\">\n",
       "      <th></th>\n",
       "      <th>MA_7</th>\n",
       "      <th>MA_14</th>\n",
       "      <th>MA_50</th>\n",
       "      <th>MA_100</th>\n",
       "      <th>MA_200</th>\n",
       "      <th>MA_7_50</th>\n",
       "      <th>MA_14_100</th>\n",
       "      <th>MA_50_200</th>\n",
       "      <th>rec_1</th>\n",
       "      <th>rec_2</th>\n",
       "      <th>HGDG_TARIH</th>\n",
       "      <th>StockValue</th>\n",
       "    </tr>\n",
       "  </thead>\n",
       "  <tbody>\n",
       "    <tr>\n",
       "      <th>399</th>\n",
       "      <td>25.323111</td>\n",
       "      <td>25.077697</td>\n",
       "      <td>23.354192</td>\n",
       "      <td>22.273889</td>\n",
       "      <td>21.737592</td>\n",
       "      <td>1.968919</td>\n",
       "      <td>2.803807</td>\n",
       "      <td>1.616600</td>\n",
       "      <td>BUY</td>\n",
       "      <td>BUY</td>\n",
       "      <td>2015-10-16</td>\n",
       "      <td>25.8411</td>\n",
       "    </tr>\n",
       "    <tr>\n",
       "      <th>401</th>\n",
       "      <td>25.373402</td>\n",
       "      <td>25.145479</td>\n",
       "      <td>23.436513</td>\n",
       "      <td>22.313144</td>\n",
       "      <td>21.751858</td>\n",
       "      <td>1.936890</td>\n",
       "      <td>2.832335</td>\n",
       "      <td>1.684654</td>\n",
       "      <td>BUY</td>\n",
       "      <td>BUY</td>\n",
       "      <td>2015-10-19</td>\n",
       "      <td>26.2611</td>\n",
       "    </tr>\n",
       "    <tr>\n",
       "      <th>403</th>\n",
       "      <td>25.418949</td>\n",
       "      <td>25.208420</td>\n",
       "      <td>23.518590</td>\n",
       "      <td>22.352933</td>\n",
       "      <td>21.766690</td>\n",
       "      <td>1.900359</td>\n",
       "      <td>2.855488</td>\n",
       "      <td>1.751900</td>\n",
       "      <td>BUY</td>\n",
       "      <td>BUY</td>\n",
       "      <td>2015-10-20</td>\n",
       "      <td>26.4600</td>\n",
       "    </tr>\n",
       "    <tr>\n",
       "      <th>405</th>\n",
       "      <td>25.461215</td>\n",
       "      <td>25.267719</td>\n",
       "      <td>23.600299</td>\n",
       "      <td>22.393265</td>\n",
       "      <td>21.782105</td>\n",
       "      <td>1.860915</td>\n",
       "      <td>2.874454</td>\n",
       "      <td>1.818194</td>\n",
       "      <td>BUY</td>\n",
       "      <td>BUY</td>\n",
       "      <td>2015-10-21</td>\n",
       "      <td>25.9704</td>\n",
       "    </tr>\n",
       "    <tr>\n",
       "      <th>407</th>\n",
       "      <td>25.500372</td>\n",
       "      <td>25.322419</td>\n",
       "      <td>23.681516</td>\n",
       "      <td>22.434161</td>\n",
       "      <td>21.798072</td>\n",
       "      <td>1.818856</td>\n",
       "      <td>2.888258</td>\n",
       "      <td>1.883444</td>\n",
       "      <td>SELL</td>\n",
       "      <td>BUY</td>\n",
       "      <td>2015-10-22</td>\n",
       "      <td>26.1707</td>\n",
       "    </tr>\n",
       "    <tr>\n",
       "      <th>...</th>\n",
       "      <td>...</td>\n",
       "      <td>...</td>\n",
       "      <td>...</td>\n",
       "      <td>...</td>\n",
       "      <td>...</td>\n",
       "      <td>...</td>\n",
       "      <td>...</td>\n",
       "      <td>...</td>\n",
       "      <td>...</td>\n",
       "      <td>...</td>\n",
       "      <td>...</td>\n",
       "      <td>...</td>\n",
       "    </tr>\n",
       "    <tr>\n",
       "      <th>1605</th>\n",
       "      <td>66.896079</td>\n",
       "      <td>65.273981</td>\n",
       "      <td>58.537089</td>\n",
       "      <td>53.796821</td>\n",
       "      <td>50.000068</td>\n",
       "      <td>8.358990</td>\n",
       "      <td>11.477160</td>\n",
       "      <td>8.537021</td>\n",
       "      <td>SELL</td>\n",
       "      <td>BUY</td>\n",
       "      <td>2020-06-22</td>\n",
       "      <td>68.6500</td>\n",
       "    </tr>\n",
       "    <tr>\n",
       "      <th>1606</th>\n",
       "      <td>67.384433</td>\n",
       "      <td>65.740550</td>\n",
       "      <td>58.891442</td>\n",
       "      <td>54.006278</td>\n",
       "      <td>50.108098</td>\n",
       "      <td>8.492991</td>\n",
       "      <td>11.734272</td>\n",
       "      <td>8.783344</td>\n",
       "      <td>SELL</td>\n",
       "      <td>BUY</td>\n",
       "      <td>2020-06-23</td>\n",
       "      <td>69.0000</td>\n",
       "    </tr>\n",
       "    <tr>\n",
       "      <th>1607</th>\n",
       "      <td>67.879011</td>\n",
       "      <td>66.213343</td>\n",
       "      <td>59.252583</td>\n",
       "      <td>54.219965</td>\n",
       "      <td>50.218616</td>\n",
       "      <td>8.626428</td>\n",
       "      <td>11.993378</td>\n",
       "      <td>9.033967</td>\n",
       "      <td>SELL</td>\n",
       "      <td>BUY</td>\n",
       "      <td>2020-06-24</td>\n",
       "      <td>70.9500</td>\n",
       "    </tr>\n",
       "    <tr>\n",
       "      <th>1608</th>\n",
       "      <td>68.379814</td>\n",
       "      <td>66.692360</td>\n",
       "      <td>59.619899</td>\n",
       "      <td>54.437992</td>\n",
       "      <td>50.331697</td>\n",
       "      <td>8.759915</td>\n",
       "      <td>12.254368</td>\n",
       "      <td>9.288202</td>\n",
       "      <td>SELL</td>\n",
       "      <td>BUY</td>\n",
       "      <td>2020-06-25</td>\n",
       "      <td>70.1500</td>\n",
       "    </tr>\n",
       "    <tr>\n",
       "      <th>1609</th>\n",
       "      <td>68.886841</td>\n",
       "      <td>67.177602</td>\n",
       "      <td>59.993103</td>\n",
       "      <td>54.660663</td>\n",
       "      <td>50.447467</td>\n",
       "      <td>8.893738</td>\n",
       "      <td>12.516939</td>\n",
       "      <td>9.545636</td>\n",
       "      <td>SELL</td>\n",
       "      <td>BUY</td>\n",
       "      <td>2020-06-26</td>\n",
       "      <td>69.8000</td>\n",
       "    </tr>\n",
       "  </tbody>\n",
       "</table>\n",
       "<p>1180 rows × 12 columns</p>\n",
       "</div>"
      ],
      "text/plain": [
       "           MA_7      MA_14      MA_50     MA_100     MA_200   MA_7_50  \\\n",
       "399   25.323111  25.077697  23.354192  22.273889  21.737592  1.968919   \n",
       "401   25.373402  25.145479  23.436513  22.313144  21.751858  1.936890   \n",
       "403   25.418949  25.208420  23.518590  22.352933  21.766690  1.900359   \n",
       "405   25.461215  25.267719  23.600299  22.393265  21.782105  1.860915   \n",
       "407   25.500372  25.322419  23.681516  22.434161  21.798072  1.818856   \n",
       "...         ...        ...        ...        ...        ...       ...   \n",
       "1605  66.896079  65.273981  58.537089  53.796821  50.000068  8.358990   \n",
       "1606  67.384433  65.740550  58.891442  54.006278  50.108098  8.492991   \n",
       "1607  67.879011  66.213343  59.252583  54.219965  50.218616  8.626428   \n",
       "1608  68.379814  66.692360  59.619899  54.437992  50.331697  8.759915   \n",
       "1609  68.886841  67.177602  59.993103  54.660663  50.447467  8.893738   \n",
       "\n",
       "      MA_14_100  MA_50_200 rec_1 rec_2 HGDG_TARIH  StockValue  \n",
       "399    2.803807   1.616600   BUY   BUY 2015-10-16     25.8411  \n",
       "401    2.832335   1.684654   BUY   BUY 2015-10-19     26.2611  \n",
       "403    2.855488   1.751900   BUY   BUY 2015-10-20     26.4600  \n",
       "405    2.874454   1.818194   BUY   BUY 2015-10-21     25.9704  \n",
       "407    2.888258   1.883444  SELL   BUY 2015-10-22     26.1707  \n",
       "...         ...        ...   ...   ...        ...         ...  \n",
       "1605  11.477160   8.537021  SELL   BUY 2020-06-22     68.6500  \n",
       "1606  11.734272   8.783344  SELL   BUY 2020-06-23     69.0000  \n",
       "1607  11.993378   9.033967  SELL   BUY 2020-06-24     70.9500  \n",
       "1608  12.254368   9.288202  SELL   BUY 2020-06-25     70.1500  \n",
       "1609  12.516939   9.545636  SELL   BUY 2020-06-26     69.8000  \n",
       "\n",
       "[1180 rows x 12 columns]"
      ]
     },
     "execution_count": 48,
     "metadata": {},
     "output_type": "execute_result"
    }
   ],
   "source": [
    "# başta scrap edilen ve ham hali hisse senedinin adı ile pickle olarak kaydedilen hisse değerlerini tekrar çağır\n",
    "#   ve yeni oluşturulan frame ile birleştir.\n",
    "frame = pd.read_pickle(stock_name)\n",
    "frame = frame[[\"HGDG_TARIH\", \"StockValue\"]]\n",
    "new_frame = new_frame.join(frame)\n",
    "new_frame = new_frame.rename(columns={\"HGDG_TARIH\": \"Date\"})\n",
    "new_frame"
   ]
  },
  {
   "cell_type": "code",
   "execution_count": 55,
   "metadata": {},
   "outputs": [],
   "source": [
    "# Stratejilere göre işlem yapılan tarih aralıkları\n",
    "loc_first = get_locations(new_frame)[0]\n",
    "loc_second = get_locations(new_frame)[1]"
   ]
  },
  {
   "cell_type": "code",
   "execution_count": 56,
   "metadata": {},
   "outputs": [
    {
     "data": {
      "text/plain": [
       "[5, 85, 133, 242, 369, 652, 765, 909, 978, 1139, 1175]"
      ]
     },
     "execution_count": 56,
     "metadata": {},
     "output_type": "execute_result"
    }
   ],
   "source": [
    "loc_first"
   ]
  },
  {
   "cell_type": "code",
   "execution_count": 57,
   "metadata": {},
   "outputs": [
    {
     "data": {
      "text/plain": [
       "[20, 98, 150, 261, 411, 669, 786, 921, 996, 1130]"
      ]
     },
     "execution_count": 57,
     "metadata": {},
     "output_type": "execute_result"
    }
   ],
   "source": [
    "loc_second"
   ]
  },
  {
   "cell_type": "code",
   "execution_count": 62,
   "metadata": {},
   "outputs": [],
   "source": [
    "# transaction günlerini ikili olarak ayıkla\n",
    "first_transactions = get_transactions(new_frame, \"rec_1\", loc_first)\n",
    "second_transactions = get_transactions(new_frame, \"rec_2\", loc_second)"
   ]
  },
  {
   "cell_type": "code",
   "execution_count": 63,
   "metadata": {},
   "outputs": [
    {
     "data": {
      "text/plain": [
       "[[0, 5], [85, 133], [242, 369], [652, 765], [909, 978], [1139, 1175]]"
      ]
     },
     "execution_count": 63,
     "metadata": {},
     "output_type": "execute_result"
    }
   ],
   "source": [
    "first_transactions"
   ]
  },
  {
   "cell_type": "code",
   "execution_count": 64,
   "metadata": {},
   "outputs": [
    {
     "data": {
      "text/plain": [
       "[[0, 20], [98, 150], [261, 411], [669, 786], [921, 996]]"
      ]
     },
     "execution_count": 64,
     "metadata": {},
     "output_type": "execute_result"
    }
   ],
   "source": [
    "second_transactions"
   ]
  },
  {
   "cell_type": "code",
   "execution_count": null,
   "metadata": {},
   "outputs": [],
   "source": []
  },
  {
   "cell_type": "code",
   "execution_count": 65,
   "metadata": {},
   "outputs": [],
   "source": [
    "first_returns = returns(new_frame, first_transactions)\n",
    "second_returns = returns(new_frame, second_transactions)"
   ]
  },
  {
   "cell_type": "code",
   "execution_count": 66,
   "metadata": {},
   "outputs": [
    {
     "data": {
      "text/plain": [
       "[0.012754874985971928,\n",
       " 0.24949413008604343,\n",
       " 0.13398031902785806,\n",
       " 0.1515718928693612,\n",
       " 0.34129524396366795,\n",
       " 0.22276647970153265]"
      ]
     },
     "execution_count": 66,
     "metadata": {},
     "output_type": "execute_result"
    }
   ],
   "source": [
    "first_returns"
   ]
  },
  {
   "cell_type": "code",
   "execution_count": 67,
   "metadata": {},
   "outputs": [
    {
     "data": {
      "text/plain": [
       "[0.01878403009159821,\n",
       " 0.10092659241167827,\n",
       " 0.2775515506636741,\n",
       " 0.2581541788576517,\n",
       " 0.24179928081072255]"
      ]
     },
     "execution_count": 67,
     "metadata": {},
     "output_type": "execute_result"
    }
   ],
   "source": [
    "second_returns"
   ]
  },
  {
   "cell_type": "code",
   "execution_count": null,
   "metadata": {},
   "outputs": [],
   "source": []
  }
 ],
 "metadata": {
  "kernelspec": {
   "display_name": "my_env_stock",
   "language": "python",
   "name": "my_env_stock"
  },
  "language_info": {
   "codemirror_mode": {
    "name": "ipython",
    "version": 3
   },
   "file_extension": ".py",
   "mimetype": "text/x-python",
   "name": "python",
   "nbconvert_exporter": "python",
   "pygments_lexer": "ipython3",
   "version": "3.7.6"
  }
 },
 "nbformat": 4,
 "nbformat_minor": 4
}
