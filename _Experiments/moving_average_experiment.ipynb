{
 "cells": [
  {
   "cell_type": "code",
   "execution_count": 103,
   "metadata": {},
   "outputs": [],
   "source": [
    "import numpy as np\n",
    "import pandas as pd\n",
    "import matplotlib.pyplot as plt\n",
    "import seaborn as sns\n",
    "import stock_module as sm\n",
    "import random\n",
    "import os\n",
    "import datetime"
   ]
  },
  {
   "cell_type": "code",
   "execution_count": null,
   "metadata": {},
   "outputs": [],
   "source": [
    "def values_from_database():\n",
    "    return pd.read_pickle(\"stocks_values_pivot\")"
   ]
  },
  {
   "cell_type": "code",
   "execution_count": null,
   "metadata": {},
   "outputs": [],
   "source": [
    "def value_stock(stock_name, date_start, \n",
    "                end_date = datetime.datetime.today().strftime(\"%d-%m-%Y\")):\n",
    "    \n",
    "    values = values_from_database()\n",
    "    stock_values = pd.DataFrame(values[stock_name])\n",
    "    stock_values.columns = [\"HGDG_KAPANIS\"]\n",
    "    \n",
    "    date_start = datetime.datetime.strptime(date_start, \"%d-%m-%Y\")\n",
    "\n",
    "    values = stock_values.loc[(stock_values.index > date_start) &\n",
    "                            (stock_values.index < end_date)]\n",
    "    \n",
    "    return values"
   ]
  },
  {
   "cell_type": "code",
   "execution_count": 10,
   "metadata": {},
   "outputs": [],
   "source": [
    "# all_stock_value = pd.read_pickle(\"stocks_values_pivot\")\n",
    "def moving_average(all_stock_value, stock_name: str, number_of_days: int, start_date: str, end_date: str):\n",
    "    \n",
    "    date_start = datetime.datetime.strptime(start_date, \"%d-%m-%Y\") - datetime.timedelta(days=(number_of_days*1.5))\n",
    "    end_date = datetime.datetime.strptime(end_date, \"%d-%m-%Y\")\n",
    "    \n",
    "    data = all_stock_value[[str(stock_name)]]\n",
    "    \n",
    "    data = data.loc[(data.index > date_start) & (data.index < end_date)]\n",
    "    \n",
    "    SMAs = []\n",
    "    for i in range(data.shape[0]):\n",
    "        sma = data[i:i+number_of_days].rolling(window=number_of_days).mean()\n",
    "        sma = sma.iloc[-1,:]\n",
    "        SMAs.append(sma)\n",
    "    SMAs = pd.concat(SMAs, axis=1) \n",
    "    SMAs = SMAs.T\n",
    "    SMAs = SMAs.dropna()\n",
    "    \n",
    "    return SMAs"
   ]
  },
  {
   "cell_type": "code",
   "execution_count": 11,
   "metadata": {},
   "outputs": [
    {
     "data": {
      "text/html": [
       "<div>\n",
       "<style scoped>\n",
       "    .dataframe tbody tr th:only-of-type {\n",
       "        vertical-align: middle;\n",
       "    }\n",
       "\n",
       "    .dataframe tbody tr th {\n",
       "        vertical-align: top;\n",
       "    }\n",
       "\n",
       "    .dataframe thead th {\n",
       "        text-align: right;\n",
       "    }\n",
       "</style>\n",
       "<table border=\"1\" class=\"dataframe\">\n",
       "  <thead>\n",
       "    <tr style=\"text-align: right;\">\n",
       "      <th>HGDG_HS_KODU</th>\n",
       "      <th>SAHOL</th>\n",
       "    </tr>\n",
       "  </thead>\n",
       "  <tbody>\n",
       "    <tr>\n",
       "      <th>2019-05-30</th>\n",
       "      <td>7.2015</td>\n",
       "    </tr>\n",
       "    <tr>\n",
       "      <th>2019-05-31</th>\n",
       "      <td>7.2100</td>\n",
       "    </tr>\n",
       "    <tr>\n",
       "      <th>2019-06-03</th>\n",
       "      <td>7.2250</td>\n",
       "    </tr>\n",
       "    <tr>\n",
       "      <th>2019-06-07</th>\n",
       "      <td>7.2710</td>\n",
       "    </tr>\n",
       "    <tr>\n",
       "      <th>2019-06-10</th>\n",
       "      <td>7.3200</td>\n",
       "    </tr>\n",
       "    <tr>\n",
       "      <th>...</th>\n",
       "      <td>...</td>\n",
       "    </tr>\n",
       "    <tr>\n",
       "      <th>2020-05-06</th>\n",
       "      <td>7.7780</td>\n",
       "    </tr>\n",
       "    <tr>\n",
       "      <th>2020-05-07</th>\n",
       "      <td>7.7965</td>\n",
       "    </tr>\n",
       "    <tr>\n",
       "      <th>2020-05-08</th>\n",
       "      <td>7.8220</td>\n",
       "    </tr>\n",
       "    <tr>\n",
       "      <th>2020-05-11</th>\n",
       "      <td>7.8470</td>\n",
       "    </tr>\n",
       "    <tr>\n",
       "      <th>2020-05-12</th>\n",
       "      <td>7.8755</td>\n",
       "    </tr>\n",
       "  </tbody>\n",
       "</table>\n",
       "<p>237 rows × 1 columns</p>\n",
       "</div>"
      ],
      "text/plain": [
       "HGDG_HS_KODU   SAHOL\n",
       "2019-05-30    7.2015\n",
       "2019-05-31    7.2100\n",
       "2019-06-03    7.2250\n",
       "2019-06-07    7.2710\n",
       "2019-06-10    7.3200\n",
       "...              ...\n",
       "2020-05-06    7.7780\n",
       "2020-05-07    7.7965\n",
       "2020-05-08    7.8220\n",
       "2020-05-11    7.8470\n",
       "2020-05-12    7.8755\n",
       "\n",
       "[237 rows x 1 columns]"
      ]
     },
     "execution_count": 11,
     "metadata": {},
     "output_type": "execute_result"
    }
   ],
   "source": [
    "moving_average(all_stock_value, \"SAHOL\", 20, \"01-06-2019\", \"13-05-2020\")"
   ]
  },
  {
   "cell_type": "markdown",
   "metadata": {},
   "source": [
    "---"
   ]
  },
  {
   "cell_type": "code",
   "execution_count": 104,
   "metadata": {},
   "outputs": [],
   "source": [
    "all_stock_value = pd.read_pickle(\"stocks_values_pivot\")"
   ]
  },
  {
   "cell_type": "code",
   "execution_count": 93,
   "metadata": {},
   "outputs": [],
   "source": [
    "def all_movingAverages(all_stock_value, stock_name: str, number_of_days: list, start_date: str, end_date: str):\n",
    "    \n",
    "    MAs = [] \n",
    "    for days in number_of_days:\n",
    "        MA = moving_average(all_stock_value, stock_name, days, start_date, end_date)\n",
    "        MAs.append(MA)\n",
    "    MAs = pd.concat(MAs, axis=1)\n",
    "    \n",
    "    titles = [(\"MA_\" + str(i)) for i in number_of_days]\n",
    "    MAs.columns = titles\n",
    "    \n",
    "    return MAs"
   ]
  },
  {
   "cell_type": "code",
   "execution_count": 94,
   "metadata": {},
   "outputs": [
    {
     "data": {
      "text/html": [
       "<div>\n",
       "<style scoped>\n",
       "    .dataframe tbody tr th:only-of-type {\n",
       "        vertical-align: middle;\n",
       "    }\n",
       "\n",
       "    .dataframe tbody tr th {\n",
       "        vertical-align: top;\n",
       "    }\n",
       "\n",
       "    .dataframe thead th {\n",
       "        text-align: right;\n",
       "    }\n",
       "</style>\n",
       "<table border=\"1\" class=\"dataframe\">\n",
       "  <thead>\n",
       "    <tr style=\"text-align: right;\">\n",
       "      <th></th>\n",
       "      <th>MA_5</th>\n",
       "      <th>MA_20</th>\n",
       "    </tr>\n",
       "  </thead>\n",
       "  <tbody>\n",
       "    <tr>\n",
       "      <th>2019-05-30</th>\n",
       "      <td>NaN</td>\n",
       "      <td>7.2015</td>\n",
       "    </tr>\n",
       "    <tr>\n",
       "      <th>2019-05-31</th>\n",
       "      <td>7.360</td>\n",
       "      <td>7.2100</td>\n",
       "    </tr>\n",
       "    <tr>\n",
       "      <th>2019-06-03</th>\n",
       "      <td>7.492</td>\n",
       "      <td>7.2250</td>\n",
       "    </tr>\n",
       "    <tr>\n",
       "      <th>2019-06-07</th>\n",
       "      <td>7.692</td>\n",
       "      <td>7.2710</td>\n",
       "    </tr>\n",
       "    <tr>\n",
       "      <th>2019-06-10</th>\n",
       "      <td>7.874</td>\n",
       "      <td>7.3200</td>\n",
       "    </tr>\n",
       "    <tr>\n",
       "      <th>...</th>\n",
       "      <td>...</td>\n",
       "      <td>...</td>\n",
       "    </tr>\n",
       "    <tr>\n",
       "      <th>2020-05-06</th>\n",
       "      <td>8.048</td>\n",
       "      <td>7.7780</td>\n",
       "    </tr>\n",
       "    <tr>\n",
       "      <th>2020-05-07</th>\n",
       "      <td>8.024</td>\n",
       "      <td>7.7965</td>\n",
       "    </tr>\n",
       "    <tr>\n",
       "      <th>2020-05-08</th>\n",
       "      <td>7.990</td>\n",
       "      <td>7.8220</td>\n",
       "    </tr>\n",
       "    <tr>\n",
       "      <th>2020-05-11</th>\n",
       "      <td>8.010</td>\n",
       "      <td>7.8470</td>\n",
       "    </tr>\n",
       "    <tr>\n",
       "      <th>2020-05-12</th>\n",
       "      <td>8.066</td>\n",
       "      <td>7.8755</td>\n",
       "    </tr>\n",
       "  </tbody>\n",
       "</table>\n",
       "<p>237 rows × 2 columns</p>\n",
       "</div>"
      ],
      "text/plain": [
       "             MA_5   MA_20\n",
       "2019-05-30    NaN  7.2015\n",
       "2019-05-31  7.360  7.2100\n",
       "2019-06-03  7.492  7.2250\n",
       "2019-06-07  7.692  7.2710\n",
       "2019-06-10  7.874  7.3200\n",
       "...           ...     ...\n",
       "2020-05-06  8.048  7.7780\n",
       "2020-05-07  8.024  7.7965\n",
       "2020-05-08  7.990  7.8220\n",
       "2020-05-11  8.010  7.8470\n",
       "2020-05-12  8.066  7.8755\n",
       "\n",
       "[237 rows x 2 columns]"
      ]
     },
     "execution_count": 94,
     "metadata": {},
     "output_type": "execute_result"
    }
   ],
   "source": [
    "all_movingAverages(all_stock_value, \"SAHOL\", [5,20], \"01-06-2019\", \"13-05-2020\")"
   ]
  },
  {
   "cell_type": "code",
   "execution_count": 95,
   "metadata": {},
   "outputs": [],
   "source": [
    "def all_movingAverages_plot(all_stock_value, stock_name: str, number_of_days: list, start_date: str, end_date: str):\n",
    "    \n",
    "    MAs = [] \n",
    "    for days in number_of_days:\n",
    "        MA = moving_average(all_stock_value, stock_name, days, start_date, end_date)\n",
    "        MAs.append(MA)\n",
    "    MAs = pd.concat(MAs, axis=1)\n",
    "    \n",
    "    titles = [(\"MA_\" + str(i)) for i in number_of_days]\n",
    "    MAs.columns = titles\n",
    "    \n",
    "    titles = []\n",
    "    for i in range(len(list(MAs))):\n",
    "        titles.append(list(MAs)[i])\n",
    "    \n",
    "    return MAs[titles].plot.line(figsize=(20,5)) "
   ]
  },
  {
   "cell_type": "code",
   "execution_count": 101,
   "metadata": {},
   "outputs": [
    {
     "data": {
      "text/plain": [
       "<matplotlib.axes._subplots.AxesSubplot at 0x1284bbc90>"
      ]
     },
     "execution_count": 101,
     "metadata": {},
     "output_type": "execute_result"
    },
    {
     "data": {
      "image/png": "[encoded data removed]",
      "text/plain": [
       "<Figure size 1440x360 with 1 Axes>"
      ]
     },
     "metadata": {
      "needs_background": "light"
     },
     "output_type": "display_data"
    }
   ],
   "source": [
    "all_movingAverages_plot(all_stock_value, \"SAHOL\", [5,20], \"01-06-2019\", \"13-05-2020\")"
   ]
  },
  {
   "cell_type": "markdown",
   "metadata": {},
   "source": [
    "---"
   ]
  },
  {
   "cell_type": "code",
   "execution_count": 105,
   "metadata": {},
   "outputs": [
    {
     "ename": "AttributeError",
     "evalue": "module 'stock_module' has no attribute 'all_movingAverages'",
     "output_type": "error",
     "traceback": [
      "\u001b[0;31m---------------------------------------------------------------------------\u001b[0m",
      "\u001b[0;31mAttributeError\u001b[0m                            Traceback (most recent call last)",
      "\u001b[0;32m<ipython-input-105-6da14fe4cf67>\u001b[0m in \u001b[0;36m<module>\u001b[0;34m\u001b[0m\n\u001b[0;32m----> 1\u001b[0;31m \u001b[0msm\u001b[0m\u001b[0;34m.\u001b[0m\u001b[0mall_movingAverages\u001b[0m\u001b[0;34m(\u001b[0m\u001b[0mall_stock_value\u001b[0m\u001b[0;34m,\u001b[0m \u001b[0;34m\"THYAO\"\u001b[0m\u001b[0;34m,\u001b[0m \u001b[0;34m[\u001b[0m\u001b[0;36m5\u001b[0m\u001b[0;34m,\u001b[0m\u001b[0;36m20\u001b[0m\u001b[0;34m]\u001b[0m\u001b[0;34m,\u001b[0m \u001b[0;34m\"01-06-2019\"\u001b[0m\u001b[0;34m,\u001b[0m \u001b[0;34m\"13-05-2020\"\u001b[0m\u001b[0;34m)\u001b[0m\u001b[0;34m\u001b[0m\u001b[0;34m\u001b[0m\u001b[0m\n\u001b[0m",
      "\u001b[0;31mAttributeError\u001b[0m: module 'stock_module' has no attribute 'all_movingAverages'"
     ]
    }
   ],
   "source": [
    "sm.all_movingAverages(all_stock_value, \"THYAO\", [5,20], \"01-06-2019\", \"13-05-2020\")"
   ]
  },
  {
   "cell_type": "code",
   "execution_count": null,
   "metadata": {},
   "outputs": [],
   "source": []
  },
  {
   "cell_type": "code",
   "execution_count": null,
   "metadata": {},
   "outputs": [],
   "source": []
  }
 ],
 "metadata": {
  "kernelspec": {
   "display_name": "my_env_stock",
   "language": "python",
   "name": "my_env_stock"
  },
  "language_info": {
   "codemirror_mode": {
    "name": "ipython",
    "version": 3
   },
   "file_extension": ".py",
   "mimetype": "text/x-python",
   "name": "python",
   "nbconvert_exporter": "python",
   "pygments_lexer": "ipython3",
   "version": "3.7.6"
  }
 },
 "nbformat": 4,
 "nbformat_minor": 4
}
