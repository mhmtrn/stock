{
 "cells": [
  {
   "cell_type": "code",
   "execution_count": 46,
   "metadata": {},
   "outputs": [],
   "source": [
    "import numpy as np\n",
    "import pandas as pd\n",
    "import matplotlib.pyplot as plt\n",
    "import seaborn as sns\n",
    "import stock_module as sm\n",
    "import random\n",
    "import os\n",
    "import datetime\n",
    "import time\n",
    "import openpyxl"
   ]
  },
  {
   "cell_type": "raw",
   "metadata": {},
   "source": [
    "Z-Score = 1.2A + 1.4B + 3.3C + 0.6D + 1.0E"
   ]
  },
  {
   "cell_type": "raw",
   "metadata": {},
   "source": [
    "A = working capital / total assets\n",
    "B = retained earnings / total assets\n",
    "C = earnings before interest and tax / total assets\n",
    "D = market value of equity / total liabilities\n",
    "E = sales / total assets"
   ]
  },
  {
   "cell_type": "code",
   "execution_count": 167,
   "metadata": {},
   "outputs": [],
   "source": [
    "stock_name = \"JANTS\""
   ]
  },
  {
   "cell_type": "markdown",
   "metadata": {},
   "source": [
    "### A = working capital / total assets"
   ]
  },
  {
   "cell_type": "code",
   "execution_count": 168,
   "metadata": {},
   "outputs": [
    {
     "data": {
      "text/plain": [
       "2009/12    0.009869\n",
       "2010/12    0.021920\n",
       "2011/12    0.032031\n",
       "2012/12    0.199145\n",
       "2013/12    0.128703\n",
       "2014/12    0.188416\n",
       "2015/12    0.175931\n",
       "2016/12    0.242780\n",
       "2017/12    0.289315\n",
       "2018/12    0.271807\n",
       "2019/12    0.365479\n",
       "Name: WA_to_TotalAssets, dtype: float64"
      ]
     },
     "execution_count": 168,
     "metadata": {},
     "output_type": "execute_result"
    }
   ],
   "source": [
    "A = sm.ratio_calculation(stock_name, \"WA_to_TotalAssets\", term = \"12\")\n",
    "A"
   ]
  },
  {
   "cell_type": "code",
   "execution_count": 169,
   "metadata": {},
   "outputs": [
    {
     "data": {
      "text/plain": [
       "0.36547883610580517"
      ]
     },
     "execution_count": 169,
     "metadata": {},
     "output_type": "execute_result"
    }
   ],
   "source": [
    "A = A[-1]\n",
    "A"
   ]
  },
  {
   "cell_type": "markdown",
   "metadata": {},
   "source": [
    "### B = retained earnings / total assets"
   ]
  },
  {
   "cell_type": "code",
   "execution_count": 170,
   "metadata": {},
   "outputs": [
    {
     "data": {
      "text/plain": [
       "2009/12   -0.025252\n",
       "2010/12    0.067190\n",
       "2011/12    0.060313\n",
       "2012/12    0.093204\n",
       "2013/12    0.077954\n",
       "2014/12    0.184275\n",
       "2015/12    0.073447\n",
       "2016/12    0.076903\n",
       "2017/12    0.162383\n",
       "2018/12    0.167036\n",
       "2019/12    0.194554\n",
       "Name: RetainedEarnings_to_TotalAssets, dtype: float64"
      ]
     },
     "execution_count": 170,
     "metadata": {},
     "output_type": "execute_result"
    }
   ],
   "source": [
    "B = sm.ratio_calculation(stock_name, \"RetainedEarnings_to_TotalAssets\", term = \"12\")\n",
    "B"
   ]
  },
  {
   "cell_type": "code",
   "execution_count": 171,
   "metadata": {},
   "outputs": [
    {
     "data": {
      "text/plain": [
       "0.1945542451174233"
      ]
     },
     "execution_count": 171,
     "metadata": {},
     "output_type": "execute_result"
    }
   ],
   "source": [
    "B = B[-1]\n",
    "B"
   ]
  },
  {
   "cell_type": "markdown",
   "metadata": {},
   "source": [
    "### C = earnings before interest and tax / total assets"
   ]
  },
  {
   "cell_type": "code",
   "execution_count": 172,
   "metadata": {},
   "outputs": [
    {
     "data": {
      "text/plain": [
       "2009/12    0.008935\n",
       "2010/12    0.047027\n",
       "2011/12    0.076675\n",
       "2012/12    0.124360\n",
       "2013/12    0.178900\n",
       "2014/12    0.207381\n",
       "2015/12    0.102510\n",
       "2016/12    0.069991\n",
       "2017/12    0.165639\n",
       "2018/12    0.191130\n",
       "2019/12    0.170983\n",
       "Name: ebit_TotalAssets, dtype: float64"
      ]
     },
     "execution_count": 172,
     "metadata": {},
     "output_type": "execute_result"
    }
   ],
   "source": [
    "C = sm.ratio_calculation(stock_name, \"ebit_TotalAssets\", term = \"12\")\n",
    "C"
   ]
  },
  {
   "cell_type": "code",
   "execution_count": 173,
   "metadata": {},
   "outputs": [
    {
     "data": {
      "text/plain": [
       "0.17098329414584182"
      ]
     },
     "execution_count": 173,
     "metadata": {},
     "output_type": "execute_result"
    }
   ],
   "source": [
    "C = C[-1]\n",
    "C"
   ]
  },
  {
   "cell_type": "markdown",
   "metadata": {},
   "source": [
    "### D = market value of equity / total liabilities"
   ]
  },
  {
   "cell_type": "code",
   "execution_count": 174,
   "metadata": {},
   "outputs": [
    {
     "data": {
      "text/plain": [
       "2009/12    109405599.0\n",
       "2010/12    113543411.0\n",
       "2011/12    106168355.0\n",
       "2012/12     59528694.0\n",
       "2013/12     63405949.0\n",
       "2014/12     56669737.0\n",
       "2015/12     67169274.0\n",
       "2016/12     59426379.0\n",
       "2017/12     95419278.0\n",
       "2018/12    129018900.0\n",
       "2019/12    132362733.0\n",
       "Name: total_liabilities, dtype: float64"
      ]
     },
     "execution_count": 174,
     "metadata": {},
     "output_type": "execute_result"
    }
   ],
   "source": [
    "D_2 = sm.ratio_calculation(stock_name, \"total_liabilities\", term = \"12\")\n",
    "D_2"
   ]
  },
  {
   "cell_type": "code",
   "execution_count": 175,
   "metadata": {},
   "outputs": [
    {
     "data": {
      "text/plain": [
       "132362733.0"
      ]
     },
     "execution_count": 175,
     "metadata": {},
     "output_type": "execute_result"
    }
   ],
   "source": [
    "D_2 = D_2[-1]\n",
    "D_2"
   ]
  },
  {
   "cell_type": "code",
   "execution_count": 176,
   "metadata": {},
   "outputs": [
    {
     "data": {
      "text/plain": [
       "666000000.0"
      ]
     },
     "execution_count": 176,
     "metadata": {},
     "output_type": "execute_result"
    }
   ],
   "source": [
    "D_1 = sm.market_value_specified_date(stock_name, \"31-12-2019\")\n",
    "D_1"
   ]
  },
  {
   "cell_type": "code",
   "execution_count": 177,
   "metadata": {},
   "outputs": [
    {
     "data": {
      "text/plain": [
       "5.031627746761621"
      ]
     },
     "execution_count": 177,
     "metadata": {},
     "output_type": "execute_result"
    }
   ],
   "source": [
    "D = D_1 / D_2\n",
    "D"
   ]
  },
  {
   "cell_type": "markdown",
   "metadata": {},
   "source": [
    "### E = sales / total assets"
   ]
  },
  {
   "cell_type": "code",
   "execution_count": 178,
   "metadata": {},
   "outputs": [
    {
     "data": {
      "text/plain": [
       "2009/12    0.336529\n",
       "2010/12    0.479096\n",
       "2011/12    0.753936\n",
       "2012/12    0.962157\n",
       "2013/12    1.034237\n",
       "2014/12    0.988681\n",
       "2015/12    0.900656\n",
       "2016/12    0.892126\n",
       "2017/12    1.058645\n",
       "2018/12    1.269207\n",
       "2019/12    1.275700\n",
       "Name: sales_to_totalAssets, dtype: float64"
      ]
     },
     "execution_count": 178,
     "metadata": {},
     "output_type": "execute_result"
    }
   ],
   "source": [
    "E = sm.ratio_calculation(stock_name, \"sales_to_totalAssets\", term = \"12\")\n",
    "E"
   ]
  },
  {
   "cell_type": "code",
   "execution_count": 179,
   "metadata": {},
   "outputs": [
    {
     "data": {
      "text/plain": [
       "1.2756995915062783"
      ]
     },
     "execution_count": 179,
     "metadata": {},
     "output_type": "execute_result"
    }
   ],
   "source": [
    "E = E[-1]\n",
    "E"
   ]
  },
  {
   "cell_type": "code",
   "execution_count": null,
   "metadata": {},
   "outputs": [],
   "source": []
  },
  {
   "cell_type": "markdown",
   "metadata": {},
   "source": [
    "### ALTMAN Z-Score = 1.2A + 1.4B + 3.3C + 0.6D + 1.0E"
   ]
  },
  {
   "cell_type": "code",
   "execution_count": 180,
   "metadata": {},
   "outputs": [],
   "source": [
    "Altman_Z_Score = (1.2 * A) + (1.4 * B) + (3.3 * C) + (0.6 * D) + (1.0 * E)"
   ]
  },
  {
   "cell_type": "code",
   "execution_count": 181,
   "metadata": {},
   "outputs": [
    {
     "data": {
      "text/plain": [
       "5.569871656735887"
      ]
     },
     "execution_count": 181,
     "metadata": {},
     "output_type": "execute_result"
    }
   ],
   "source": [
    "Altman_Z_Score"
   ]
  },
  {
   "cell_type": "code",
   "execution_count": null,
   "metadata": {},
   "outputs": [],
   "source": []
  },
  {
   "cell_type": "code",
   "execution_count": null,
   "metadata": {},
   "outputs": [],
   "source": []
  },
  {
   "cell_type": "markdown",
   "metadata": {},
   "source": [
    "## FUNCTION"
   ]
  },
  {
   "cell_type": "code",
   "execution_count": 240,
   "metadata": {},
   "outputs": [],
   "source": [
    "def term_func(term:str):\n",
    "    return f\"{term}/12\"\n",
    "\n",
    "def term_date(term:str):\n",
    "    return f\"31-12-{term}\"\n",
    "\n",
    "def convert_Frame(serie):\n",
    "    return pd.DataFrame(serie)"
   ]
  },
  {
   "cell_type": "code",
   "execution_count": 254,
   "metadata": {},
   "outputs": [],
   "source": [
    "def altman(stock_name, term=\"2019\"):\n",
    "    \n",
    "    term_ = term_func(term)\n",
    "    termDate = term_date(term)\n",
    "    \n",
    "    A = sm.ratio_calculation(stock_name, \"WA_to_TotalAssets\", \"12\")\n",
    "    A = convert_Frame(A)\n",
    "    A = A.loc[A.index == term_].iloc[0,0]\n",
    "    \n",
    "    B = sm.ratio_calculation(stock_name, \"RetainedEarnings_to_TotalAssets\", \"12\")\n",
    "    B = convert_Frame(B)\n",
    "    B = B.loc[B.index == term_].iloc[0,0]\n",
    "    \n",
    "    C = sm.ratio_calculation(stock_name, \"ebit_TotalAssets\", \"12\")\n",
    "    C = convert_Frame(C)\n",
    "    C = C.loc[C.index == term_].iloc[0,0]\n",
    "    \n",
    "    D_1 = sm.market_value_specified_date(stock_name, termDate)\n",
    "    D_2 = sm.ratio_calculation(stock_name, \"total_liabilities\", \"12\")\n",
    "    D_2 = convert_Frame(D_2)\n",
    "    D_2 = D_2.loc[D_2.index == term_].iloc[0,0]\n",
    "    D = D_1 / D_2\n",
    "    \n",
    "    E = sm.ratio_calculation(stock_name, \"sales_to_totalAssets\", \"12\")\n",
    "    E = convert_Frame(E)\n",
    "    E = E.loc[E.index == term_].iloc[0,0]\n",
    "    \n",
    "    Altman_Z_Score = (1.2 * A) + (1.4 * B) + (3.3 * C) + (0.6 * D) + (1.0 * E)\n",
    "    \n",
    "    scores = {\n",
    "        \"WA_to_TotalAssets\"              : A,\n",
    "        \"RetainedEarnings_to_TotalAssets\": B, \n",
    "        \"ebit_TotalAssets\"               : C,\n",
    "        \"total_liabilities\"              : D,\n",
    "        \"sales_to_totalAssets\"           : E,\n",
    "        \"AltmanScore\"                    : Altman_Z_Score\n",
    "    }\n",
    "    \n",
    "    return scores"
   ]
  },
  {
   "cell_type": "code",
   "execution_count": 260,
   "metadata": {},
   "outputs": [
    {
     "data": {
      "text/plain": [
       "{'WA_to_TotalAssets': 0.20543353396240974,\n",
       " 'RetainedEarnings_to_TotalAssets': 0.027296539374561432,\n",
       " 'ebit_TotalAssets': 0.04318490658405683,\n",
       " 'total_liabilities': 0.6553009016808184,\n",
       " 'sales_to_totalAssets': 0.8511928850145306,\n",
       " 'AltmanScore': 1.671619013629687}"
      ]
     },
     "execution_count": 260,
     "metadata": {},
     "output_type": "execute_result"
    }
   ],
   "source": [
    "altman(\"PGSUS\", term=\"2015\")"
   ]
  },
  {
   "cell_type": "code",
   "execution_count": 346,
   "metadata": {},
   "outputs": [],
   "source": [
    "def altman_timeSeries(stock_name, start_year, end_year):\n",
    "    terms = [year for year in range(start_year,end_year+1,1)]\n",
    "    \n",
    "    altmanScores = []\n",
    "    for year in terms:\n",
    "        altmanScores.append(altman(stock_name, term=str(year))[\"AltmanScore\"])\n",
    "        \n",
    "    altmanScores = pd.DataFrame(list(zip(terms, altmanScores)), \n",
    "               columns =['Terms', 'AltmanScores'])\n",
    "    \n",
    "    altmanScores.index = altmanScores.Terms\n",
    "    \n",
    "    altmanScores = altmanScores.drop(['Terms'], axis=1)\n",
    "    \n",
    "    return altmanScores\n",
    "    "
   ]
  },
  {
   "cell_type": "code",
   "execution_count": 360,
   "metadata": {},
   "outputs": [],
   "source": [
    "serie = altman_timeSeries(\"BIMAS\", 2010, 2019)"
   ]
  },
  {
   "cell_type": "code",
   "execution_count": 361,
   "metadata": {},
   "outputs": [
    {
     "data": {
      "text/html": [
       "<div>\n",
       "<style scoped>\n",
       "    .dataframe tbody tr th:only-of-type {\n",
       "        vertical-align: middle;\n",
       "    }\n",
       "\n",
       "    .dataframe tbody tr th {\n",
       "        vertical-align: top;\n",
       "    }\n",
       "\n",
       "    .dataframe thead th {\n",
       "        text-align: right;\n",
       "    }\n",
       "</style>\n",
       "<table border=\"1\" class=\"dataframe\">\n",
       "  <thead>\n",
       "    <tr style=\"text-align: right;\">\n",
       "      <th></th>\n",
       "      <th>AltmanScores</th>\n",
       "    </tr>\n",
       "    <tr>\n",
       "      <th>Terms</th>\n",
       "      <th></th>\n",
       "    </tr>\n",
       "  </thead>\n",
       "  <tbody>\n",
       "    <tr>\n",
       "      <th>2010</th>\n",
       "      <td>11.326070</td>\n",
       "    </tr>\n",
       "    <tr>\n",
       "      <th>2011</th>\n",
       "      <td>9.742927</td>\n",
       "    </tr>\n",
       "    <tr>\n",
       "      <th>2012</th>\n",
       "      <td>11.049442</td>\n",
       "    </tr>\n",
       "    <tr>\n",
       "      <th>2013</th>\n",
       "      <td>9.825533</td>\n",
       "    </tr>\n",
       "    <tr>\n",
       "      <th>2014</th>\n",
       "      <td>9.407430</td>\n",
       "    </tr>\n",
       "    <tr>\n",
       "      <th>2015</th>\n",
       "      <td>8.565981</td>\n",
       "    </tr>\n",
       "    <tr>\n",
       "      <th>2016</th>\n",
       "      <td>7.526905</td>\n",
       "    </tr>\n",
       "    <tr>\n",
       "      <th>2017</th>\n",
       "      <td>7.719250</td>\n",
       "    </tr>\n",
       "    <tr>\n",
       "      <th>2018</th>\n",
       "      <td>7.166732</td>\n",
       "    </tr>\n",
       "    <tr>\n",
       "      <th>2019</th>\n",
       "      <td>4.667325</td>\n",
       "    </tr>\n",
       "  </tbody>\n",
       "</table>\n",
       "</div>"
      ],
      "text/plain": [
       "       AltmanScores\n",
       "Terms              \n",
       "2010      11.326070\n",
       "2011       9.742927\n",
       "2012      11.049442\n",
       "2013       9.825533\n",
       "2014       9.407430\n",
       "2015       8.565981\n",
       "2016       7.526905\n",
       "2017       7.719250\n",
       "2018       7.166732\n",
       "2019       4.667325"
      ]
     },
     "execution_count": 361,
     "metadata": {},
     "output_type": "execute_result"
    }
   ],
   "source": [
    "serie"
   ]
  },
  {
   "cell_type": "code",
   "execution_count": 364,
   "metadata": {},
   "outputs": [],
   "source": [
    "serie = serie.rename(columns = {\"AltmanScores\": \"BIMAS\"})"
   ]
  },
  {
   "cell_type": "code",
   "execution_count": 365,
   "metadata": {},
   "outputs": [
    {
     "data": {
      "text/html": [
       "<div>\n",
       "<style scoped>\n",
       "    .dataframe tbody tr th:only-of-type {\n",
       "        vertical-align: middle;\n",
       "    }\n",
       "\n",
       "    .dataframe tbody tr th {\n",
       "        vertical-align: top;\n",
       "    }\n",
       "\n",
       "    .dataframe thead th {\n",
       "        text-align: right;\n",
       "    }\n",
       "</style>\n",
       "<table border=\"1\" class=\"dataframe\">\n",
       "  <thead>\n",
       "    <tr style=\"text-align: right;\">\n",
       "      <th></th>\n",
       "      <th>BIMAS</th>\n",
       "    </tr>\n",
       "    <tr>\n",
       "      <th>Terms</th>\n",
       "      <th></th>\n",
       "    </tr>\n",
       "  </thead>\n",
       "  <tbody>\n",
       "    <tr>\n",
       "      <th>2010</th>\n",
       "      <td>11.326070</td>\n",
       "    </tr>\n",
       "    <tr>\n",
       "      <th>2011</th>\n",
       "      <td>9.742927</td>\n",
       "    </tr>\n",
       "    <tr>\n",
       "      <th>2012</th>\n",
       "      <td>11.049442</td>\n",
       "    </tr>\n",
       "    <tr>\n",
       "      <th>2013</th>\n",
       "      <td>9.825533</td>\n",
       "    </tr>\n",
       "    <tr>\n",
       "      <th>2014</th>\n",
       "      <td>9.407430</td>\n",
       "    </tr>\n",
       "    <tr>\n",
       "      <th>2015</th>\n",
       "      <td>8.565981</td>\n",
       "    </tr>\n",
       "    <tr>\n",
       "      <th>2016</th>\n",
       "      <td>7.526905</td>\n",
       "    </tr>\n",
       "    <tr>\n",
       "      <th>2017</th>\n",
       "      <td>7.719250</td>\n",
       "    </tr>\n",
       "    <tr>\n",
       "      <th>2018</th>\n",
       "      <td>7.166732</td>\n",
       "    </tr>\n",
       "    <tr>\n",
       "      <th>2019</th>\n",
       "      <td>4.667325</td>\n",
       "    </tr>\n",
       "  </tbody>\n",
       "</table>\n",
       "</div>"
      ],
      "text/plain": [
       "           BIMAS\n",
       "Terms           \n",
       "2010   11.326070\n",
       "2011    9.742927\n",
       "2012   11.049442\n",
       "2013    9.825533\n",
       "2014    9.407430\n",
       "2015    8.565981\n",
       "2016    7.526905\n",
       "2017    7.719250\n",
       "2018    7.166732\n",
       "2019    4.667325"
      ]
     },
     "execution_count": 365,
     "metadata": {},
     "output_type": "execute_result"
    }
   ],
   "source": [
    "serie"
   ]
  },
  {
   "cell_type": "code",
   "execution_count": null,
   "metadata": {},
   "outputs": [],
   "source": [
    "new_data = data.rename(columns = {\"Team\": \"Team Name\", \n",
    "                                  \"College\":\"Education\", \n",
    "                                  \"Salary\": \"Income\"}) "
   ]
  },
  {
   "cell_type": "code",
   "execution_count": 359,
   "metadata": {},
   "outputs": [],
   "source": [
    "stockNames = sm.get_stock_names()"
   ]
  },
  {
   "cell_type": "code",
   "execution_count": 374,
   "metadata": {},
   "outputs": [],
   "source": [
    "def altman_Table(stockNames, start_year, end_year):\n",
    "    series = []\n",
    "    for stock_name in stockNames:\n",
    "        serie = altman_timeSeries(stock_name, start_year, end_year)\n",
    "        serie = serie.rename(columns = {\"AltmanScores\": stock_name})\n",
    "        series.append(serie)\n",
    "        \n",
    "    series = pd.concat(series, axis=1)\n",
    "    return series      "
   ]
  },
  {
   "cell_type": "code",
   "execution_count": 383,
   "metadata": {},
   "outputs": [],
   "source": [
    "testt = altman_Table([\"LOGO\",\"KORDS\",\"JANTS\"], 2010, 2019)"
   ]
  },
  {
   "cell_type": "code",
   "execution_count": 384,
   "metadata": {},
   "outputs": [
    {
     "data": {
      "text/html": [
       "<div>\n",
       "<style scoped>\n",
       "    .dataframe tbody tr th:only-of-type {\n",
       "        vertical-align: middle;\n",
       "    }\n",
       "\n",
       "    .dataframe tbody tr th {\n",
       "        vertical-align: top;\n",
       "    }\n",
       "\n",
       "    .dataframe thead th {\n",
       "        text-align: right;\n",
       "    }\n",
       "</style>\n",
       "<table border=\"1\" class=\"dataframe\">\n",
       "  <thead>\n",
       "    <tr style=\"text-align: right;\">\n",
       "      <th></th>\n",
       "      <th>LOGO</th>\n",
       "      <th>KORDS</th>\n",
       "      <th>JANTS</th>\n",
       "    </tr>\n",
       "    <tr>\n",
       "      <th>Terms</th>\n",
       "      <th></th>\n",
       "      <th></th>\n",
       "      <th></th>\n",
       "    </tr>\n",
       "  </thead>\n",
       "  <tbody>\n",
       "    <tr>\n",
       "      <th>2010</th>\n",
       "      <td>6.812685</td>\n",
       "      <td>2.483328</td>\n",
       "      <td>1.467327</td>\n",
       "    </tr>\n",
       "    <tr>\n",
       "      <th>2011</th>\n",
       "      <td>2.835339</td>\n",
       "      <td>2.194376</td>\n",
       "      <td>1.892016</td>\n",
       "    </tr>\n",
       "    <tr>\n",
       "      <th>2012</th>\n",
       "      <td>4.830420</td>\n",
       "      <td>2.081695</td>\n",
       "      <td>3.017422</td>\n",
       "    </tr>\n",
       "    <tr>\n",
       "      <th>2013</th>\n",
       "      <td>2.694467</td>\n",
       "      <td>1.560290</td>\n",
       "      <td>4.241025</td>\n",
       "    </tr>\n",
       "    <tr>\n",
       "      <th>2014</th>\n",
       "      <td>6.983782</td>\n",
       "      <td>1.730906</td>\n",
       "      <td>6.064762</td>\n",
       "    </tr>\n",
       "    <tr>\n",
       "      <th>2015</th>\n",
       "      <td>9.148030</td>\n",
       "      <td>1.846879</td>\n",
       "      <td>3.508170</td>\n",
       "    </tr>\n",
       "    <tr>\n",
       "      <th>2016</th>\n",
       "      <td>6.212711</td>\n",
       "      <td>1.982354</td>\n",
       "      <td>3.880082</td>\n",
       "    </tr>\n",
       "    <tr>\n",
       "      <th>2017</th>\n",
       "      <td>6.506550</td>\n",
       "      <td>2.107508</td>\n",
       "      <td>4.494243</td>\n",
       "    </tr>\n",
       "    <tr>\n",
       "      <th>2018</th>\n",
       "      <td>2.960676</td>\n",
       "      <td>1.801260</td>\n",
       "      <td>3.891904</td>\n",
       "    </tr>\n",
       "    <tr>\n",
       "      <th>2019</th>\n",
       "      <td>3.692322</td>\n",
       "      <td>1.466629</td>\n",
       "      <td>5.569872</td>\n",
       "    </tr>\n",
       "  </tbody>\n",
       "</table>\n",
       "</div>"
      ],
      "text/plain": [
       "           LOGO     KORDS     JANTS\n",
       "Terms                              \n",
       "2010   6.812685  2.483328  1.467327\n",
       "2011   2.835339  2.194376  1.892016\n",
       "2012   4.830420  2.081695  3.017422\n",
       "2013   2.694467  1.560290  4.241025\n",
       "2014   6.983782  1.730906  6.064762\n",
       "2015   9.148030  1.846879  3.508170\n",
       "2016   6.212711  1.982354  3.880082\n",
       "2017   6.506550  2.107508  4.494243\n",
       "2018   2.960676  1.801260  3.891904\n",
       "2019   3.692322  1.466629  5.569872"
      ]
     },
     "execution_count": 384,
     "metadata": {},
     "output_type": "execute_result"
    }
   ],
   "source": [
    "testt"
   ]
  },
  {
   "cell_type": "code",
   "execution_count": 387,
   "metadata": {
    "scrolled": true
   },
   "outputs": [
    {
     "data": {
      "text/plain": [
       "<matplotlib.axes._subplots.AxesSubplot at 0x120de0590>"
      ]
     },
     "execution_count": 387,
     "metadata": {},
     "output_type": "execute_result"
    },
    {
     "data": {
      "image/png": "[encoded data removed]",
      "text/plain": [
       "<Figure size 1440x360 with 1 Axes>"
      ]
     },
     "metadata": {
      "needs_background": "light"
     },
     "output_type": "display_data"
    }
   ],
   "source": [
    "sm.plot_wealth_index(\"JANTS\", \"31-12-2010\")"
   ]
  },
  {
   "cell_type": "code",
   "execution_count": null,
   "metadata": {},
   "outputs": [],
   "source": []
  }
 ],
 "metadata": {
  "kernelspec": {
   "display_name": "my_env_stock",
   "language": "python",
   "name": "my_env_stock"
  },
  "language_info": {
   "codemirror_mode": {
    "name": "ipython",
    "version": 3
   },
   "file_extension": ".py",
   "mimetype": "text/x-python",
   "name": "python",
   "nbconvert_exporter": "python",
   "pygments_lexer": "ipython3",
   "version": "3.7.6"
  }
 },
 "nbformat": 4,
 "nbformat_minor": 4
}
