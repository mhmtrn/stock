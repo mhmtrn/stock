{
 "cells": [
  {
   "cell_type": "code",
   "execution_count": 1016,
   "metadata": {},
   "outputs": [],
   "source": [
    "import numpy as np\n",
    "import pandas as pd\n",
    "import matplotlib.pyplot as plt\n",
    "import seaborn as sns\n",
    "import stock_module as sm\n",
    "import random\n",
    "import os\n",
    "import datetime\n",
    "import time\n",
    "import openpyxl\n",
    "from sklearn.preprocessing import scale\n",
    "from scipy.signal import savgol_filter"
   ]
  },
  {
   "cell_type": "code",
   "execution_count": 1073,
   "metadata": {},
   "outputs": [],
   "source": [
    "frame_ = pd.read_pickle(\"frame_whole_BIST50\")"
   ]
  },
  {
   "cell_type": "code",
   "execution_count": 1074,
   "metadata": {},
   "outputs": [],
   "source": [
    "def get_stock_frame(stock_name, start_date, end_date):\n",
    "    frame_ = pd.read_pickle(\"frame_whole_BIST50\")\n",
    "    frame = frame_.loc[frame_[\"stock_name\"] == stock_name]\n",
    "    frame = frame.loc[frame.index > start_date]\n",
    "    frame = frame.loc[frame.index < end_date]\n",
    "    return frame"
   ]
  },
  {
   "cell_type": "code",
   "execution_count": 1075,
   "metadata": {},
   "outputs": [],
   "source": [
    "def remove_noise(frame, first_par, second_par):\n",
    "    w_out_noise = savgol_filter(frame[\"StockValue\"], first_par, second_par)\n",
    "    frame[\"StockValue\"] = w_out_noise\n",
    "    frame_f = frame[[\"StockValue\"]]\n",
    "    return frame_f"
   ]
  },
  {
   "cell_type": "code",
   "execution_count": 1076,
   "metadata": {},
   "outputs": [],
   "source": [
    "def ma_columns(frame_column, list_ma):\n",
    "    MAs = [] \n",
    "    for ma in list_ma:\n",
    "        MA = pd.DataFrame(sm.short_moving_average(frame_column, ma)[\"StockValue\"]).rename(columns={\"StockValue\": f\"MA_{ma}\"})\n",
    "        MAs.append(MA)\n",
    "        \n",
    "    frame = MAs[0].join(MAs[1])\n",
    "    for i in range(len(MAs)-2):\n",
    "        frame = frame.join(MAs[i+2])\n",
    "    \n",
    "    frame = frame.dropna()\n",
    "    \n",
    "    return frame"
   ]
  },
  {
   "cell_type": "code",
   "execution_count": 1077,
   "metadata": {},
   "outputs": [],
   "source": [
    "def buy_sell_recommendations(new_frame):\n",
    "    new_frame['rec_1'] = np.where((new_frame['MA_7_50'] > new_frame[\"MA_50_200\"])\n",
    "                                         , \"BUY\", \"SELL\")\n",
    "    new_frame['rec_2'] = np.where((new_frame['MA_14_100'] > new_frame[\"MA_50_200\"])\n",
    "                                         , \"BUY\", \"SELL\")\n",
    "    return new_frame"
   ]
  },
  {
   "cell_type": "code",
   "execution_count": 1078,
   "metadata": {},
   "outputs": [],
   "source": [
    "def get_locations(new_frame):\n",
    "    loc_first=[]\n",
    "    for row in range(new_frame.shape[0]-1):\n",
    "\n",
    "            if new_frame.rec_1[row] == \"SELL\":\n",
    "                if new_frame.rec_1[row+1] == \"BUY\":\n",
    "                    start = row+1\n",
    "                    loc_first.append(start)\n",
    "\n",
    "            if new_frame.rec_1[row] == \"BUY\":\n",
    "                if new_frame.rec_1[row+1] == \"SELL\":\n",
    "                    end = row+2\n",
    "                    loc_first.append(end)\n",
    "                    \n",
    "    loc_second=[]\n",
    "    for row in range(new_frame.shape[0]-1):\n",
    "\n",
    "        if new_frame.rec_2[row] == \"SELL\":\n",
    "            if new_frame.rec_2[row+1] == \"BUY\":\n",
    "                start = row+1\n",
    "                loc_second.append(start)\n",
    "\n",
    "        if new_frame.rec_2[row] == \"BUY\":\n",
    "            if new_frame.rec_2[row+1] == \"SELL\":\n",
    "                end = row+2\n",
    "                loc_second.append(end)\n",
    "                \n",
    "    return [loc_first, loc_second]"
   ]
  },
  {
   "cell_type": "code",
   "execution_count": 1079,
   "metadata": {},
   "outputs": [],
   "source": [
    "def get_transactions(new_frame, column, locations):\n",
    "    if new_frame.iloc[0,:][str(column)] == \"SELL\":\n",
    "        transactions = [[locations[buy], locations[sell]] for buy, sell in zip(range(0,len(locations),2), range(1,len(locations),2))]\n",
    "    else:\n",
    "        transactions = [[locations[buy], locations[sell]] for buy, sell in zip(range(1,len(locations),2), range(2,len(locations),2))]\n",
    "        transactions.insert(0, [0, locations[0]])\n",
    "\n",
    "    return transactions"
   ]
  },
  {
   "cell_type": "code",
   "execution_count": 1080,
   "metadata": {},
   "outputs": [],
   "source": [
    "def returns(new_frame, list_of_transactions):\n",
    "    returns = []\n",
    "    for transactions in list_of_transactions:\n",
    "        buy = new_frame.iloc[transactions[0]:transactions[1],:][\"StockValue\"][0]\n",
    "        sell = new_frame.iloc[transactions[0]:transactions[1],:][\"StockValue\"][-1]\n",
    "        ret = (sell-buy)/buy\n",
    "        returns.append(ret)\n",
    "    \n",
    "    return returns"
   ]
  },
  {
   "cell_type": "code",
   "execution_count": 1081,
   "metadata": {},
   "outputs": [],
   "source": [
    "def prod(list_of_all_returns):\n",
    "    return np.prod([ret+1 for ret in list_of_all_returns]) "
   ]
  },
  {
   "cell_type": "code",
   "execution_count": 1112,
   "metadata": {},
   "outputs": [],
   "source": [
    "def simulation(stock_name, start_date, end_date, ma_list, noise_first_par, noise_second_par):\n",
    "    frame = get_stock_frame(stock_name, start_date, end_date)\n",
    "    frame_f = remove_noise(frame, noise_first_par, noise_second_par)\n",
    "    new_frame = ma_columns(frame_f, ma_list)\n",
    "    \n",
    "    new_frame[\"MA_7_50\"] = new_frame[\"MA_7\"] - new_frame[\"MA_50\"]\n",
    "    new_frame[\"MA_14_100\"] = new_frame[\"MA_14\"] - new_frame[\"MA_100\"]\n",
    "    new_frame[\"MA_50_200\"] = new_frame[\"MA_50\"] - new_frame[\"MA_200\"]\n",
    "    \n",
    "    frame = get_stock_frame(stock_name, start_date, end_date)\n",
    "    frame = frame[[\"StockValue\"]]\n",
    "    new_frame = new_frame.join(frame)\n",
    "    \n",
    "    new_frame = buy_sell_recommendations(new_frame)\n",
    "    \n",
    "    loc_first = get_locations(new_frame)[0]\n",
    "    loc_second = get_locations(new_frame)[1]\n",
    "    \n",
    "    first_transactions = get_transactions(new_frame, \"rec_1\", loc_first)\n",
    "    second_transactions = get_transactions(new_frame, \"rec_2\", loc_second)\n",
    "\n",
    "    first_returns = returns(new_frame, first_transactions)\n",
    "    second_returns = returns(new_frame, second_transactions)\n",
    "    \n",
    "    first_cum_return = prod(first_returns)\n",
    "    # print(first_cum_return)\n",
    "    # print(sum([t[1]-t[0] for t in first_transactions]))\n",
    "    \n",
    "    second_cum_return  = prod(second_returns)\n",
    "    # print(second_cum_return)\n",
    "    # print(sum([t[1]-t[0] for t in second_transactions]))\n",
    "\n",
    "    totalReturn = (first_cum_return + second_cum_return) / 2\n",
    "    \n",
    "    return totalReturn"
   ]
  },
  {
   "cell_type": "code",
   "execution_count": 1139,
   "metadata": {},
   "outputs": [
    {
     "data": {
      "text/plain": [
       "2.8248085240860448"
      ]
     },
     "execution_count": 1139,
     "metadata": {},
     "output_type": "execute_result"
    }
   ],
   "source": [
    "simulation(\"TKFEN\", \"01-01-2015\", \"07-07-2020\", [7,14,50,100,200], 51, 2)"
   ]
  },
  {
   "cell_type": "code",
   "execution_count": 1140,
   "metadata": {},
   "outputs": [],
   "source": [
    "results = []\n",
    "for first_param in range(11, 201, 20):\n",
    "    results.append(simulation(\"TKFEN\", \"01-01-2015\", \"07-07-2020\", [7,14,50,100,200], first_param, 2))\n",
    "    "
   ]
  },
  {
   "cell_type": "code",
   "execution_count": 1141,
   "metadata": {},
   "outputs": [
    {
     "data": {
      "text/plain": [
       "[2.243232832994107,\n",
       " 2.4975990869700433,\n",
       " 2.8248085240860448,\n",
       " 2.8946276950787926,\n",
       " 2.3029934146981184,\n",
       " 2.3991107516057735,\n",
       " 2.6329307365973866,\n",
       " 2.3650920123664534,\n",
       " 2.323405618658817,\n",
       " 2.3808750568472217]"
      ]
     },
     "execution_count": 1141,
     "metadata": {},
     "output_type": "execute_result"
    }
   ],
   "source": [
    "results"
   ]
  },
  {
   "cell_type": "code",
   "execution_count": null,
   "metadata": {},
   "outputs": [],
   "source": []
  },
  {
   "cell_type": "code",
   "execution_count": null,
   "metadata": {},
   "outputs": [],
   "source": []
  },
  {
   "cell_type": "code",
   "execution_count": 1142,
   "metadata": {},
   "outputs": [],
   "source": [
    "TKFEN = results"
   ]
  },
  {
   "cell_type": "code",
   "execution_count": 1143,
   "metadata": {},
   "outputs": [
    {
     "data": {
      "text/plain": [
       "0.02294511207425897"
      ]
     },
     "execution_count": 1143,
     "metadata": {},
     "output_type": "execute_result"
    }
   ],
   "source": [
    "sm.volatility(\"TKFEN\", start_date, end_date)  "
   ]
  },
  {
   "cell_type": "code",
   "execution_count": 1144,
   "metadata": {},
   "outputs": [
    {
     "data": {
      "text/plain": [
       "[2.243232832994107,\n",
       " 2.4975990869700433,\n",
       " 2.8248085240860448,\n",
       " 2.8946276950787926,\n",
       " 2.3029934146981184,\n",
       " 2.3991107516057735,\n",
       " 2.6329307365973866,\n",
       " 2.3650920123664534,\n",
       " 2.323405618658817,\n",
       " 2.3808750568472217]"
      ]
     },
     "execution_count": 1144,
     "metadata": {},
     "output_type": "execute_result"
    }
   ],
   "source": [
    "TKFEN"
   ]
  },
  {
   "cell_type": "code",
   "execution_count": 1146,
   "metadata": {},
   "outputs": [
    {
     "data": {
      "text/plain": [
       "[11, 31, 51, 71, 91, 111, 131, 151, 171, 191]"
      ]
     },
     "execution_count": 1146,
     "metadata": {},
     "output_type": "execute_result"
    }
   ],
   "source": [
    "[i for i in range(11, 201, 20)]"
   ]
  },
  {
   "cell_type": "code",
   "execution_count": null,
   "metadata": {},
   "outputs": [],
   "source": []
  },
  {
   "cell_type": "markdown",
   "metadata": {},
   "source": [
    "---"
   ]
  },
  {
   "cell_type": "code",
   "execution_count": 1135,
   "metadata": {},
   "outputs": [],
   "source": [
    "SASA = results"
   ]
  },
  {
   "cell_type": "code",
   "execution_count": 1134,
   "metadata": {},
   "outputs": [
    {
     "data": {
      "text/plain": [
       "0.030740089200642154"
      ]
     },
     "execution_count": 1134,
     "metadata": {},
     "output_type": "execute_result"
    }
   ],
   "source": [
    "sm.volatility(\"SASA\", start_date, end_date)  "
   ]
  },
  {
   "cell_type": "code",
   "execution_count": 1136,
   "metadata": {},
   "outputs": [
    {
     "data": {
      "text/plain": [
       "[5.395995361018599,\n",
       " 9.361991029979574,\n",
       " 11.889918443580596,\n",
       " 11.620152448759342,\n",
       " 12.5831659383134,\n",
       " 12.725278649568313,\n",
       " 12.038704299950211,\n",
       " 7.588809698334817,\n",
       " 6.575260153421684,\n",
       " 3.9127747894269786,\n",
       " 5.162111462399878,\n",
       " 3.2782732713046623,\n",
       " 3.443490108578751,\n",
       " 2.7864607695351586,\n",
       " 2.6262581338294]"
      ]
     },
     "execution_count": 1136,
     "metadata": {},
     "output_type": "execute_result"
    }
   ],
   "source": [
    "SASA"
   ]
  },
  {
   "cell_type": "code",
   "execution_count": 1137,
   "metadata": {},
   "outputs": [
    {
     "data": {
      "text/plain": [
       "[11, 31, 51, 71, 91, 111, 131, 151, 171, 191, 211, 231, 251, 271, 291]"
      ]
     },
     "execution_count": 1137,
     "metadata": {},
     "output_type": "execute_result"
    }
   ],
   "source": [
    "[i for i in range(11, 301, 20)]"
   ]
  },
  {
   "cell_type": "code",
   "execution_count": null,
   "metadata": {},
   "outputs": [],
   "source": []
  },
  {
   "cell_type": "markdown",
   "metadata": {},
   "source": [
    "---"
   ]
  },
  {
   "cell_type": "code",
   "execution_count": 1131,
   "metadata": {},
   "outputs": [
    {
     "data": {
      "text/plain": [
       "0.04032749848428386"
      ]
     },
     "execution_count": 1131,
     "metadata": {},
     "output_type": "execute_result"
    }
   ],
   "source": [
    "sm.volatility(\"IPEKE\", start_date, end_date)  "
   ]
  },
  {
   "cell_type": "code",
   "execution_count": 1127,
   "metadata": {},
   "outputs": [
    {
     "data": {
      "text/plain": [
       "[6.506137653444306,\n",
       " 10.935850030993866,\n",
       " 12.807757666463791,\n",
       " 13.327239672874232,\n",
       " 12.236232419189536,\n",
       " 11.669831183217106,\n",
       " 11.641439225773295,\n",
       " 10.55952448584773,\n",
       " 7.221713909522094,\n",
       " 7.110923152420741,\n",
       " 6.151811144617959,\n",
       " 6.197281181687792,\n",
       " 6.553234840278719,\n",
       " 3.1130061525774337,\n",
       " 2.5619245790258454]"
      ]
     },
     "execution_count": 1127,
     "metadata": {},
     "output_type": "execute_result"
    }
   ],
   "source": [
    "IPEKE"
   ]
  },
  {
   "cell_type": "code",
   "execution_count": 1128,
   "metadata": {},
   "outputs": [
    {
     "data": {
      "text/plain": [
       "[11, 31, 51, 71, 91, 111, 131, 151, 171, 191, 211, 231, 251, 271, 291]"
      ]
     },
     "execution_count": 1128,
     "metadata": {},
     "output_type": "execute_result"
    }
   ],
   "source": [
    "[i for i in range(11, 301, 20)]"
   ]
  },
  {
   "cell_type": "markdown",
   "metadata": {},
   "source": [
    "---"
   ]
  },
  {
   "cell_type": "code",
   "execution_count": 1129,
   "metadata": {},
   "outputs": [
    {
     "data": {
      "text/plain": [
       "0.01564850164225352"
      ]
     },
     "execution_count": 1129,
     "metadata": {},
     "output_type": "execute_result"
    }
   ],
   "source": [
    "sm.volatility(\"BIMAS\", start_date, end_date)  "
   ]
  },
  {
   "cell_type": "code",
   "execution_count": 1120,
   "metadata": {},
   "outputs": [
    {
     "data": {
      "text/plain": [
       "[11, 31, 51, 71, 91, 111, 131, 151, 171, 191, 211, 231, 251, 271, 291]"
      ]
     },
     "execution_count": 1120,
     "metadata": {},
     "output_type": "execute_result"
    }
   ],
   "source": [
    "[i for i in range(11, 301, 20)]"
   ]
  },
  {
   "cell_type": "code",
   "execution_count": 1123,
   "metadata": {},
   "outputs": [
    {
     "data": {
      "text/plain": [
       "[1.8836155601882512,\n",
       " 2.0797884381209055,\n",
       " 2.2631752537491154,\n",
       " 2.3056161798194585,\n",
       " 2.447694322049661,\n",
       " 2.45792139495264,\n",
       " 2.5165630318769985,\n",
       " 2.171200579029925,\n",
       " 2.1762835699926204,\n",
       " 1.9823620363293661,\n",
       " 1.7817437265937972,\n",
       " 2.0491894364948893,\n",
       " 1.63607027483424,\n",
       " 1.4445318639096643,\n",
       " 1.4477884785744544]"
      ]
     },
     "execution_count": 1123,
     "metadata": {},
     "output_type": "execute_result"
    }
   ],
   "source": [
    "BIMAS"
   ]
  },
  {
   "cell_type": "code",
   "execution_count": null,
   "metadata": {},
   "outputs": [],
   "source": []
  },
  {
   "cell_type": "code",
   "execution_count": null,
   "metadata": {},
   "outputs": [],
   "source": []
  },
  {
   "cell_type": "code",
   "execution_count": null,
   "metadata": {},
   "outputs": [],
   "source": []
  },
  {
   "cell_type": "code",
   "execution_count": null,
   "metadata": {},
   "outputs": [],
   "source": []
  },
  {
   "cell_type": "code",
   "execution_count": null,
   "metadata": {},
   "outputs": [],
   "source": []
  },
  {
   "cell_type": "code",
   "execution_count": null,
   "metadata": {},
   "outputs": [],
   "source": []
  },
  {
   "cell_type": "code",
   "execution_count": 1105,
   "metadata": {},
   "outputs": [],
   "source": [
    "start_date = \"01-01-2015\"\n",
    "end_date = \"01-01-2020\""
   ]
  },
  {
   "cell_type": "code",
   "execution_count": 1107,
   "metadata": {},
   "outputs": [
    {
     "data": {
      "text/plain": [
       "0.01564850164225352"
      ]
     },
     "execution_count": 1107,
     "metadata": {},
     "output_type": "execute_result"
    }
   ],
   "source": [
    "sm.volatility(\"BIMAS\", start_date, end_date)  "
   ]
  },
  {
   "cell_type": "code",
   "execution_count": null,
   "metadata": {},
   "outputs": [],
   "source": []
  },
  {
   "cell_type": "code",
   "execution_count": null,
   "metadata": {},
   "outputs": [],
   "source": []
  },
  {
   "cell_type": "code",
   "execution_count": null,
   "metadata": {},
   "outputs": [],
   "source": [
    "w_out_noise = savgol_filter(frame[\"StockValue\"], 51, 2)"
   ]
  },
  {
   "cell_type": "code",
   "execution_count": null,
   "metadata": {},
   "outputs": [],
   "source": []
  },
  {
   "cell_type": "code",
   "execution_count": 1018,
   "metadata": {},
   "outputs": [],
   "source": [
    "start_date = \"01-03-2015\"\n",
    "end_date = \"11-01-2021\"\n",
    "stock_name = \"IPEKE\""
   ]
  },
  {
   "cell_type": "code",
   "execution_count": null,
   "metadata": {},
   "outputs": [],
   "source": []
  },
  {
   "cell_type": "code",
   "execution_count": 1019,
   "metadata": {},
   "outputs": [],
   "source": [
    "frame = frame_.loc[frame_[\"stock_name\"] == stock_name]\n",
    "frame = frame.loc[frame.index > start_date]\n",
    "frame = frame.loc[frame.index < end_date]"
   ]
  },
  {
   "cell_type": "code",
   "execution_count": 1020,
   "metadata": {
    "scrolled": true
   },
   "outputs": [
    {
     "data": {
      "text/html": [
       "<div>\n",
       "<style scoped>\n",
       "    .dataframe tbody tr th:only-of-type {\n",
       "        vertical-align: middle;\n",
       "    }\n",
       "\n",
       "    .dataframe tbody tr th {\n",
       "        vertical-align: top;\n",
       "    }\n",
       "\n",
       "    .dataframe thead th {\n",
       "        text-align: right;\n",
       "    }\n",
       "</style>\n",
       "<table border=\"1\" class=\"dataframe\">\n",
       "  <thead>\n",
       "    <tr style=\"text-align: right;\">\n",
       "      <th></th>\n",
       "      <th>MA_7</th>\n",
       "      <th>MA_14</th>\n",
       "      <th>MA_20</th>\n",
       "      <th>MA_50</th>\n",
       "      <th>MA_100</th>\n",
       "      <th>MA_200</th>\n",
       "      <th>MA_7_CH</th>\n",
       "      <th>MA_7_CH_CH</th>\n",
       "      <th>MA_14_CH</th>\n",
       "      <th>MA_14_CH_CH</th>\n",
       "      <th>...</th>\n",
       "      <th>RSI_5_CH</th>\n",
       "      <th>Drawdown</th>\n",
       "      <th>marketV_to_bookV</th>\n",
       "      <th>StockValue</th>\n",
       "      <th>StockValue_momentum</th>\n",
       "      <th>market_positive</th>\n",
       "      <th>market_positive_ma_10</th>\n",
       "      <th>stock_name</th>\n",
       "      <th>volume</th>\n",
       "      <th>volume_ma_14</th>\n",
       "    </tr>\n",
       "  </thead>\n",
       "  <tbody>\n",
       "    <tr>\n",
       "      <th>2015-01-05</th>\n",
       "      <td>1.575714</td>\n",
       "      <td>1.571429</td>\n",
       "      <td>1.5660</td>\n",
       "      <td>1.6274</td>\n",
       "      <td>1.8116</td>\n",
       "      <td>2.21795</td>\n",
       "      <td>0.000676</td>\n",
       "      <td>-0.566415</td>\n",
       "      <td>-0.001089</td>\n",
       "      <td>-0.039963</td>\n",
       "      <td>...</td>\n",
       "      <td>NaN</td>\n",
       "      <td>-0.744337</td>\n",
       "      <td>0.163191</td>\n",
       "      <td>1.58</td>\n",
       "      <td>108.219178</td>\n",
       "      <td>0.524590</td>\n",
       "      <td>0.539108</td>\n",
       "      <td>IPEKE</td>\n",
       "      <td>6762649.0</td>\n",
       "      <td>6.744830e+06</td>\n",
       "    </tr>\n",
       "    <tr>\n",
       "      <th>2015-01-06</th>\n",
       "      <td>1.580000</td>\n",
       "      <td>1.583571</td>\n",
       "      <td>1.5670</td>\n",
       "      <td>1.6240</td>\n",
       "      <td>1.8042</td>\n",
       "      <td>2.21280</td>\n",
       "      <td>0.001916</td>\n",
       "      <td>-0.445477</td>\n",
       "      <td>0.000166</td>\n",
       "      <td>-0.146177</td>\n",
       "      <td>...</td>\n",
       "      <td>NaN</td>\n",
       "      <td>-0.737864</td>\n",
       "      <td>0.167323</td>\n",
       "      <td>1.62</td>\n",
       "      <td>111.724138</td>\n",
       "      <td>0.565217</td>\n",
       "      <td>0.517369</td>\n",
       "      <td>IPEKE</td>\n",
       "      <td>9360091.0</td>\n",
       "      <td>7.111015e+06</td>\n",
       "    </tr>\n",
       "    <tr>\n",
       "      <th>2015-01-07</th>\n",
       "      <td>1.590000</td>\n",
       "      <td>1.591429</td>\n",
       "      <td>1.5705</td>\n",
       "      <td>1.6214</td>\n",
       "      <td>1.7973</td>\n",
       "      <td>2.20785</td>\n",
       "      <td>0.002633</td>\n",
       "      <td>-0.418982</td>\n",
       "      <td>0.000843</td>\n",
       "      <td>0.136407</td>\n",
       "      <td>...</td>\n",
       "      <td>0.150538</td>\n",
       "      <td>-0.729773</td>\n",
       "      <td>0.172487</td>\n",
       "      <td>1.67</td>\n",
       "      <td>107.051282</td>\n",
       "      <td>0.451505</td>\n",
       "      <td>0.514436</td>\n",
       "      <td>IPEKE</td>\n",
       "      <td>14441579.0</td>\n",
       "      <td>6.272524e+06</td>\n",
       "    </tr>\n",
       "    <tr>\n",
       "      <th>2015-01-08</th>\n",
       "      <td>1.601429</td>\n",
       "      <td>1.596429</td>\n",
       "      <td>1.5740</td>\n",
       "      <td>1.6188</td>\n",
       "      <td>1.7905</td>\n",
       "      <td>2.20265</td>\n",
       "      <td>0.003346</td>\n",
       "      <td>-0.397366</td>\n",
       "      <td>0.001230</td>\n",
       "      <td>0.162954</td>\n",
       "      <td>...</td>\n",
       "      <td>0.120984</td>\n",
       "      <td>-0.734628</td>\n",
       "      <td>0.169388</td>\n",
       "      <td>1.64</td>\n",
       "      <td>104.458599</td>\n",
       "      <td>0.656863</td>\n",
       "      <td>0.519105</td>\n",
       "      <td>IPEKE</td>\n",
       "      <td>3872396.0</td>\n",
       "      <td>6.153627e+06</td>\n",
       "    </tr>\n",
       "    <tr>\n",
       "      <th>2015-01-09</th>\n",
       "      <td>1.611429</td>\n",
       "      <td>1.601429</td>\n",
       "      <td>1.5780</td>\n",
       "      <td>1.6164</td>\n",
       "      <td>1.7836</td>\n",
       "      <td>2.19760</td>\n",
       "      <td>0.003859</td>\n",
       "      <td>-0.382007</td>\n",
       "      <td>0.001649</td>\n",
       "      <td>0.177003</td>\n",
       "      <td>...</td>\n",
       "      <td>0.084893</td>\n",
       "      <td>-0.736246</td>\n",
       "      <td>0.168355</td>\n",
       "      <td>1.63</td>\n",
       "      <td>104.487179</td>\n",
       "      <td>0.430464</td>\n",
       "      <td>0.503957</td>\n",
       "      <td>IPEKE</td>\n",
       "      <td>2000164.0</td>\n",
       "      <td>5.547239e+06</td>\n",
       "    </tr>\n",
       "    <tr>\n",
       "      <th>...</th>\n",
       "      <td>...</td>\n",
       "      <td>...</td>\n",
       "      <td>...</td>\n",
       "      <td>...</td>\n",
       "      <td>...</td>\n",
       "      <td>...</td>\n",
       "      <td>...</td>\n",
       "      <td>...</td>\n",
       "      <td>...</td>\n",
       "      <td>...</td>\n",
       "      <td>...</td>\n",
       "      <td>...</td>\n",
       "      <td>...</td>\n",
       "      <td>...</td>\n",
       "      <td>...</td>\n",
       "      <td>...</td>\n",
       "      <td>...</td>\n",
       "      <td>...</td>\n",
       "      <td>...</td>\n",
       "      <td>...</td>\n",
       "      <td>...</td>\n",
       "    </tr>\n",
       "    <tr>\n",
       "      <th>2020-06-15</th>\n",
       "      <td>14.261429</td>\n",
       "      <td>14.511429</td>\n",
       "      <td>14.3380</td>\n",
       "      <td>12.2740</td>\n",
       "      <td>10.5571</td>\n",
       "      <td>8.71450</td>\n",
       "      <td>0.001635</td>\n",
       "      <td>-0.124410</td>\n",
       "      <td>0.004549</td>\n",
       "      <td>-0.084776</td>\n",
       "      <td>...</td>\n",
       "      <td>-0.012043</td>\n",
       "      <td>-0.083333</td>\n",
       "      <td>0.567216</td>\n",
       "      <td>14.19</td>\n",
       "      <td>100.282686</td>\n",
       "      <td>0.481579</td>\n",
       "      <td>0.512819</td>\n",
       "      <td>IPEKE</td>\n",
       "      <td>330639890.0</td>\n",
       "      <td>2.180499e+08</td>\n",
       "    </tr>\n",
       "    <tr>\n",
       "      <th>2020-06-16</th>\n",
       "      <td>14.192857</td>\n",
       "      <td>14.492143</td>\n",
       "      <td>14.3345</td>\n",
       "      <td>12.3954</td>\n",
       "      <td>10.6098</td>\n",
       "      <td>8.75445</td>\n",
       "      <td>0.001050</td>\n",
       "      <td>-0.141492</td>\n",
       "      <td>0.003716</td>\n",
       "      <td>-0.095580</td>\n",
       "      <td>...</td>\n",
       "      <td>-0.013033</td>\n",
       "      <td>-0.090439</td>\n",
       "      <td>0.567216</td>\n",
       "      <td>14.08</td>\n",
       "      <td>98.118467</td>\n",
       "      <td>0.829396</td>\n",
       "      <td>0.539963</td>\n",
       "      <td>IPEKE</td>\n",
       "      <td>89042541.0</td>\n",
       "      <td>2.117746e+08</td>\n",
       "    </tr>\n",
       "    <tr>\n",
       "      <th>2020-06-17</th>\n",
       "      <td>14.180000</td>\n",
       "      <td>14.385000</td>\n",
       "      <td>14.3385</td>\n",
       "      <td>12.5204</td>\n",
       "      <td>10.6492</td>\n",
       "      <td>8.79445</td>\n",
       "      <td>0.000015</td>\n",
       "      <td>-0.203632</td>\n",
       "      <td>0.002376</td>\n",
       "      <td>-0.117612</td>\n",
       "      <td>...</td>\n",
       "      <td>-0.020861</td>\n",
       "      <td>-0.096899</td>\n",
       "      <td>0.567216</td>\n",
       "      <td>13.98</td>\n",
       "      <td>90.310078</td>\n",
       "      <td>0.424403</td>\n",
       "      <td>0.513070</td>\n",
       "      <td>IPEKE</td>\n",
       "      <td>80202706.0</td>\n",
       "      <td>1.812783e+08</td>\n",
       "    </tr>\n",
       "    <tr>\n",
       "      <th>2020-06-18</th>\n",
       "      <td>14.088571</td>\n",
       "      <td>14.333571</td>\n",
       "      <td>14.3645</td>\n",
       "      <td>12.6442</td>\n",
       "      <td>10.6933</td>\n",
       "      <td>8.83340</td>\n",
       "      <td>-0.001057</td>\n",
       "      <td>-5.241481</td>\n",
       "      <td>0.002007</td>\n",
       "      <td>-0.120681</td>\n",
       "      <td>...</td>\n",
       "      <td>-0.023787</td>\n",
       "      <td>-0.093669</td>\n",
       "      <td>0.567216</td>\n",
       "      <td>14.03</td>\n",
       "      <td>95.118644</td>\n",
       "      <td>0.583554</td>\n",
       "      <td>0.533244</td>\n",
       "      <td>IPEKE</td>\n",
       "      <td>173388556.0</td>\n",
       "      <td>1.746990e+08</td>\n",
       "    </tr>\n",
       "    <tr>\n",
       "      <th>2020-06-19</th>\n",
       "      <td>14.038571</td>\n",
       "      <td>14.302143</td>\n",
       "      <td>14.3980</td>\n",
       "      <td>12.7686</td>\n",
       "      <td>10.7377</td>\n",
       "      <td>8.87290</td>\n",
       "      <td>-0.002017</td>\n",
       "      <td>-5.168244</td>\n",
       "      <td>0.001795</td>\n",
       "      <td>-0.118389</td>\n",
       "      <td>...</td>\n",
       "      <td>-0.021025</td>\n",
       "      <td>-0.091731</td>\n",
       "      <td>0.567216</td>\n",
       "      <td>14.06</td>\n",
       "      <td>96.965517</td>\n",
       "      <td>0.270619</td>\n",
       "      <td>0.514677</td>\n",
       "      <td>IPEKE</td>\n",
       "      <td>226941328.0</td>\n",
       "      <td>1.795694e+08</td>\n",
       "    </tr>\n",
       "  </tbody>\n",
       "</table>\n",
       "<p>1373 rows × 31 columns</p>\n",
       "</div>"
      ],
      "text/plain": [
       "                 MA_7      MA_14    MA_20    MA_50   MA_100   MA_200  \\\n",
       "2015-01-05   1.575714   1.571429   1.5660   1.6274   1.8116  2.21795   \n",
       "2015-01-06   1.580000   1.583571   1.5670   1.6240   1.8042  2.21280   \n",
       "2015-01-07   1.590000   1.591429   1.5705   1.6214   1.7973  2.20785   \n",
       "2015-01-08   1.601429   1.596429   1.5740   1.6188   1.7905  2.20265   \n",
       "2015-01-09   1.611429   1.601429   1.5780   1.6164   1.7836  2.19760   \n",
       "...               ...        ...      ...      ...      ...      ...   \n",
       "2020-06-15  14.261429  14.511429  14.3380  12.2740  10.5571  8.71450   \n",
       "2020-06-16  14.192857  14.492143  14.3345  12.3954  10.6098  8.75445   \n",
       "2020-06-17  14.180000  14.385000  14.3385  12.5204  10.6492  8.79445   \n",
       "2020-06-18  14.088571  14.333571  14.3645  12.6442  10.6933  8.83340   \n",
       "2020-06-19  14.038571  14.302143  14.3980  12.7686  10.7377  8.87290   \n",
       "\n",
       "             MA_7_CH  MA_7_CH_CH  MA_14_CH  MA_14_CH_CH  ...  RSI_5_CH  \\\n",
       "2015-01-05  0.000676   -0.566415 -0.001089    -0.039963  ...       NaN   \n",
       "2015-01-06  0.001916   -0.445477  0.000166    -0.146177  ...       NaN   \n",
       "2015-01-07  0.002633   -0.418982  0.000843     0.136407  ...  0.150538   \n",
       "2015-01-08  0.003346   -0.397366  0.001230     0.162954  ...  0.120984   \n",
       "2015-01-09  0.003859   -0.382007  0.001649     0.177003  ...  0.084893   \n",
       "...              ...         ...       ...          ...  ...       ...   \n",
       "2020-06-15  0.001635   -0.124410  0.004549    -0.084776  ... -0.012043   \n",
       "2020-06-16  0.001050   -0.141492  0.003716    -0.095580  ... -0.013033   \n",
       "2020-06-17  0.000015   -0.203632  0.002376    -0.117612  ... -0.020861   \n",
       "2020-06-18 -0.001057   -5.241481  0.002007    -0.120681  ... -0.023787   \n",
       "2020-06-19 -0.002017   -5.168244  0.001795    -0.118389  ... -0.021025   \n",
       "\n",
       "            Drawdown  marketV_to_bookV  StockValue  StockValue_momentum  \\\n",
       "2015-01-05 -0.744337          0.163191        1.58           108.219178   \n",
       "2015-01-06 -0.737864          0.167323        1.62           111.724138   \n",
       "2015-01-07 -0.729773          0.172487        1.67           107.051282   \n",
       "2015-01-08 -0.734628          0.169388        1.64           104.458599   \n",
       "2015-01-09 -0.736246          0.168355        1.63           104.487179   \n",
       "...              ...               ...         ...                  ...   \n",
       "2020-06-15 -0.083333          0.567216       14.19           100.282686   \n",
       "2020-06-16 -0.090439          0.567216       14.08            98.118467   \n",
       "2020-06-17 -0.096899          0.567216       13.98            90.310078   \n",
       "2020-06-18 -0.093669          0.567216       14.03            95.118644   \n",
       "2020-06-19 -0.091731          0.567216       14.06            96.965517   \n",
       "\n",
       "            market_positive  market_positive_ma_10  stock_name       volume  \\\n",
       "2015-01-05         0.524590               0.539108       IPEKE    6762649.0   \n",
       "2015-01-06         0.565217               0.517369       IPEKE    9360091.0   \n",
       "2015-01-07         0.451505               0.514436       IPEKE   14441579.0   \n",
       "2015-01-08         0.656863               0.519105       IPEKE    3872396.0   \n",
       "2015-01-09         0.430464               0.503957       IPEKE    2000164.0   \n",
       "...                     ...                    ...         ...          ...   \n",
       "2020-06-15         0.481579               0.512819       IPEKE  330639890.0   \n",
       "2020-06-16         0.829396               0.539963       IPEKE   89042541.0   \n",
       "2020-06-17         0.424403               0.513070       IPEKE   80202706.0   \n",
       "2020-06-18         0.583554               0.533244       IPEKE  173388556.0   \n",
       "2020-06-19         0.270619               0.514677       IPEKE  226941328.0   \n",
       "\n",
       "            volume_ma_14  \n",
       "2015-01-05  6.744830e+06  \n",
       "2015-01-06  7.111015e+06  \n",
       "2015-01-07  6.272524e+06  \n",
       "2015-01-08  6.153627e+06  \n",
       "2015-01-09  5.547239e+06  \n",
       "...                  ...  \n",
       "2020-06-15  2.180499e+08  \n",
       "2020-06-16  2.117746e+08  \n",
       "2020-06-17  1.812783e+08  \n",
       "2020-06-18  1.746990e+08  \n",
       "2020-06-19  1.795694e+08  \n",
       "\n",
       "[1373 rows x 31 columns]"
      ]
     },
     "execution_count": 1020,
     "metadata": {},
     "output_type": "execute_result"
    }
   ],
   "source": [
    "frame"
   ]
  },
  {
   "cell_type": "code",
   "execution_count": 1021,
   "metadata": {},
   "outputs": [],
   "source": [
    "w_out_noise = savgol_filter(frame[\"StockValue\"], 51, 2)"
   ]
  },
  {
   "cell_type": "code",
   "execution_count": 1022,
   "metadata": {},
   "outputs": [],
   "source": [
    "frame[\"StockValue\"] = w_out_noise"
   ]
  },
  {
   "cell_type": "code",
   "execution_count": 1023,
   "metadata": {},
   "outputs": [],
   "source": [
    "frame_f = frame[[\"StockValue\"]]"
   ]
  },
  {
   "cell_type": "code",
   "execution_count": 1024,
   "metadata": {},
   "outputs": [],
   "source": [
    "def ma_columns(frame_column, list_ma):\n",
    "    MAs = [] \n",
    "    for ma in list_ma:\n",
    "        MA = pd.DataFrame(sm.short_moving_average(frame_column, ma)[\"StockValue\"]).rename(columns={\"StockValue\": f\"MA_{ma}\"})\n",
    "        MAs.append(MA)\n",
    "        \n",
    "    frame = MAs[0].join(MAs[1])\n",
    "    for i in range(len(MAs)-2):\n",
    "        frame = frame.join(MAs[i+2])\n",
    "    \n",
    "    frame = frame.dropna()\n",
    "    \n",
    "    return frame"
   ]
  },
  {
   "cell_type": "code",
   "execution_count": 1025,
   "metadata": {},
   "outputs": [],
   "source": [
    "new_frame = ma_columns(frame_f, [7,14,50,100,200])"
   ]
  },
  {
   "cell_type": "code",
   "execution_count": 1026,
   "metadata": {},
   "outputs": [],
   "source": [
    "new_frame[\"MA_7_50\"] = new_frame[\"MA_7\"] - new_frame[\"MA_50\"]\n",
    "new_frame[\"MA_14_100\"] = new_frame[\"MA_14\"] - new_frame[\"MA_100\"]\n",
    "new_frame[\"MA_50_200\"] = new_frame[\"MA_50\"] - new_frame[\"MA_200\"]"
   ]
  },
  {
   "cell_type": "code",
   "execution_count": 1027,
   "metadata": {},
   "outputs": [
    {
     "data": {
      "text/html": [
       "<div>\n",
       "<style scoped>\n",
       "    .dataframe tbody tr th:only-of-type {\n",
       "        vertical-align: middle;\n",
       "    }\n",
       "\n",
       "    .dataframe tbody tr th {\n",
       "        vertical-align: top;\n",
       "    }\n",
       "\n",
       "    .dataframe thead th {\n",
       "        text-align: right;\n",
       "    }\n",
       "</style>\n",
       "<table border=\"1\" class=\"dataframe\">\n",
       "  <thead>\n",
       "    <tr style=\"text-align: right;\">\n",
       "      <th></th>\n",
       "      <th>MA_7</th>\n",
       "      <th>MA_14</th>\n",
       "      <th>MA_50</th>\n",
       "      <th>MA_100</th>\n",
       "      <th>MA_200</th>\n",
       "      <th>MA_7_50</th>\n",
       "      <th>MA_14_100</th>\n",
       "      <th>MA_50_200</th>\n",
       "    </tr>\n",
       "  </thead>\n",
       "  <tbody>\n",
       "    <tr>\n",
       "      <th>2015-10-19</th>\n",
       "      <td>1.927026</td>\n",
       "      <td>1.925131</td>\n",
       "      <td>2.008585</td>\n",
       "      <td>2.388976</td>\n",
       "      <td>2.269154</td>\n",
       "      <td>-0.081559</td>\n",
       "      <td>-0.463846</td>\n",
       "      <td>-0.260568</td>\n",
       "    </tr>\n",
       "    <tr>\n",
       "      <th>2015-10-20</th>\n",
       "      <td>1.917829</td>\n",
       "      <td>1.923858</td>\n",
       "      <td>1.997654</td>\n",
       "      <td>2.379197</td>\n",
       "      <td>2.270889</td>\n",
       "      <td>-0.079825</td>\n",
       "      <td>-0.455339</td>\n",
       "      <td>-0.273235</td>\n",
       "    </tr>\n",
       "    <tr>\n",
       "      <th>2015-10-21</th>\n",
       "      <td>1.906346</td>\n",
       "      <td>1.920616</td>\n",
       "      <td>1.986841</td>\n",
       "      <td>2.369351</td>\n",
       "      <td>2.272491</td>\n",
       "      <td>-0.080495</td>\n",
       "      <td>-0.448735</td>\n",
       "      <td>-0.285650</td>\n",
       "    </tr>\n",
       "    <tr>\n",
       "      <th>2015-10-22</th>\n",
       "      <td>1.892166</td>\n",
       "      <td>1.915087</td>\n",
       "      <td>1.976119</td>\n",
       "      <td>2.359415</td>\n",
       "      <td>2.273947</td>\n",
       "      <td>-0.083952</td>\n",
       "      <td>-0.444328</td>\n",
       "      <td>-0.297829</td>\n",
       "    </tr>\n",
       "    <tr>\n",
       "      <th>2015-10-23</th>\n",
       "      <td>1.875268</td>\n",
       "      <td>1.907309</td>\n",
       "      <td>1.965464</td>\n",
       "      <td>2.349306</td>\n",
       "      <td>2.275248</td>\n",
       "      <td>-0.090197</td>\n",
       "      <td>-0.441997</td>\n",
       "      <td>-0.309784</td>\n",
       "    </tr>\n",
       "    <tr>\n",
       "      <th>...</th>\n",
       "      <td>...</td>\n",
       "      <td>...</td>\n",
       "      <td>...</td>\n",
       "      <td>...</td>\n",
       "      <td>...</td>\n",
       "      <td>...</td>\n",
       "      <td>...</td>\n",
       "      <td>...</td>\n",
       "    </tr>\n",
       "    <tr>\n",
       "      <th>2020-06-15</th>\n",
       "      <td>14.393332</td>\n",
       "      <td>14.399496</td>\n",
       "      <td>12.202136</td>\n",
       "      <td>10.537121</td>\n",
       "      <td>8.715884</td>\n",
       "      <td>2.191196</td>\n",
       "      <td>3.862375</td>\n",
       "      <td>3.486252</td>\n",
       "    </tr>\n",
       "    <tr>\n",
       "      <th>2020-06-16</th>\n",
       "      <td>14.357420</td>\n",
       "      <td>14.393466</td>\n",
       "      <td>12.335768</td>\n",
       "      <td>10.585220</td>\n",
       "      <td>8.756810</td>\n",
       "      <td>2.021652</td>\n",
       "      <td>3.808246</td>\n",
       "      <td>3.578958</td>\n",
       "    </tr>\n",
       "    <tr>\n",
       "      <th>2020-06-17</th>\n",
       "      <td>14.312971</td>\n",
       "      <td>14.378898</td>\n",
       "      <td>12.464662</td>\n",
       "      <td>10.632297</td>\n",
       "      <td>8.797230</td>\n",
       "      <td>1.848309</td>\n",
       "      <td>3.746601</td>\n",
       "      <td>3.667432</td>\n",
       "    </tr>\n",
       "    <tr>\n",
       "      <th>2020-06-18</th>\n",
       "      <td>14.259984</td>\n",
       "      <td>14.355793</td>\n",
       "      <td>12.587796</td>\n",
       "      <td>10.678141</td>\n",
       "      <td>8.837100</td>\n",
       "      <td>1.672187</td>\n",
       "      <td>3.677652</td>\n",
       "      <td>3.750696</td>\n",
       "    </tr>\n",
       "    <tr>\n",
       "      <th>2020-06-19</th>\n",
       "      <td>14.198459</td>\n",
       "      <td>14.324150</td>\n",
       "      <td>12.705215</td>\n",
       "      <td>10.722698</td>\n",
       "      <td>8.876363</td>\n",
       "      <td>1.493243</td>\n",
       "      <td>3.601452</td>\n",
       "      <td>3.828852</td>\n",
       "    </tr>\n",
       "  </tbody>\n",
       "</table>\n",
       "<p>1174 rows × 8 columns</p>\n",
       "</div>"
      ],
      "text/plain": [
       "                 MA_7      MA_14      MA_50     MA_100    MA_200   MA_7_50  \\\n",
       "2015-10-19   1.927026   1.925131   2.008585   2.388976  2.269154 -0.081559   \n",
       "2015-10-20   1.917829   1.923858   1.997654   2.379197  2.270889 -0.079825   \n",
       "2015-10-21   1.906346   1.920616   1.986841   2.369351  2.272491 -0.080495   \n",
       "2015-10-22   1.892166   1.915087   1.976119   2.359415  2.273947 -0.083952   \n",
       "2015-10-23   1.875268   1.907309   1.965464   2.349306  2.275248 -0.090197   \n",
       "...               ...        ...        ...        ...       ...       ...   \n",
       "2020-06-15  14.393332  14.399496  12.202136  10.537121  8.715884  2.191196   \n",
       "2020-06-16  14.357420  14.393466  12.335768  10.585220  8.756810  2.021652   \n",
       "2020-06-17  14.312971  14.378898  12.464662  10.632297  8.797230  1.848309   \n",
       "2020-06-18  14.259984  14.355793  12.587796  10.678141  8.837100  1.672187   \n",
       "2020-06-19  14.198459  14.324150  12.705215  10.722698  8.876363  1.493243   \n",
       "\n",
       "            MA_14_100  MA_50_200  \n",
       "2015-10-19  -0.463846  -0.260568  \n",
       "2015-10-20  -0.455339  -0.273235  \n",
       "2015-10-21  -0.448735  -0.285650  \n",
       "2015-10-22  -0.444328  -0.297829  \n",
       "2015-10-23  -0.441997  -0.309784  \n",
       "...               ...        ...  \n",
       "2020-06-15   3.862375   3.486252  \n",
       "2020-06-16   3.808246   3.578958  \n",
       "2020-06-17   3.746601   3.667432  \n",
       "2020-06-18   3.677652   3.750696  \n",
       "2020-06-19   3.601452   3.828852  \n",
       "\n",
       "[1174 rows x 8 columns]"
      ]
     },
     "execution_count": 1027,
     "metadata": {},
     "output_type": "execute_result"
    }
   ],
   "source": [
    "new_frame"
   ]
  },
  {
   "cell_type": "code",
   "execution_count": 1028,
   "metadata": {},
   "outputs": [],
   "source": [
    "# new_frame[\"MA_50_200\"] = scale(new_frame[\"MA_50_200\"])\n",
    "# new_frame[\"MA_14_100\"] = scale(new_frame[\"MA_14_100\"])\n",
    "# new_frame[\"MA_7_50\"] = scale(new_frame[\"MA_7_50\"])"
   ]
  },
  {
   "cell_type": "code",
   "execution_count": 1029,
   "metadata": {},
   "outputs": [],
   "source": [
    "frame = frame_.loc[frame_[\"stock_name\"] == stock_name]\n",
    "frame = frame.loc[frame.index > start_date]\n",
    "frame = frame.loc[frame.index < end_date]"
   ]
  },
  {
   "cell_type": "code",
   "execution_count": 1030,
   "metadata": {},
   "outputs": [],
   "source": [
    "frame = frame[[\"StockValue\"]]"
   ]
  },
  {
   "cell_type": "code",
   "execution_count": 1031,
   "metadata": {},
   "outputs": [],
   "source": [
    "new_frame = new_frame.join(frame)"
   ]
  },
  {
   "cell_type": "code",
   "execution_count": 1057,
   "metadata": {},
   "outputs": [],
   "source": [
    "def buy_sell_recommendations(new_frame):\n",
    "    new_frame['rec_1'] = np.where((new_frame['MA_7_50'] > new_frame[\"MA_50_200\"])\n",
    "                                         , \"BUY\", \"SELL\")\n",
    "    new_frame['rec_2'] = np.where((new_frame['MA_14_100'] > new_frame[\"MA_50_200\"])\n",
    "                                         , \"BUY\", \"SELL\")\n",
    "    return new_frame"
   ]
  },
  {
   "cell_type": "code",
   "execution_count": null,
   "metadata": {},
   "outputs": [],
   "source": []
  },
  {
   "cell_type": "code",
   "execution_count": 1032,
   "metadata": {},
   "outputs": [],
   "source": [
    "new_frame['rec_1'] = np.where((new_frame['MA_7_50'] > new_frame[\"MA_50_200\"])\n",
    "                                         , \"BUY\", \"SELL\")"
   ]
  },
  {
   "cell_type": "code",
   "execution_count": 1033,
   "metadata": {},
   "outputs": [],
   "source": [
    "new_frame['rec_2'] = np.where((new_frame['MA_14_100'] > new_frame[\"MA_50_200\"])\n",
    "                                         , \"BUY\", \"SELL\")"
   ]
  },
  {
   "cell_type": "code",
   "execution_count": 1061,
   "metadata": {},
   "outputs": [],
   "source": [
    "def get_locations(new_frame):\n",
    "    loc_first=[]\n",
    "    for row in range(new_frame.shape[0]-1):\n",
    "\n",
    "            if new_frame.rec_1[row] == \"SELL\":\n",
    "                if new_frame.rec_1[row+1] == \"BUY\":\n",
    "                    start = row+1\n",
    "                    loc_first.append(start)\n",
    "\n",
    "            if new_frame.rec_1[row] == \"BUY\":\n",
    "                if new_frame.rec_1[row+1] == \"SELL\":\n",
    "                    end = row+2\n",
    "                    loc_first.append(end)\n",
    "                    \n",
    "    loc_second=[]\n",
    "    for row in range(new_frame.shape[0]-1):\n",
    "\n",
    "        if new_frame.rec_2[row] == \"SELL\":\n",
    "            if new_frame.rec_2[row+1] == \"BUY\":\n",
    "                start = row+1\n",
    "                loc_second.append(start)\n",
    "\n",
    "        if new_frame.rec_2[row] == \"BUY\":\n",
    "            if new_frame.rec_2[row+1] == \"SELL\":\n",
    "                end = row+2\n",
    "                loc_second.append(end)\n",
    "                \n",
    "    return [loc_first, loc_second]"
   ]
  },
  {
   "cell_type": "code",
   "execution_count": 1064,
   "metadata": {},
   "outputs": [
    {
     "data": {
      "text/plain": [
       "[42,\n",
       " 172,\n",
       " 218,\n",
       " 278,\n",
       " 414,\n",
       " 499,\n",
       " 628,\n",
       " 638,\n",
       " 653,\n",
       " 691,\n",
       " 772,\n",
       " 836,\n",
       " 903,\n",
       " 1003,\n",
       " 1058,\n",
       " 1092,\n",
       " 1138,\n",
       " 1173]"
      ]
     },
     "execution_count": 1064,
     "metadata": {},
     "output_type": "execute_result"
    }
   ],
   "source": [
    "get_locations(new_frame)[1]"
   ]
  },
  {
   "cell_type": "code",
   "execution_count": null,
   "metadata": {},
   "outputs": [],
   "source": []
  },
  {
   "cell_type": "code",
   "execution_count": 1034,
   "metadata": {},
   "outputs": [],
   "source": [
    "loc_first=[]\n",
    "for row in range(new_frame.shape[0]-1):\n",
    "\n",
    "        if new_frame.rec_1[row] == \"SELL\":\n",
    "            if new_frame.rec_1[row+1] == \"BUY\":\n",
    "                start = row+1\n",
    "                loc_first.append(start)\n",
    "\n",
    "        if new_frame.rec_1[row] == \"BUY\":\n",
    "            if new_frame.rec_1[row+1] == \"SELL\":\n",
    "                end = row+2\n",
    "                loc_first.append(end)"
   ]
  },
  {
   "cell_type": "code",
   "execution_count": 1035,
   "metadata": {},
   "outputs": [],
   "source": [
    "loc_second=[]\n",
    "for row in range(new_frame.shape[0]-1):\n",
    "\n",
    "    if new_frame.rec_2[row] == \"SELL\":\n",
    "        if new_frame.rec_2[row+1] == \"BUY\":\n",
    "            start = row+1\n",
    "            loc_second.append(start)\n",
    "            \n",
    "    if new_frame.rec_2[row] == \"BUY\":\n",
    "        if new_frame.rec_2[row+1] == \"SELL\":\n",
    "            end = row+2\n",
    "            loc_second.append(end)"
   ]
  },
  {
   "cell_type": "code",
   "execution_count": 1036,
   "metadata": {},
   "outputs": [
    {
     "data": {
      "text/plain": [
       "[159,\n",
       " 202,\n",
       " 265,\n",
       " 408,\n",
       " 472,\n",
       " 626,\n",
       " 637,\n",
       " 648,\n",
       " 685,\n",
       " 734,\n",
       " 814,\n",
       " 880,\n",
       " 992,\n",
       " 1059,\n",
       " 1075,\n",
       " 1134,\n",
       " 1165]"
      ]
     },
     "execution_count": 1036,
     "metadata": {},
     "output_type": "execute_result"
    }
   ],
   "source": [
    "loc_first"
   ]
  },
  {
   "cell_type": "code",
   "execution_count": 1037,
   "metadata": {},
   "outputs": [
    {
     "data": {
      "text/plain": [
       "[42,\n",
       " 172,\n",
       " 218,\n",
       " 278,\n",
       " 414,\n",
       " 499,\n",
       " 628,\n",
       " 638,\n",
       " 653,\n",
       " 691,\n",
       " 772,\n",
       " 836,\n",
       " 903,\n",
       " 1003,\n",
       " 1058,\n",
       " 1092,\n",
       " 1138,\n",
       " 1173]"
      ]
     },
     "execution_count": 1037,
     "metadata": {},
     "output_type": "execute_result"
    }
   ],
   "source": [
    "loc_second"
   ]
  },
  {
   "cell_type": "code",
   "execution_count": 1038,
   "metadata": {},
   "outputs": [],
   "source": [
    "def get_transactions(new_frame, column, locations):\n",
    "    if new_frame.iloc[0,:][str(column)] == \"SELL\":\n",
    "        transactions = [[locations[buy], locations[sell]] for buy, sell in zip(range(0,len(locations),2), range(1,len(locations),2))]\n",
    "    else:\n",
    "        transactions = [[locations[buy], locations[sell]] for buy, sell in zip(range(1,len(locations),2), range(2,len(locations),2))]\n",
    "        transactions.insert(0, [0, locations[0]])\n",
    "\n",
    "    return transactions"
   ]
  },
  {
   "cell_type": "code",
   "execution_count": 1039,
   "metadata": {},
   "outputs": [
    {
     "data": {
      "text/plain": [
       "[[0, 159],\n",
       " [202, 265],\n",
       " [408, 472],\n",
       " [626, 637],\n",
       " [648, 685],\n",
       " [734, 814],\n",
       " [880, 992],\n",
       " [1059, 1075],\n",
       " [1134, 1165]]"
      ]
     },
     "execution_count": 1039,
     "metadata": {},
     "output_type": "execute_result"
    }
   ],
   "source": [
    "first_transactions = get_transactions(new_frame, \"rec_1\", loc_first)\n",
    "first_transactions"
   ]
  },
  {
   "cell_type": "code",
   "execution_count": 1040,
   "metadata": {},
   "outputs": [
    {
     "data": {
      "text/plain": [
       "[[42, 172],\n",
       " [218, 278],\n",
       " [414, 499],\n",
       " [628, 638],\n",
       " [653, 691],\n",
       " [772, 836],\n",
       " [903, 1003],\n",
       " [1058, 1092],\n",
       " [1138, 1173]]"
      ]
     },
     "execution_count": 1040,
     "metadata": {},
     "output_type": "execute_result"
    }
   ],
   "source": [
    "second_transactions = get_transactions(new_frame, \"rec_2\", loc_second)\n",
    "second_transactions"
   ]
  },
  {
   "cell_type": "code",
   "execution_count": 1041,
   "metadata": {},
   "outputs": [],
   "source": [
    "def returns(new_frame, list_of_transactions):\n",
    "    returns = []\n",
    "    for transactions in list_of_transactions:\n",
    "        buy = new_frame.iloc[transactions[0]:transactions[1],:][\"StockValue\"][0]\n",
    "        sell = new_frame.iloc[transactions[0]:transactions[1],:][\"StockValue\"][-1]\n",
    "        ret = (sell-buy)/buy\n",
    "        returns.append(ret)\n",
    "    \n",
    "    return returns"
   ]
  },
  {
   "cell_type": "code",
   "execution_count": 1042,
   "metadata": {},
   "outputs": [
    {
     "data": {
      "text/plain": [
       "[[0, 159],\n",
       " [202, 265],\n",
       " [408, 472],\n",
       " [626, 637],\n",
       " [648, 685],\n",
       " [734, 814],\n",
       " [880, 992],\n",
       " [1059, 1075],\n",
       " [1134, 1165]]"
      ]
     },
     "execution_count": 1042,
     "metadata": {},
     "output_type": "execute_result"
    }
   ],
   "source": [
    "first_transactions"
   ]
  },
  {
   "cell_type": "code",
   "execution_count": 1043,
   "metadata": {},
   "outputs": [
    {
     "data": {
      "text/plain": [
       "[-0.38829787234042556,\n",
       " 1.6874999999999998,\n",
       " 1.3846153846153848,\n",
       " -0.01744186046511625,\n",
       " 0.23809523809523805,\n",
       " 0.17634854771784225,\n",
       " 0.4901531728665206,\n",
       " 0.0599781897491822,\n",
       " 0.3515850144092219]"
      ]
     },
     "execution_count": 1043,
     "metadata": {},
     "output_type": "execute_result"
    }
   ],
   "source": [
    "first_returns = returns(new_frame, first_transactions)\n",
    "first_returns"
   ]
  },
  {
   "cell_type": "code",
   "execution_count": 1044,
   "metadata": {},
   "outputs": [
    {
     "data": {
      "text/plain": [
       "[[42, 172],\n",
       " [218, 278],\n",
       " [414, 499],\n",
       " [628, 638],\n",
       " [653, 691],\n",
       " [772, 836],\n",
       " [903, 1003],\n",
       " [1058, 1092],\n",
       " [1138, 1173]]"
      ]
     },
     "execution_count": 1044,
     "metadata": {},
     "output_type": "execute_result"
    }
   ],
   "source": [
    "second_transactions"
   ]
  },
  {
   "cell_type": "code",
   "execution_count": 1045,
   "metadata": {},
   "outputs": [
    {
     "data": {
      "text/plain": [
       "[0.19277108433734944,\n",
       " 0.8230088495575223,\n",
       " 2.675531914893617,\n",
       " 0.012269938650306851,\n",
       " 0.0,\n",
       " 0.07916666666666665,\n",
       " 0.2520325203252033,\n",
       " 0.09448818897637794,\n",
       " 0.14530612244897953]"
      ]
     },
     "execution_count": 1045,
     "metadata": {},
     "output_type": "execute_result"
    }
   ],
   "source": [
    "second_returns = returns(new_frame, second_transactions)\n",
    "second_returns"
   ]
  },
  {
   "cell_type": "code",
   "execution_count": 1046,
   "metadata": {},
   "outputs": [
    {
     "data": {
      "text/plain": [
       "1174"
      ]
     },
     "execution_count": 1046,
     "metadata": {},
     "output_type": "execute_result"
    }
   ],
   "source": [
    "new_frame.shape[0]"
   ]
  },
  {
   "cell_type": "code",
   "execution_count": 1047,
   "metadata": {},
   "outputs": [
    {
     "data": {
      "text/plain": [
       "573"
      ]
     },
     "execution_count": 1047,
     "metadata": {},
     "output_type": "execute_result"
    }
   ],
   "source": [
    "sum([t[1]-t[0] for t in first_transactions])"
   ]
  },
  {
   "cell_type": "code",
   "execution_count": 1048,
   "metadata": {},
   "outputs": [
    {
     "data": {
      "text/plain": [
       "556"
      ]
     },
     "execution_count": 1048,
     "metadata": {},
     "output_type": "execute_result"
    }
   ],
   "source": [
    "sum([t[1]-t[0] for t in second_transactions])"
   ]
  },
  {
   "cell_type": "code",
   "execution_count": 1049,
   "metadata": {},
   "outputs": [],
   "source": [
    "def prod(list_of_all_returns):\n",
    "    return np.prod([ret+1 for ret in list_of_all_returns]) "
   ]
  },
  {
   "cell_type": "code",
   "execution_count": 1050,
   "metadata": {},
   "outputs": [
    {
     "data": {
      "text/plain": [
       "11.976401477421598"
      ]
     },
     "execution_count": 1050,
     "metadata": {},
     "output_type": "execute_result"
    }
   ],
   "source": [
    "first_cum_return = prod(first_returns)\n",
    "first_cum_return"
   ]
  },
  {
   "cell_type": "code",
   "execution_count": 1051,
   "metadata": {},
   "outputs": [
    {
     "data": {
      "text/plain": [
       "13.702481059090225"
      ]
     },
     "execution_count": 1051,
     "metadata": {},
     "output_type": "execute_result"
    }
   ],
   "source": [
    "second_cum_return  = prod(second_returns)\n",
    "second_cum_return"
   ]
  },
  {
   "cell_type": "code",
   "execution_count": 1052,
   "metadata": {},
   "outputs": [
    {
     "data": {
      "text/plain": [
       "12.83944126825591"
      ]
     },
     "execution_count": 1052,
     "metadata": {},
     "output_type": "execute_result"
    }
   ],
   "source": [
    "totalReturn = (first_cum_return + second_cum_return) / 2\n",
    "totalReturn"
   ]
  },
  {
   "cell_type": "code",
   "execution_count": 1053,
   "metadata": {},
   "outputs": [
    {
     "data": {
      "text/html": [
       "<div>\n",
       "<style scoped>\n",
       "    .dataframe tbody tr th:only-of-type {\n",
       "        vertical-align: middle;\n",
       "    }\n",
       "\n",
       "    .dataframe tbody tr th {\n",
       "        vertical-align: top;\n",
       "    }\n",
       "\n",
       "    .dataframe thead th {\n",
       "        text-align: right;\n",
       "    }\n",
       "</style>\n",
       "<table border=\"1\" class=\"dataframe\">\n",
       "  <thead>\n",
       "    <tr style=\"text-align: right;\">\n",
       "      <th></th>\n",
       "      <th>MA_7</th>\n",
       "      <th>MA_14</th>\n",
       "      <th>MA_50</th>\n",
       "      <th>MA_100</th>\n",
       "      <th>MA_200</th>\n",
       "      <th>MA_7_50</th>\n",
       "      <th>MA_14_100</th>\n",
       "      <th>MA_50_200</th>\n",
       "      <th>StockValue</th>\n",
       "      <th>rec_1</th>\n",
       "      <th>rec_2</th>\n",
       "    </tr>\n",
       "  </thead>\n",
       "  <tbody>\n",
       "    <tr>\n",
       "      <th>2020-05-21</th>\n",
       "      <td>13.907487</td>\n",
       "      <td>13.422845</td>\n",
       "      <td>10.125435</td>\n",
       "      <td>9.691326</td>\n",
       "      <td>8.066259</td>\n",
       "      <td>3.782052</td>\n",
       "      <td>3.731519</td>\n",
       "      <td>2.059177</td>\n",
       "      <td>14.50</td>\n",
       "      <td>BUY</td>\n",
       "      <td>BUY</td>\n",
       "    </tr>\n",
       "    <tr>\n",
       "      <th>2020-05-22</th>\n",
       "      <td>13.999640</td>\n",
       "      <td>13.558054</td>\n",
       "      <td>10.253294</td>\n",
       "      <td>9.753248</td>\n",
       "      <td>8.110563</td>\n",
       "      <td>3.746346</td>\n",
       "      <td>3.804806</td>\n",
       "      <td>2.142731</td>\n",
       "      <td>14.15</td>\n",
       "      <td>BUY</td>\n",
       "      <td>BUY</td>\n",
       "    </tr>\n",
       "    <tr>\n",
       "      <th>2020-05-27</th>\n",
       "      <td>14.083256</td>\n",
       "      <td>13.682636</td>\n",
       "      <td>10.384367</td>\n",
       "      <td>9.814772</td>\n",
       "      <td>8.154894</td>\n",
       "      <td>3.698889</td>\n",
       "      <td>3.867864</td>\n",
       "      <td>2.229474</td>\n",
       "      <td>14.35</td>\n",
       "      <td>BUY</td>\n",
       "      <td>BUY</td>\n",
       "    </tr>\n",
       "    <tr>\n",
       "      <th>2020-05-28</th>\n",
       "      <td>14.158334</td>\n",
       "      <td>13.795030</td>\n",
       "      <td>10.518374</td>\n",
       "      <td>9.875780</td>\n",
       "      <td>8.199185</td>\n",
       "      <td>3.639960</td>\n",
       "      <td>3.919250</td>\n",
       "      <td>2.319189</td>\n",
       "      <td>15.48</td>\n",
       "      <td>BUY</td>\n",
       "      <td>BUY</td>\n",
       "    </tr>\n",
       "    <tr>\n",
       "      <th>2020-05-29</th>\n",
       "      <td>14.224875</td>\n",
       "      <td>13.896981</td>\n",
       "      <td>10.654811</td>\n",
       "      <td>9.936198</td>\n",
       "      <td>8.243376</td>\n",
       "      <td>3.570064</td>\n",
       "      <td>3.960784</td>\n",
       "      <td>2.411435</td>\n",
       "      <td>14.75</td>\n",
       "      <td>BUY</td>\n",
       "      <td>BUY</td>\n",
       "    </tr>\n",
       "    <tr>\n",
       "      <th>2020-06-01</th>\n",
       "      <td>14.282877</td>\n",
       "      <td>13.988487</td>\n",
       "      <td>10.793172</td>\n",
       "      <td>9.995841</td>\n",
       "      <td>8.287417</td>\n",
       "      <td>3.489705</td>\n",
       "      <td>3.992646</td>\n",
       "      <td>2.505755</td>\n",
       "      <td>14.50</td>\n",
       "      <td>BUY</td>\n",
       "      <td>BUY</td>\n",
       "    </tr>\n",
       "    <tr>\n",
       "      <th>2020-06-02</th>\n",
       "      <td>14.332342</td>\n",
       "      <td>14.069181</td>\n",
       "      <td>10.933105</td>\n",
       "      <td>10.054698</td>\n",
       "      <td>8.331295</td>\n",
       "      <td>3.399238</td>\n",
       "      <td>4.014482</td>\n",
       "      <td>2.601809</td>\n",
       "      <td>15.02</td>\n",
       "      <td>BUY</td>\n",
       "      <td>BUY</td>\n",
       "    </tr>\n",
       "    <tr>\n",
       "      <th>2020-06-03</th>\n",
       "      <td>14.373270</td>\n",
       "      <td>14.140378</td>\n",
       "      <td>11.074169</td>\n",
       "      <td>10.112628</td>\n",
       "      <td>8.375016</td>\n",
       "      <td>3.299100</td>\n",
       "      <td>4.027751</td>\n",
       "      <td>2.699153</td>\n",
       "      <td>14.63</td>\n",
       "      <td>BUY</td>\n",
       "      <td>BUY</td>\n",
       "    </tr>\n",
       "    <tr>\n",
       "      <th>2020-06-04</th>\n",
       "      <td>14.405659</td>\n",
       "      <td>14.202650</td>\n",
       "      <td>11.216181</td>\n",
       "      <td>10.169625</td>\n",
       "      <td>8.418537</td>\n",
       "      <td>3.189478</td>\n",
       "      <td>4.033025</td>\n",
       "      <td>2.797644</td>\n",
       "      <td>14.60</td>\n",
       "      <td>BUY</td>\n",
       "      <td>BUY</td>\n",
       "    </tr>\n",
       "    <tr>\n",
       "      <th>2020-06-05</th>\n",
       "      <td>14.429511</td>\n",
       "      <td>14.256384</td>\n",
       "      <td>11.359055</td>\n",
       "      <td>10.225594</td>\n",
       "      <td>8.461881</td>\n",
       "      <td>3.070457</td>\n",
       "      <td>4.030790</td>\n",
       "      <td>2.897174</td>\n",
       "      <td>14.56</td>\n",
       "      <td>BUY</td>\n",
       "      <td>BUY</td>\n",
       "    </tr>\n",
       "    <tr>\n",
       "      <th>2020-06-08</th>\n",
       "      <td>14.444826</td>\n",
       "      <td>14.301580</td>\n",
       "      <td>11.502072</td>\n",
       "      <td>10.280425</td>\n",
       "      <td>8.504984</td>\n",
       "      <td>2.942754</td>\n",
       "      <td>4.021155</td>\n",
       "      <td>2.997088</td>\n",
       "      <td>14.07</td>\n",
       "      <td>SELL</td>\n",
       "      <td>BUY</td>\n",
       "    </tr>\n",
       "    <tr>\n",
       "      <th>2020-06-09</th>\n",
       "      <td>14.451602</td>\n",
       "      <td>14.338238</td>\n",
       "      <td>11.644780</td>\n",
       "      <td>10.334068</td>\n",
       "      <td>8.547830</td>\n",
       "      <td>2.806822</td>\n",
       "      <td>4.004170</td>\n",
       "      <td>3.096950</td>\n",
       "      <td>14.67</td>\n",
       "      <td>SELL</td>\n",
       "      <td>BUY</td>\n",
       "    </tr>\n",
       "    <tr>\n",
       "      <th>2020-06-10</th>\n",
       "      <td>14.449841</td>\n",
       "      <td>14.366359</td>\n",
       "      <td>11.786529</td>\n",
       "      <td>10.386580</td>\n",
       "      <td>8.590395</td>\n",
       "      <td>2.663313</td>\n",
       "      <td>3.979779</td>\n",
       "      <td>3.196134</td>\n",
       "      <td>14.41</td>\n",
       "      <td>SELL</td>\n",
       "      <td>BUY</td>\n",
       "    </tr>\n",
       "    <tr>\n",
       "      <th>2020-06-11</th>\n",
       "      <td>14.439542</td>\n",
       "      <td>14.385942</td>\n",
       "      <td>11.926652</td>\n",
       "      <td>10.437832</td>\n",
       "      <td>8.632643</td>\n",
       "      <td>2.512891</td>\n",
       "      <td>3.948110</td>\n",
       "      <td>3.294009</td>\n",
       "      <td>14.06</td>\n",
       "      <td>SELL</td>\n",
       "      <td>BUY</td>\n",
       "    </tr>\n",
       "    <tr>\n",
       "      <th>2020-06-12</th>\n",
       "      <td>14.420706</td>\n",
       "      <td>14.396988</td>\n",
       "      <td>12.065324</td>\n",
       "      <td>10.487982</td>\n",
       "      <td>8.674490</td>\n",
       "      <td>2.355382</td>\n",
       "      <td>3.909006</td>\n",
       "      <td>3.390835</td>\n",
       "      <td>13.87</td>\n",
       "      <td>SELL</td>\n",
       "      <td>BUY</td>\n",
       "    </tr>\n",
       "    <tr>\n",
       "      <th>2020-06-15</th>\n",
       "      <td>14.393332</td>\n",
       "      <td>14.399496</td>\n",
       "      <td>12.202136</td>\n",
       "      <td>10.537121</td>\n",
       "      <td>8.715884</td>\n",
       "      <td>2.191196</td>\n",
       "      <td>3.862375</td>\n",
       "      <td>3.486252</td>\n",
       "      <td>14.19</td>\n",
       "      <td>SELL</td>\n",
       "      <td>BUY</td>\n",
       "    </tr>\n",
       "    <tr>\n",
       "      <th>2020-06-16</th>\n",
       "      <td>14.357420</td>\n",
       "      <td>14.393466</td>\n",
       "      <td>12.335768</td>\n",
       "      <td>10.585220</td>\n",
       "      <td>8.756810</td>\n",
       "      <td>2.021652</td>\n",
       "      <td>3.808246</td>\n",
       "      <td>3.578958</td>\n",
       "      <td>14.08</td>\n",
       "      <td>SELL</td>\n",
       "      <td>BUY</td>\n",
       "    </tr>\n",
       "    <tr>\n",
       "      <th>2020-06-17</th>\n",
       "      <td>14.312971</td>\n",
       "      <td>14.378898</td>\n",
       "      <td>12.464662</td>\n",
       "      <td>10.632297</td>\n",
       "      <td>8.797230</td>\n",
       "      <td>1.848309</td>\n",
       "      <td>3.746601</td>\n",
       "      <td>3.667432</td>\n",
       "      <td>13.98</td>\n",
       "      <td>SELL</td>\n",
       "      <td>BUY</td>\n",
       "    </tr>\n",
       "    <tr>\n",
       "      <th>2020-06-18</th>\n",
       "      <td>14.259984</td>\n",
       "      <td>14.355793</td>\n",
       "      <td>12.587796</td>\n",
       "      <td>10.678141</td>\n",
       "      <td>8.837100</td>\n",
       "      <td>1.672187</td>\n",
       "      <td>3.677652</td>\n",
       "      <td>3.750696</td>\n",
       "      <td>14.03</td>\n",
       "      <td>SELL</td>\n",
       "      <td>SELL</td>\n",
       "    </tr>\n",
       "    <tr>\n",
       "      <th>2020-06-19</th>\n",
       "      <td>14.198459</td>\n",
       "      <td>14.324150</td>\n",
       "      <td>12.705215</td>\n",
       "      <td>10.722698</td>\n",
       "      <td>8.876363</td>\n",
       "      <td>1.493243</td>\n",
       "      <td>3.601452</td>\n",
       "      <td>3.828852</td>\n",
       "      <td>14.06</td>\n",
       "      <td>SELL</td>\n",
       "      <td>SELL</td>\n",
       "    </tr>\n",
       "  </tbody>\n",
       "</table>\n",
       "</div>"
      ],
      "text/plain": [
       "                 MA_7      MA_14      MA_50     MA_100    MA_200   MA_7_50  \\\n",
       "2020-05-21  13.907487  13.422845  10.125435   9.691326  8.066259  3.782052   \n",
       "2020-05-22  13.999640  13.558054  10.253294   9.753248  8.110563  3.746346   \n",
       "2020-05-27  14.083256  13.682636  10.384367   9.814772  8.154894  3.698889   \n",
       "2020-05-28  14.158334  13.795030  10.518374   9.875780  8.199185  3.639960   \n",
       "2020-05-29  14.224875  13.896981  10.654811   9.936198  8.243376  3.570064   \n",
       "2020-06-01  14.282877  13.988487  10.793172   9.995841  8.287417  3.489705   \n",
       "2020-06-02  14.332342  14.069181  10.933105  10.054698  8.331295  3.399238   \n",
       "2020-06-03  14.373270  14.140378  11.074169  10.112628  8.375016  3.299100   \n",
       "2020-06-04  14.405659  14.202650  11.216181  10.169625  8.418537  3.189478   \n",
       "2020-06-05  14.429511  14.256384  11.359055  10.225594  8.461881  3.070457   \n",
       "2020-06-08  14.444826  14.301580  11.502072  10.280425  8.504984  2.942754   \n",
       "2020-06-09  14.451602  14.338238  11.644780  10.334068  8.547830  2.806822   \n",
       "2020-06-10  14.449841  14.366359  11.786529  10.386580  8.590395  2.663313   \n",
       "2020-06-11  14.439542  14.385942  11.926652  10.437832  8.632643  2.512891   \n",
       "2020-06-12  14.420706  14.396988  12.065324  10.487982  8.674490  2.355382   \n",
       "2020-06-15  14.393332  14.399496  12.202136  10.537121  8.715884  2.191196   \n",
       "2020-06-16  14.357420  14.393466  12.335768  10.585220  8.756810  2.021652   \n",
       "2020-06-17  14.312971  14.378898  12.464662  10.632297  8.797230  1.848309   \n",
       "2020-06-18  14.259984  14.355793  12.587796  10.678141  8.837100  1.672187   \n",
       "2020-06-19  14.198459  14.324150  12.705215  10.722698  8.876363  1.493243   \n",
       "\n",
       "            MA_14_100  MA_50_200  StockValue rec_1 rec_2  \n",
       "2020-05-21   3.731519   2.059177       14.50   BUY   BUY  \n",
       "2020-05-22   3.804806   2.142731       14.15   BUY   BUY  \n",
       "2020-05-27   3.867864   2.229474       14.35   BUY   BUY  \n",
       "2020-05-28   3.919250   2.319189       15.48   BUY   BUY  \n",
       "2020-05-29   3.960784   2.411435       14.75   BUY   BUY  \n",
       "2020-06-01   3.992646   2.505755       14.50   BUY   BUY  \n",
       "2020-06-02   4.014482   2.601809       15.02   BUY   BUY  \n",
       "2020-06-03   4.027751   2.699153       14.63   BUY   BUY  \n",
       "2020-06-04   4.033025   2.797644       14.60   BUY   BUY  \n",
       "2020-06-05   4.030790   2.897174       14.56   BUY   BUY  \n",
       "2020-06-08   4.021155   2.997088       14.07  SELL   BUY  \n",
       "2020-06-09   4.004170   3.096950       14.67  SELL   BUY  \n",
       "2020-06-10   3.979779   3.196134       14.41  SELL   BUY  \n",
       "2020-06-11   3.948110   3.294009       14.06  SELL   BUY  \n",
       "2020-06-12   3.909006   3.390835       13.87  SELL   BUY  \n",
       "2020-06-15   3.862375   3.486252       14.19  SELL   BUY  \n",
       "2020-06-16   3.808246   3.578958       14.08  SELL   BUY  \n",
       "2020-06-17   3.746601   3.667432       13.98  SELL   BUY  \n",
       "2020-06-18   3.677652   3.750696       14.03  SELL  SELL  \n",
       "2020-06-19   3.601452   3.828852       14.06  SELL  SELL  "
      ]
     },
     "execution_count": 1053,
     "metadata": {},
     "output_type": "execute_result"
    }
   ],
   "source": [
    "new_frame.iloc[-20:,:]"
   ]
  },
  {
   "cell_type": "code",
   "execution_count": null,
   "metadata": {},
   "outputs": [],
   "source": []
  },
  {
   "cell_type": "code",
   "execution_count": null,
   "metadata": {},
   "outputs": [],
   "source": []
  },
  {
   "cell_type": "code",
   "execution_count": null,
   "metadata": {},
   "outputs": [],
   "source": []
  },
  {
   "cell_type": "code",
   "execution_count": null,
   "metadata": {},
   "outputs": [],
   "source": []
  },
  {
   "cell_type": "code",
   "execution_count": null,
   "metadata": {},
   "outputs": [],
   "source": []
  },
  {
   "cell_type": "code",
   "execution_count": null,
   "metadata": {},
   "outputs": [],
   "source": []
  },
  {
   "cell_type": "code",
   "execution_count": null,
   "metadata": {},
   "outputs": [],
   "source": []
  },
  {
   "cell_type": "code",
   "execution_count": null,
   "metadata": {},
   "outputs": [],
   "source": []
  },
  {
   "cell_type": "code",
   "execution_count": null,
   "metadata": {},
   "outputs": [],
   "source": []
  },
  {
   "cell_type": "code",
   "execution_count": null,
   "metadata": {},
   "outputs": [],
   "source": []
  }
 ],
 "metadata": {
  "kernelspec": {
   "display_name": "my_env_stock",
   "language": "python",
   "name": "my_env_stock"
  },
  "language_info": {
   "codemirror_mode": {
    "name": "ipython",
    "version": 3
   },
   "file_extension": ".py",
   "mimetype": "text/x-python",
   "name": "python",
   "nbconvert_exporter": "python",
   "pygments_lexer": "ipython3",
   "version": "3.7.6"
  }
 },
 "nbformat": 4,
 "nbformat_minor": 4
}
