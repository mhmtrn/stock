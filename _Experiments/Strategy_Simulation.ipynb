{
 "cells": [
  {
   "cell_type": "code",
   "execution_count": 3,
   "metadata": {},
   "outputs": [],
   "source": [
    "import numpy as np\n",
    "import pandas as pd\n",
    "import matplotlib.pyplot as plt\n",
    "import seaborn as sns\n",
    "import stock_module as sm\n",
    "import random\n",
    "import os\n",
    "import datetime\n",
    "import time\n",
    "import openpyxl\n",
    "from sklearn.preprocessing import scale\n",
    "from scipy.signal import savgol_filter"
   ]
  },
  {
   "cell_type": "code",
   "execution_count": 4,
   "metadata": {},
   "outputs": [],
   "source": [
    "def remove_noise(frame, first_par, second_par):\n",
    "    w_out_noise = savgol_filter(frame[\"StockValue\"], first_par, second_par)\n",
    "    frame[\"StockValue\"] = w_out_noise\n",
    "    frame_f = frame[[\"StockValue\"]]\n",
    "    return frame_f"
   ]
  },
  {
   "cell_type": "code",
   "execution_count": 5,
   "metadata": {},
   "outputs": [],
   "source": [
    "def ma_columns(frame_column, list_ma):\n",
    "    MAs = [] \n",
    "    for ma in list_ma:\n",
    "        MA = pd.DataFrame(sm.short_moving_average(frame_column, ma)[\"StockValue\"]).rename(columns={\"StockValue\": f\"MA_{ma}\"})\n",
    "        MAs.append(MA)\n",
    "        \n",
    "    frame = MAs[0].join(MAs[1])\n",
    "    for i in range(len(MAs)-2):\n",
    "        frame = frame.join(MAs[i+2])\n",
    "    \n",
    "    frame = frame.dropna()\n",
    "    \n",
    "    return frame"
   ]
  },
  {
   "cell_type": "code",
   "execution_count": 101,
   "metadata": {},
   "outputs": [],
   "source": [
    "def buy_sell_recommendations(new_frame):\n",
    "    new_frame['rec_1'] = np.where(((new_frame['MA_7_50']>=0) & (new_frame['MA_7_50']*1 > new_frame[\"MA_50_200\"]*0.8))\n",
    "                                  | ((new_frame['MA_7_50']<0) & (new_frame['MA_7_50']*0.8 > new_frame[\"MA_50_200\"]*1))\n",
    "                                         ,\"BUY\", \"SELL\")\n",
    "    \n",
    "    new_frame['rec_2'] = np.where(((new_frame['MA_14_100']>=0) & (new_frame['MA_14_100']*1 > new_frame[\"MA_50_200\"]*0.8))\n",
    "                              | ((new_frame['MA_14_100']<0) & (new_frame['MA_14_100']*0.8 > new_frame[\"MA_50_200\"]*1))\n",
    "                                     ,\"BUY\", \"SELL\")\n",
    "    \n",
    "    return new_frame"
   ]
  },
  {
   "cell_type": "code",
   "execution_count": 7,
   "metadata": {},
   "outputs": [],
   "source": [
    "def get_locations(new_frame):\n",
    "    loc_first=[]\n",
    "    for row in range(new_frame.shape[0]-1):\n",
    "\n",
    "            if new_frame.iloc[row,:].rec_1 == \"SELL\":\n",
    "                if new_frame.iloc[row+1,:].rec_1 == \"BUY\":\n",
    "                    start = row+1\n",
    "                    loc_first.append(start)\n",
    "\n",
    "            if new_frame.iloc[row,:].rec_1 == \"BUY\":\n",
    "                if new_frame.iloc[row+1,:].rec_1 == \"SELL\":\n",
    "                    end = row+2\n",
    "                    loc_first.append(end)\n",
    "                    \n",
    "    loc_second=[]\n",
    "    for row in range(new_frame.shape[0]-1):\n",
    "\n",
    "        if new_frame.iloc[row,:].rec_2 == \"SELL\":\n",
    "            if new_frame.iloc[row+1,:].rec_2 == \"BUY\":\n",
    "                start = row+1\n",
    "                loc_second.append(start)\n",
    "\n",
    "        if new_frame.iloc[row,:].rec_2 == \"BUY\":\n",
    "            if new_frame.iloc[row+1,:].rec_2 == \"SELL\":\n",
    "                end = row+2\n",
    "                loc_second.append(end)\n",
    "                \n",
    "    return [loc_first, loc_second]"
   ]
  },
  {
   "cell_type": "code",
   "execution_count": 8,
   "metadata": {},
   "outputs": [],
   "source": [
    "def get_transactions(new_frame, column, locations):\n",
    "    if new_frame.iloc[0,:][str(column)] == \"SELL\":\n",
    "        transactions = [[locations[buy], locations[sell]] for buy, sell in zip(range(0,len(locations),2), range(1,len(locations),2))]\n",
    "    else:\n",
    "        transactions = [[locations[buy], locations[sell]] for buy, sell in zip(range(1,len(locations),2), range(2,len(locations),2))]\n",
    "        transactions.insert(0, [0, locations[0]])\n",
    "\n",
    "    return transactions"
   ]
  },
  {
   "cell_type": "code",
   "execution_count": 9,
   "metadata": {},
   "outputs": [],
   "source": [
    "def returns(new_frame, list_of_transactions):\n",
    "    returns = []\n",
    "    for transactions in list_of_transactions:\n",
    "        buy = list(new_frame.iloc[transactions[0]:transactions[1],:][\"StockValue\"])[0]\n",
    "        sell = list(new_frame.iloc[transactions[0]:transactions[1],:][\"StockValue\"])[-1]\n",
    "        ret = (sell-buy)/buy\n",
    "        returns.append(ret)\n",
    "    \n",
    "    return returns"
   ]
  },
  {
   "cell_type": "code",
   "execution_count": 10,
   "metadata": {},
   "outputs": [],
   "source": [
    "def prod(list_of_all_returns):\n",
    "    return np.prod([ret+1 for ret in list_of_all_returns]) "
   ]
  },
  {
   "cell_type": "code",
   "execution_count": 11,
   "metadata": {},
   "outputs": [],
   "source": [
    "def get_only_frame(stock_name, start_date, end_date, ma_list, noise_first_par, noise_second_par):\n",
    "    frame = sm.extract_stock_values(start_date, end_date, [stock_name])\n",
    "    frame = frame.drop_duplicates(subset=[\"HGDG_HS_KODU\", \"HGDG_TARIH\"], keep=\"last\")\n",
    "    frame = frame.rename(columns={\"HGDG_KAPANIS\": \"StockValue\"})\n",
    "    frame = frame.sort_values(by=[\"HGDG_TARIH\"])\n",
    "    frame = frame.reset_index(drop=True)\n",
    "    frame.to_pickle(stock_name)\n",
    "    \n",
    "    frame_f = remove_noise(frame, noise_first_par, noise_second_par)\n",
    "    new_frame = ma_columns(frame_f, ma_list)\n",
    "    \n",
    "    new_frame[\"MA_7_50\"] = new_frame[\"MA_7\"] - new_frame[\"MA_50\"]\n",
    "    new_frame[\"MA_14_100\"] = new_frame[\"MA_14\"] - new_frame[\"MA_100\"]\n",
    "    new_frame[\"MA_50_200\"] = new_frame[\"MA_50\"] - new_frame[\"MA_200\"]\n",
    "    \n",
    "    frame = pd.read_pickle(stock_name)\n",
    "    frame = frame[[\"HGDG_TARIH\", \"StockValue\"]]\n",
    "    new_frame = new_frame.join(frame)\n",
    "    \n",
    "    new_frame = buy_sell_recommendations(new_frame)\n",
    "    new_frame = new_frame.rename(columns={\"HGDG_TARIH\": \"Date\"})\n",
    "    \n",
    "    return new_frame"
   ]
  },
  {
   "cell_type": "code",
   "execution_count": 12,
   "metadata": {},
   "outputs": [],
   "source": [
    "def convert_date(date):\n",
    "    return datetime.datetime.strptime(date, \"%d-%m-%Y\")"
   ]
  },
  {
   "cell_type": "code",
   "execution_count": 13,
   "metadata": {},
   "outputs": [],
   "source": [
    "def convert_str_from_date(date: str):\n",
    "    return datetime.datetime.strftime(date, \"%d-%m-%Y\")"
   ]
  },
  {
   "cell_type": "code",
   "execution_count": 14,
   "metadata": {},
   "outputs": [],
   "source": [
    "def increment_date(date:str, increment_day:int):\n",
    "    date = convert_date(date)\n",
    "    date = date + datetime.timedelta(days=increment_day)\n",
    "    date = convert_str_from_date(date)\n",
    "    \n",
    "    return date"
   ]
  },
  {
   "cell_type": "code",
   "execution_count": 15,
   "metadata": {},
   "outputs": [
    {
     "data": {
      "text/plain": [
       "'03-01-2015'"
      ]
     },
     "execution_count": 15,
     "metadata": {},
     "output_type": "execute_result"
    }
   ],
   "source": [
    "increment_date(\"01-01-2015\", 2)"
   ]
  },
  {
   "cell_type": "code",
   "execution_count": 16,
   "metadata": {},
   "outputs": [],
   "source": [
    "def simulation(stock_name, start_date, end_date, ma_list, noise_first_par, noise_second_par):\n",
    "    \n",
    "    frame = sm.extract_stock_values(start_date, end_date, [stock_name])\n",
    "    frame = frame.drop_duplicates(subset=[\"HGDG_HS_KODU\", \"HGDG_TARIH\"], keep=\"last\")\n",
    "    frame = frame.rename(columns={\"HGDG_KAPANIS\": \"StockValue\"})\n",
    "    frame = frame.sort_values(by=[\"HGDG_TARIH\"])\n",
    "    frame = frame.reset_index(drop=True)\n",
    "    frame.to_pickle(stock_name)\n",
    "    \n",
    "    frame_f = remove_noise(frame, noise_first_par, noise_second_par)\n",
    "    new_frame = ma_columns(frame_f, ma_list)\n",
    "    \n",
    "    new_frame[\"MA_7_50\"] = new_frame[\"MA_7\"] - new_frame[\"MA_50\"]\n",
    "    new_frame[\"MA_14_100\"] = new_frame[\"MA_14\"] - new_frame[\"MA_100\"]\n",
    "    new_frame[\"MA_50_200\"] = new_frame[\"MA_50\"] - new_frame[\"MA_200\"]\n",
    "    \n",
    "    frame = pd.read_pickle(stock_name)\n",
    "    frame = frame[[\"HGDG_TARIH\", \"StockValue\"]]\n",
    "    new_frame = new_frame.join(frame)\n",
    "    \n",
    "    new_frame = buy_sell_recommendations(new_frame)\n",
    "    new_frame = new_frame.rename(columns={\"HGDG_TARIH\": \"Date\"})\n",
    "    \n",
    "    loc_first = get_locations(new_frame)[0]\n",
    "    loc_second = get_locations(new_frame)[1]\n",
    "    \n",
    "    first_transactions = get_transactions(new_frame, \"rec_1\", loc_first)\n",
    "    second_transactions = get_transactions(new_frame, \"rec_2\", loc_second)\n",
    "\n",
    "    first_returns = returns(new_frame, first_transactions)\n",
    "    second_returns = returns(new_frame, second_transactions)\n",
    "    \n",
    "    first_cum_return = prod(first_returns)\n",
    "    print(f\"Final position of first transactions : {first_cum_return}\")\n",
    "    print(f\"Duration (days) - total length       : {sum([t[1]-t[0] for t in first_transactions])} - {new_frame.shape[0]}\")\n",
    "    print(f\"Returns of first transactions        : {[round(first,3) for first in first_returns]}\")\n",
    "    print(f\"Locations of first transactions      : {first_transactions}\")\n",
    "    print(\"-\"*85)\n",
    "    \n",
    "    second_cum_return  = prod(second_returns)\n",
    "    print(f\"Final position of second transactions: {second_cum_return}\")\n",
    "    print(f\"Duration (days) - total length       : {sum([t[1]-t[0] for t in second_transactions])} - {new_frame.shape[0]}\")\n",
    "    print(f\"Returns of second transactions       : {[round(second,3) for second in second_returns]}\")\n",
    "    print(f\"Locations of second transactions     : {second_transactions}\")\n",
    "    print(\"-\"*85)\n",
    "\n",
    "    totalReturn = (first_cum_return + second_cum_return) / 2\n",
    "    print(f\"Ultimate position : {totalReturn}\")\n",
    "    \n",
    "    return totalReturn"
   ]
  },
  {
   "cell_type": "markdown",
   "metadata": {},
   "source": [
    "---"
   ]
  },
  {
   "cell_type": "code",
   "execution_count": 44,
   "metadata": {},
   "outputs": [],
   "source": [
    "def get_only_frame_simulation(stock_name, start_date, end_date, ma_list, noise_first_par, noise_second_par):\n",
    "    \n",
    "    frame = pd.read_pickle(stock_name)\n",
    "    start_date = convert_date(start_date)\n",
    "    end_date = convert_date(end_date)\n",
    "    frame = frame[(frame.HGDG_TARIH < end_date) & (frame.HGDG_TARIH > start_date)]\n",
    "    \n",
    "    frame_f = remove_noise(frame, noise_first_par, noise_second_par)\n",
    "    new_frame = ma_columns(frame_f, ma_list)\n",
    "    \n",
    "    new_frame[\"MA_7_50\"] = new_frame[\"MA_7\"] - new_frame[\"MA_50\"]\n",
    "    new_frame[\"MA_14_100\"] = new_frame[\"MA_14\"] - new_frame[\"MA_100\"]\n",
    "    new_frame[\"MA_50_200\"] = new_frame[\"MA_50\"] - new_frame[\"MA_200\"]\n",
    "    \n",
    "    frame = pd.read_pickle(stock_name)\n",
    "    frame = frame[[\"HGDG_TARIH\", \"StockValue\"]]\n",
    "    new_frame = new_frame.join(frame)\n",
    "    \n",
    "    new_frame = buy_sell_recommendations(new_frame)\n",
    "    new_frame = new_frame.rename(columns={\"HGDG_TARIH\": \"Date\"})\n",
    "    \n",
    "    return new_frame"
   ]
  },
  {
   "cell_type": "code",
   "execution_count": 45,
   "metadata": {},
   "outputs": [],
   "source": [
    "def extract_and_store(stock_name, start_date, end_date):\n",
    "    frame = sm.extract_stock_values(start_date, end_date, [stock_name])\n",
    "    frame = frame.drop_duplicates(subset=[\"HGDG_HS_KODU\", \"HGDG_TARIH\"], keep=\"last\")\n",
    "    frame = frame.rename(columns={\"HGDG_KAPANIS\": \"StockValue\"})\n",
    "    frame = frame.sort_values(by=[\"HGDG_TARIH\"])\n",
    "    frame = frame.reset_index(drop=True)\n",
    "    frame.to_pickle(stock_name)"
   ]
  },
  {
   "cell_type": "code",
   "execution_count": null,
   "metadata": {},
   "outputs": [],
   "source": [
    "stock_name = \"TKFEN\"\n",
    "ma_list=[7,14,50,100,200]\n",
    "noise_first_par = 71\n",
    "noise_second_par = 2\n",
    "\n",
    "general_startDate = \"31-01-2000\"\n",
    "general_endDate = \"31-12-2020\"\n",
    "\n",
    "start_date = \"01-01-2013\"\n",
    "first_end_date = \"01-12-2017\""
   ]
  },
  {
   "cell_type": "code",
   "execution_count": null,
   "metadata": {},
   "outputs": [],
   "source": [
    "# extract stock values and store\n",
    "extract_and_store(stock_name, general_startDate, general_endDate)"
   ]
  },
  {
   "cell_type": "code",
   "execution_count": null,
   "metadata": {
    "scrolled": true
   },
   "outputs": [],
   "source": [
    "observations = []\n",
    "for i in range(1000):\n",
    "    frame = pd.read_pickle(stock_name)\n",
    "    print(first_end_date)\n",
    "    if frame[frame[\"HGDG_TARIH\"] == first_end_date].shape[0] == 1:\n",
    "        frame = get_only_frame_simulation(stock_name, start_date, first_end_date, ma_list, noise_first_par, noise_second_par)\n",
    "        observations.append(frame.iloc[-1,:])\n",
    "    else:\n",
    "        observations = observations\n",
    "    first_end_date = increment_date(first_end_date, 1)"
   ]
  },
  {
   "cell_type": "code",
   "execution_count": null,
   "metadata": {},
   "outputs": [],
   "source": [
    "final_frame = pd.concat(observations, axis=1)"
   ]
  },
  {
   "cell_type": "code",
   "execution_count": null,
   "metadata": {},
   "outputs": [],
   "source": [
    "final_frame = final_frame.T"
   ]
  },
  {
   "cell_type": "code",
   "execution_count": null,
   "metadata": {},
   "outputs": [],
   "source": [
    "final_frame.to_pickle(f\"{stock_name}TKFEN_Final_08_BUY_SELL\")"
   ]
  },
  {
   "cell_type": "code",
   "execution_count": 136,
   "metadata": {},
   "outputs": [],
   "source": [
    "final_frame = pd.read_pickle(\"TKFEN_Final_08_BUY_SELL\")"
   ]
  },
  {
   "cell_type": "code",
   "execution_count": 137,
   "metadata": {},
   "outputs": [
    {
     "data": {
      "text/html": [
       "<div>\n",
       "<style scoped>\n",
       "    .dataframe tbody tr th:only-of-type {\n",
       "        vertical-align: middle;\n",
       "    }\n",
       "\n",
       "    .dataframe tbody tr th {\n",
       "        vertical-align: top;\n",
       "    }\n",
       "\n",
       "    .dataframe thead th {\n",
       "        text-align: right;\n",
       "    }\n",
       "</style>\n",
       "<table border=\"1\" class=\"dataframe\">\n",
       "  <thead>\n",
       "    <tr style=\"text-align: right;\">\n",
       "      <th></th>\n",
       "      <th>MA_7</th>\n",
       "      <th>MA_14</th>\n",
       "      <th>MA_50</th>\n",
       "      <th>MA_100</th>\n",
       "      <th>MA_200</th>\n",
       "      <th>MA_7_50</th>\n",
       "      <th>MA_14_100</th>\n",
       "      <th>MA_50_200</th>\n",
       "      <th>Date</th>\n",
       "      <th>StockValue</th>\n",
       "      <th>rec_1</th>\n",
       "      <th>rec_2</th>\n",
       "    </tr>\n",
       "  </thead>\n",
       "  <tbody>\n",
       "    <tr>\n",
       "      <th>3162</th>\n",
       "      <td>16.6982</td>\n",
       "      <td>16.3036</td>\n",
       "      <td>14.6493</td>\n",
       "      <td>14.5384</td>\n",
       "      <td>16.2503</td>\n",
       "      <td>2.04892</td>\n",
       "      <td>1.76518</td>\n",
       "      <td>-1.60099</td>\n",
       "      <td>2020-06-30</td>\n",
       "      <td>17.02</td>\n",
       "      <td>BUY</td>\n",
       "      <td>BUY</td>\n",
       "    </tr>\n",
       "  </tbody>\n",
       "</table>\n",
       "</div>"
      ],
      "text/plain": [
       "         MA_7    MA_14    MA_50   MA_100   MA_200  MA_7_50 MA_14_100  \\\n",
       "3162  16.6982  16.3036  14.6493  14.5384  16.2503  2.04892   1.76518   \n",
       "\n",
       "     MA_50_200       Date StockValue rec_1 rec_2  \n",
       "3162  -1.60099 2020-06-30      17.02   BUY   BUY  "
      ]
     },
     "execution_count": 137,
     "metadata": {},
     "output_type": "execute_result"
    }
   ],
   "source": [
    "final_frame.iloc[:,:]"
   ]
  },
  {
   "cell_type": "code",
   "execution_count": 138,
   "metadata": {},
   "outputs": [
    {
     "data": {
      "text/html": [
       "<div>\n",
       "<style scoped>\n",
       "    .dataframe tbody tr th:only-of-type {\n",
       "        vertical-align: middle;\n",
       "    }\n",
       "\n",
       "    .dataframe tbody tr th {\n",
       "        vertical-align: top;\n",
       "    }\n",
       "\n",
       "    .dataframe thead th {\n",
       "        text-align: right;\n",
       "    }\n",
       "</style>\n",
       "<table border=\"1\" class=\"dataframe\">\n",
       "  <thead>\n",
       "    <tr style=\"text-align: right;\">\n",
       "      <th></th>\n",
       "      <th>MA_7</th>\n",
       "      <th>MA_14</th>\n",
       "      <th>MA_50</th>\n",
       "      <th>MA_100</th>\n",
       "      <th>MA_200</th>\n",
       "      <th>MA_7_50</th>\n",
       "      <th>MA_14_100</th>\n",
       "      <th>MA_50_200</th>\n",
       "      <th>Date</th>\n",
       "      <th>StockValue</th>\n",
       "      <th>rec_1</th>\n",
       "      <th>rec_2</th>\n",
       "    </tr>\n",
       "  </thead>\n",
       "  <tbody>\n",
       "    <tr>\n",
       "      <th>3162</th>\n",
       "      <td>16.6982</td>\n",
       "      <td>16.3036</td>\n",
       "      <td>14.6493</td>\n",
       "      <td>14.5384</td>\n",
       "      <td>16.2503</td>\n",
       "      <td>2.04892</td>\n",
       "      <td>1.76518</td>\n",
       "      <td>-1.60099</td>\n",
       "      <td>2020-06-30</td>\n",
       "      <td>17.02</td>\n",
       "      <td>BUY</td>\n",
       "      <td>BUY</td>\n",
       "    </tr>\n",
       "  </tbody>\n",
       "</table>\n",
       "</div>"
      ],
      "text/plain": [
       "         MA_7    MA_14    MA_50   MA_100   MA_200  MA_7_50 MA_14_100  \\\n",
       "3162  16.6982  16.3036  14.6493  14.5384  16.2503  2.04892   1.76518   \n",
       "\n",
       "     MA_50_200       Date StockValue rec_1 rec_2  \n",
       "3162  -1.60099 2020-06-30      17.02   BUY   BUY  "
      ]
     },
     "execution_count": 138,
     "metadata": {},
     "output_type": "execute_result"
    }
   ],
   "source": [
    "final_frame.iloc[:,:]"
   ]
  },
  {
   "cell_type": "code",
   "execution_count": 110,
   "metadata": {},
   "outputs": [
    {
     "data": {
      "text/plain": [
       "[[118, 232, 371], [123, 248, 260, 275, 387]]"
      ]
     },
     "execution_count": 110,
     "metadata": {},
     "output_type": "execute_result"
    }
   ],
   "source": [
    "get_locations(final_frame)"
   ]
  },
  {
   "cell_type": "code",
   "execution_count": 111,
   "metadata": {},
   "outputs": [
    {
     "data": {
      "text/plain": [
       "[[118, 232]]"
      ]
     },
     "execution_count": 111,
     "metadata": {},
     "output_type": "execute_result"
    }
   ],
   "source": [
    "first_transactions = get_transactions(final_frame, \"rec_1\", get_locations(final_frame)[0])\n",
    "first_transactions"
   ]
  },
  {
   "cell_type": "code",
   "execution_count": 112,
   "metadata": {},
   "outputs": [
    {
     "data": {
      "text/plain": [
       "[[123, 248], [260, 275]]"
      ]
     },
     "execution_count": 112,
     "metadata": {},
     "output_type": "execute_result"
    }
   ],
   "source": [
    "second_transactions = get_transactions(final_frame, \"rec_2\", get_locations(final_frame)[1])\n",
    "second_transactions"
   ]
  },
  {
   "cell_type": "code",
   "execution_count": 113,
   "metadata": {},
   "outputs": [
    {
     "data": {
      "text/plain": [
       "[0.13845094601726435]"
      ]
     },
     "execution_count": 113,
     "metadata": {},
     "output_type": "execute_result"
    }
   ],
   "source": [
    "first_returns = returns(final_frame, first_transactions)\n",
    "first_returns"
   ]
  },
  {
   "cell_type": "code",
   "execution_count": 114,
   "metadata": {},
   "outputs": [
    {
     "data": {
      "text/plain": [
       "[0.17591422906925946, -0.029891272212091237]"
      ]
     },
     "execution_count": 114,
     "metadata": {},
     "output_type": "execute_result"
    }
   ],
   "source": [
    "second_returns = returns(final_frame, second_transactions)\n",
    "second_returns"
   ]
  },
  {
   "cell_type": "code",
   "execution_count": 115,
   "metadata": {},
   "outputs": [],
   "source": [
    "first_cum_return = prod(first_returns)\n",
    "second_cum_return  = prod(second_returns)"
   ]
  },
  {
   "cell_type": "code",
   "execution_count": 116,
   "metadata": {},
   "outputs": [
    {
     "data": {
      "text/plain": [
       "1.1384509460172643"
      ]
     },
     "execution_count": 116,
     "metadata": {},
     "output_type": "execute_result"
    }
   ],
   "source": [
    "first_cum_return"
   ]
  },
  {
   "cell_type": "code",
   "execution_count": 117,
   "metadata": {},
   "outputs": [
    {
     "data": {
      "text/plain": [
       "1.1407646567500789"
      ]
     },
     "execution_count": 117,
     "metadata": {},
     "output_type": "execute_result"
    }
   ],
   "source": [
    "second_cum_return"
   ]
  },
  {
   "cell_type": "code",
   "execution_count": 118,
   "metadata": {},
   "outputs": [
    {
     "data": {
      "text/plain": [
       "114"
      ]
     },
     "execution_count": 118,
     "metadata": {},
     "output_type": "execute_result"
    }
   ],
   "source": [
    "sum([t[1]-t[0] for t in first_transactions])"
   ]
  },
  {
   "cell_type": "code",
   "execution_count": 119,
   "metadata": {},
   "outputs": [
    {
     "data": {
      "text/plain": [
       "140"
      ]
     },
     "execution_count": 119,
     "metadata": {},
     "output_type": "execute_result"
    }
   ],
   "source": [
    "sum([t[1]-t[0] for t in second_transactions])"
   ]
  },
  {
   "cell_type": "code",
   "execution_count": null,
   "metadata": {},
   "outputs": [],
   "source": []
  }
 ],
 "metadata": {
  "kernelspec": {
   "display_name": "my_env_stock",
   "language": "python",
   "name": "my_env_stock"
  },
  "language_info": {
   "codemirror_mode": {
    "name": "ipython",
    "version": 3
   },
   "file_extension": ".py",
   "mimetype": "text/x-python",
   "name": "python",
   "nbconvert_exporter": "python",
   "pygments_lexer": "ipython3",
   "version": "3.7.6"
  }
 },
 "nbformat": 4,
 "nbformat_minor": 4
}
